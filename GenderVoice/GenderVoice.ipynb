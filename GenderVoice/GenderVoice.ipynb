{
 "metadata": {
  "language_info": {
   "codemirror_mode": {
    "name": "ipython",
    "version": 3
   },
   "file_extension": ".py",
   "mimetype": "text/x-python",
   "name": "python",
   "nbconvert_exporter": "python",
   "pygments_lexer": "ipython3",
   "version": "3.8.5-final"
  },
  "orig_nbformat": 2,
  "kernelspec": {
   "name": "python38364bitf1372b43cc4f4495801dde180fd35903",
   "display_name": "Python 3.8.3 64-bit"
  }
 },
 "nbformat": 4,
 "nbformat_minor": 2,
 "cells": [
  {
   "cell_type": "markdown",
   "metadata": {},
   "source": [
    "Gender voice dataset\n",
    "Source : https://www.mldata.io/dataset-details/gender_voice/\n",
    "meanfreq\t-\tmean frequency (in kHz)\n",
    "\n",
    "sd\t-\tstandard deviation of frequency\n",
    "\n",
    "median - median frequency (in kHz)\n",
    "\n",
    "IQR\t-\tinterquantile range (in kHz)\n",
    "\n",
    "sp.ent\t-\tspectral entropy\n",
    "\n",
    "centroid\t-\tfrequency centroid (see specprop)\n",
    "\n",
    "minfun\t-\tminimum fundamental frequency measured across acoustic signal\n",
    "\n",
    "label\t-\tPredictor class, male or female"
   ]
  },
  {
   "cell_type": "code",
   "execution_count": 1,
   "metadata": {},
   "outputs": [],
   "source": [
    "import pandas as pd\n",
    "import numpy as np \n",
    "import matplotlib.pyplot as plt \n",
    "from sklearn.linear_model import LogisticRegression\n",
    "from sklearn.naive_bayes import GaussianNB\n",
    "from sklearn.svm import SVC\n",
    "from sklearn.neighbors import KNeighborsClassifier\n",
    "from sklearn.tree import DecisionTreeClassifier\n",
    "from sklearn.ensemble import RandomForestClassifier\n",
    "from sklearn.model_selection import train_test_split\n",
    "from sklearn.neural_network import MLPClassifier \n",
    "from sklearn.preprocessing import LabelEncoder, StandardScaler\n",
    "from sklearn.metrics import accuracy_score, classification_report, confusion_matrix\n"
   ]
  },
  {
   "cell_type": "markdown",
   "metadata": {},
   "source": [
    "### Importing the Data"
   ]
  },
  {
   "cell_type": "code",
   "execution_count": 2,
   "metadata": {},
   "outputs": [
    {
     "output_type": "execute_result",
     "data": {
      "text/plain": "      meanfreq        sd    median       Q25       Q75       IQR      skew  \\\n2137  0.187764  0.031560  0.187600  0.174618  0.202873  0.028255  2.466215   \n2190  0.194338  0.045574  0.199560  0.168411  0.225575  0.057164  1.133760   \n216   0.177642  0.059646  0.174659  0.124990  0.228148  0.103158  1.184981   \n3055  0.197638  0.040748  0.199705  0.192935  0.216253  0.023318  4.720709   \n2852  0.233744  0.029424  0.237921  0.223764  0.247360  0.023596  2.893058   \n412   0.186824  0.057162  0.198362  0.139653  0.233449  0.093797  1.021940   \n3164  0.116221  0.089221  0.076758  0.042718  0.204911  0.162193  0.693730   \n1574  0.166418  0.062124  0.141639  0.118176  0.228934  0.110758  2.284220   \n906   0.201081  0.059303  0.220291  0.136607  0.257383  0.120775  2.016638   \n1350  0.206842  0.062513  0.229494  0.142658  0.268924  0.126266  2.999798   \n\n           kurt    sp.ent       sfm  ...  centroid   meanfun    minfun  \\\n2137   8.844264  0.843168  0.225496  ...  0.187764  0.168761  0.015936   \n2190   3.210560  0.908139  0.372299  ...  0.194338  0.143627  0.046967   \n216    4.167449  0.939683  0.508660  ...  0.177642  0.120185  0.018957   \n3055  32.100238  0.827978  0.252507  ...  0.197638  0.198488  0.153846   \n2852  11.452071  0.796059  0.141941  ...  0.233744  0.202037  0.053452   \n412    3.753306  0.932726  0.465218  ...  0.186824  0.105533  0.032520   \n3164   2.503954  0.960716  0.709570  ...  0.116221  0.188980  0.034409   \n1574  10.580525  0.931208  0.478228  ...  0.166418  0.114064  0.035971   \n906    7.437046  0.890206  0.270385  ...  0.201081  0.125249  0.047198   \n1350  14.404063  0.859690  0.238468  ...  0.206842  0.141785  0.047151   \n\n        maxfun   meandom    mindom     maxdom    dfrange   modindx   label  \n2137  0.250000  0.577846  0.007812   7.000000   6.992188  0.099441  female  \n2190  0.279070  1.619141  0.023438   9.023438   9.000000  0.146205  female  \n216   0.271186  0.663125  0.093750   3.656250   3.562500  0.165427    male  \n3055  0.270270  0.461426  0.004883   0.800781   0.795898  0.415784  female  \n2852  0.277457  1.815104  0.023438  11.250000  11.226562  0.141810  female  \n412   0.238806  1.325639  0.117188   6.445312   6.328125  0.323104    male  \n3164  0.275862  0.909856  0.039062   3.679688   3.640625  0.277897  female  \n1574  0.188679  0.654297  0.083008   3.457031   3.374023  0.264139    male  \n906   0.263736  0.463956  0.023438   2.671875   2.648438  0.070354    male  \n1350  0.279070  1.209579  0.023438   7.101562   7.078125  0.143676    male  \n\n[10 rows x 21 columns]",
      "text/html": "<div>\n<style scoped>\n    .dataframe tbody tr th:only-of-type {\n        vertical-align: middle;\n    }\n\n    .dataframe tbody tr th {\n        vertical-align: top;\n    }\n\n    .dataframe thead th {\n        text-align: right;\n    }\n</style>\n<table border=\"1\" class=\"dataframe\">\n  <thead>\n    <tr style=\"text-align: right;\">\n      <th></th>\n      <th>meanfreq</th>\n      <th>sd</th>\n      <th>median</th>\n      <th>Q25</th>\n      <th>Q75</th>\n      <th>IQR</th>\n      <th>skew</th>\n      <th>kurt</th>\n      <th>sp.ent</th>\n      <th>sfm</th>\n      <th>...</th>\n      <th>centroid</th>\n      <th>meanfun</th>\n      <th>minfun</th>\n      <th>maxfun</th>\n      <th>meandom</th>\n      <th>mindom</th>\n      <th>maxdom</th>\n      <th>dfrange</th>\n      <th>modindx</th>\n      <th>label</th>\n    </tr>\n  </thead>\n  <tbody>\n    <tr>\n      <th>2137</th>\n      <td>0.187764</td>\n      <td>0.031560</td>\n      <td>0.187600</td>\n      <td>0.174618</td>\n      <td>0.202873</td>\n      <td>0.028255</td>\n      <td>2.466215</td>\n      <td>8.844264</td>\n      <td>0.843168</td>\n      <td>0.225496</td>\n      <td>...</td>\n      <td>0.187764</td>\n      <td>0.168761</td>\n      <td>0.015936</td>\n      <td>0.250000</td>\n      <td>0.577846</td>\n      <td>0.007812</td>\n      <td>7.000000</td>\n      <td>6.992188</td>\n      <td>0.099441</td>\n      <td>female</td>\n    </tr>\n    <tr>\n      <th>2190</th>\n      <td>0.194338</td>\n      <td>0.045574</td>\n      <td>0.199560</td>\n      <td>0.168411</td>\n      <td>0.225575</td>\n      <td>0.057164</td>\n      <td>1.133760</td>\n      <td>3.210560</td>\n      <td>0.908139</td>\n      <td>0.372299</td>\n      <td>...</td>\n      <td>0.194338</td>\n      <td>0.143627</td>\n      <td>0.046967</td>\n      <td>0.279070</td>\n      <td>1.619141</td>\n      <td>0.023438</td>\n      <td>9.023438</td>\n      <td>9.000000</td>\n      <td>0.146205</td>\n      <td>female</td>\n    </tr>\n    <tr>\n      <th>216</th>\n      <td>0.177642</td>\n      <td>0.059646</td>\n      <td>0.174659</td>\n      <td>0.124990</td>\n      <td>0.228148</td>\n      <td>0.103158</td>\n      <td>1.184981</td>\n      <td>4.167449</td>\n      <td>0.939683</td>\n      <td>0.508660</td>\n      <td>...</td>\n      <td>0.177642</td>\n      <td>0.120185</td>\n      <td>0.018957</td>\n      <td>0.271186</td>\n      <td>0.663125</td>\n      <td>0.093750</td>\n      <td>3.656250</td>\n      <td>3.562500</td>\n      <td>0.165427</td>\n      <td>male</td>\n    </tr>\n    <tr>\n      <th>3055</th>\n      <td>0.197638</td>\n      <td>0.040748</td>\n      <td>0.199705</td>\n      <td>0.192935</td>\n      <td>0.216253</td>\n      <td>0.023318</td>\n      <td>4.720709</td>\n      <td>32.100238</td>\n      <td>0.827978</td>\n      <td>0.252507</td>\n      <td>...</td>\n      <td>0.197638</td>\n      <td>0.198488</td>\n      <td>0.153846</td>\n      <td>0.270270</td>\n      <td>0.461426</td>\n      <td>0.004883</td>\n      <td>0.800781</td>\n      <td>0.795898</td>\n      <td>0.415784</td>\n      <td>female</td>\n    </tr>\n    <tr>\n      <th>2852</th>\n      <td>0.233744</td>\n      <td>0.029424</td>\n      <td>0.237921</td>\n      <td>0.223764</td>\n      <td>0.247360</td>\n      <td>0.023596</td>\n      <td>2.893058</td>\n      <td>11.452071</td>\n      <td>0.796059</td>\n      <td>0.141941</td>\n      <td>...</td>\n      <td>0.233744</td>\n      <td>0.202037</td>\n      <td>0.053452</td>\n      <td>0.277457</td>\n      <td>1.815104</td>\n      <td>0.023438</td>\n      <td>11.250000</td>\n      <td>11.226562</td>\n      <td>0.141810</td>\n      <td>female</td>\n    </tr>\n    <tr>\n      <th>412</th>\n      <td>0.186824</td>\n      <td>0.057162</td>\n      <td>0.198362</td>\n      <td>0.139653</td>\n      <td>0.233449</td>\n      <td>0.093797</td>\n      <td>1.021940</td>\n      <td>3.753306</td>\n      <td>0.932726</td>\n      <td>0.465218</td>\n      <td>...</td>\n      <td>0.186824</td>\n      <td>0.105533</td>\n      <td>0.032520</td>\n      <td>0.238806</td>\n      <td>1.325639</td>\n      <td>0.117188</td>\n      <td>6.445312</td>\n      <td>6.328125</td>\n      <td>0.323104</td>\n      <td>male</td>\n    </tr>\n    <tr>\n      <th>3164</th>\n      <td>0.116221</td>\n      <td>0.089221</td>\n      <td>0.076758</td>\n      <td>0.042718</td>\n      <td>0.204911</td>\n      <td>0.162193</td>\n      <td>0.693730</td>\n      <td>2.503954</td>\n      <td>0.960716</td>\n      <td>0.709570</td>\n      <td>...</td>\n      <td>0.116221</td>\n      <td>0.188980</td>\n      <td>0.034409</td>\n      <td>0.275862</td>\n      <td>0.909856</td>\n      <td>0.039062</td>\n      <td>3.679688</td>\n      <td>3.640625</td>\n      <td>0.277897</td>\n      <td>female</td>\n    </tr>\n    <tr>\n      <th>1574</th>\n      <td>0.166418</td>\n      <td>0.062124</td>\n      <td>0.141639</td>\n      <td>0.118176</td>\n      <td>0.228934</td>\n      <td>0.110758</td>\n      <td>2.284220</td>\n      <td>10.580525</td>\n      <td>0.931208</td>\n      <td>0.478228</td>\n      <td>...</td>\n      <td>0.166418</td>\n      <td>0.114064</td>\n      <td>0.035971</td>\n      <td>0.188679</td>\n      <td>0.654297</td>\n      <td>0.083008</td>\n      <td>3.457031</td>\n      <td>3.374023</td>\n      <td>0.264139</td>\n      <td>male</td>\n    </tr>\n    <tr>\n      <th>906</th>\n      <td>0.201081</td>\n      <td>0.059303</td>\n      <td>0.220291</td>\n      <td>0.136607</td>\n      <td>0.257383</td>\n      <td>0.120775</td>\n      <td>2.016638</td>\n      <td>7.437046</td>\n      <td>0.890206</td>\n      <td>0.270385</td>\n      <td>...</td>\n      <td>0.201081</td>\n      <td>0.125249</td>\n      <td>0.047198</td>\n      <td>0.263736</td>\n      <td>0.463956</td>\n      <td>0.023438</td>\n      <td>2.671875</td>\n      <td>2.648438</td>\n      <td>0.070354</td>\n      <td>male</td>\n    </tr>\n    <tr>\n      <th>1350</th>\n      <td>0.206842</td>\n      <td>0.062513</td>\n      <td>0.229494</td>\n      <td>0.142658</td>\n      <td>0.268924</td>\n      <td>0.126266</td>\n      <td>2.999798</td>\n      <td>14.404063</td>\n      <td>0.859690</td>\n      <td>0.238468</td>\n      <td>...</td>\n      <td>0.206842</td>\n      <td>0.141785</td>\n      <td>0.047151</td>\n      <td>0.279070</td>\n      <td>1.209579</td>\n      <td>0.023438</td>\n      <td>7.101562</td>\n      <td>7.078125</td>\n      <td>0.143676</td>\n      <td>male</td>\n    </tr>\n  </tbody>\n</table>\n<p>10 rows × 21 columns</p>\n</div>"
     },
     "metadata": {},
     "execution_count": 2
    }
   ],
   "source": [
    "data = pd.read_csv('gender_voice_dataset.csv')\n",
    "data.sample(10)"
   ]
  },
  {
   "cell_type": "code",
   "execution_count": 3,
   "metadata": {},
   "outputs": [
    {
     "output_type": "execute_result",
     "data": {
      "text/plain": "(3168, 21)"
     },
     "metadata": {},
     "execution_count": 3
    }
   ],
   "source": [
    "data.shape"
   ]
  },
  {
   "cell_type": "markdown",
   "metadata": {},
   "source": [
    "## Checking for Nulls "
   ]
  },
  {
   "cell_type": "code",
   "execution_count": 4,
   "metadata": {
    "tags": []
   },
   "outputs": [
    {
     "output_type": "stream",
     "name": "stdout",
     "text": "<class 'pandas.core.frame.DataFrame'>\nRangeIndex: 3168 entries, 0 to 3167\nData columns (total 21 columns):\n #   Column    Non-Null Count  Dtype  \n---  ------    --------------  -----  \n 0   meanfreq  3168 non-null   float64\n 1   sd        3168 non-null   float64\n 2   median    3168 non-null   float64\n 3   Q25       3168 non-null   float64\n 4   Q75       3168 non-null   float64\n 5   IQR       3168 non-null   float64\n 6   skew      3168 non-null   float64\n 7   kurt      3168 non-null   float64\n 8   sp.ent    3168 non-null   float64\n 9   sfm       3168 non-null   float64\n 10  mode      3168 non-null   float64\n 11  centroid  3168 non-null   float64\n 12  meanfun   3168 non-null   float64\n 13  minfun    3168 non-null   float64\n 14  maxfun    3168 non-null   float64\n 15  meandom   3168 non-null   float64\n 16  mindom    3168 non-null   float64\n 17  maxdom    3168 non-null   float64\n 18  dfrange   3168 non-null   float64\n 19  modindx   3168 non-null   float64\n 20  label     3168 non-null   object \ndtypes: float64(20), object(1)\nmemory usage: 519.9+ KB\n"
    }
   ],
   "source": [
    "data.info()"
   ]
  },
  {
   "cell_type": "markdown",
   "metadata": {},
   "source": [
    "### Converting all attributes to keys "
   ]
  },
  {
   "cell_type": "code",
   "execution_count": 5,
   "metadata": {},
   "outputs": [
    {
     "output_type": "execute_result",
     "data": {
      "text/plain": "Index(['meanfreq', 'sd', 'median', 'Q25', 'Q75', 'IQR', 'skew', 'kurt',\n       'sp.ent', 'sfm', 'mode', 'centroid', 'meanfun', 'minfun', 'maxfun',\n       'meandom', 'mindom', 'maxdom', 'dfrange', 'modindx', 'label'],\n      dtype='object')"
     },
     "metadata": {},
     "execution_count": 5
    }
   ],
   "source": [
    "data.keys()"
   ]
  },
  {
   "cell_type": "markdown",
   "metadata": {},
   "source": [
    "## Encoding the Label (M or F) in to a numerical values ( 0 and 1)"
   ]
  },
  {
   "cell_type": "code",
   "execution_count": 6,
   "metadata": {},
   "outputs": [
    {
     "output_type": "execute_result",
     "data": {
      "text/plain": "   meanfreq        sd    median       Q25       Q75       IQR       skew  \\\n0  0.059781  0.064241  0.032027  0.015071  0.090193  0.075122  12.863462   \n1  0.066009  0.067310  0.040229  0.019414  0.092666  0.073252  22.423285   \n2  0.077316  0.083829  0.036718  0.008701  0.131908  0.123207  30.757155   \n3  0.151228  0.072111  0.158011  0.096582  0.207955  0.111374   1.232831   \n4  0.135120  0.079146  0.124656  0.078720  0.206045  0.127325   1.101174   \n\n          kurt    sp.ent       sfm  ...  centroid   meanfun    minfun  \\\n0   274.402906  0.893369  0.491918  ...  0.059781  0.084279  0.015702   \n1   634.613855  0.892193  0.513724  ...  0.066009  0.107937  0.015826   \n2  1024.927705  0.846389  0.478905  ...  0.077316  0.098706  0.015656   \n3     4.177296  0.963322  0.727232  ...  0.151228  0.088965  0.017798   \n4     4.333713  0.971955  0.783568  ...  0.135120  0.106398  0.016931   \n\n     maxfun   meandom    mindom    maxdom   dfrange   modindx  label  \n0  0.275862  0.007812  0.007812  0.007812  0.000000  0.000000      1  \n1  0.250000  0.009014  0.007812  0.054688  0.046875  0.052632      1  \n2  0.271186  0.007990  0.007812  0.015625  0.007812  0.046512      1  \n3  0.250000  0.201497  0.007812  0.562500  0.554688  0.247119      1  \n4  0.266667  0.712812  0.007812  5.484375  5.476562  0.208274      1  \n\n[5 rows x 21 columns]",
      "text/html": "<div>\n<style scoped>\n    .dataframe tbody tr th:only-of-type {\n        vertical-align: middle;\n    }\n\n    .dataframe tbody tr th {\n        vertical-align: top;\n    }\n\n    .dataframe thead th {\n        text-align: right;\n    }\n</style>\n<table border=\"1\" class=\"dataframe\">\n  <thead>\n    <tr style=\"text-align: right;\">\n      <th></th>\n      <th>meanfreq</th>\n      <th>sd</th>\n      <th>median</th>\n      <th>Q25</th>\n      <th>Q75</th>\n      <th>IQR</th>\n      <th>skew</th>\n      <th>kurt</th>\n      <th>sp.ent</th>\n      <th>sfm</th>\n      <th>...</th>\n      <th>centroid</th>\n      <th>meanfun</th>\n      <th>minfun</th>\n      <th>maxfun</th>\n      <th>meandom</th>\n      <th>mindom</th>\n      <th>maxdom</th>\n      <th>dfrange</th>\n      <th>modindx</th>\n      <th>label</th>\n    </tr>\n  </thead>\n  <tbody>\n    <tr>\n      <th>0</th>\n      <td>0.059781</td>\n      <td>0.064241</td>\n      <td>0.032027</td>\n      <td>0.015071</td>\n      <td>0.090193</td>\n      <td>0.075122</td>\n      <td>12.863462</td>\n      <td>274.402906</td>\n      <td>0.893369</td>\n      <td>0.491918</td>\n      <td>...</td>\n      <td>0.059781</td>\n      <td>0.084279</td>\n      <td>0.015702</td>\n      <td>0.275862</td>\n      <td>0.007812</td>\n      <td>0.007812</td>\n      <td>0.007812</td>\n      <td>0.000000</td>\n      <td>0.000000</td>\n      <td>1</td>\n    </tr>\n    <tr>\n      <th>1</th>\n      <td>0.066009</td>\n      <td>0.067310</td>\n      <td>0.040229</td>\n      <td>0.019414</td>\n      <td>0.092666</td>\n      <td>0.073252</td>\n      <td>22.423285</td>\n      <td>634.613855</td>\n      <td>0.892193</td>\n      <td>0.513724</td>\n      <td>...</td>\n      <td>0.066009</td>\n      <td>0.107937</td>\n      <td>0.015826</td>\n      <td>0.250000</td>\n      <td>0.009014</td>\n      <td>0.007812</td>\n      <td>0.054688</td>\n      <td>0.046875</td>\n      <td>0.052632</td>\n      <td>1</td>\n    </tr>\n    <tr>\n      <th>2</th>\n      <td>0.077316</td>\n      <td>0.083829</td>\n      <td>0.036718</td>\n      <td>0.008701</td>\n      <td>0.131908</td>\n      <td>0.123207</td>\n      <td>30.757155</td>\n      <td>1024.927705</td>\n      <td>0.846389</td>\n      <td>0.478905</td>\n      <td>...</td>\n      <td>0.077316</td>\n      <td>0.098706</td>\n      <td>0.015656</td>\n      <td>0.271186</td>\n      <td>0.007990</td>\n      <td>0.007812</td>\n      <td>0.015625</td>\n      <td>0.007812</td>\n      <td>0.046512</td>\n      <td>1</td>\n    </tr>\n    <tr>\n      <th>3</th>\n      <td>0.151228</td>\n      <td>0.072111</td>\n      <td>0.158011</td>\n      <td>0.096582</td>\n      <td>0.207955</td>\n      <td>0.111374</td>\n      <td>1.232831</td>\n      <td>4.177296</td>\n      <td>0.963322</td>\n      <td>0.727232</td>\n      <td>...</td>\n      <td>0.151228</td>\n      <td>0.088965</td>\n      <td>0.017798</td>\n      <td>0.250000</td>\n      <td>0.201497</td>\n      <td>0.007812</td>\n      <td>0.562500</td>\n      <td>0.554688</td>\n      <td>0.247119</td>\n      <td>1</td>\n    </tr>\n    <tr>\n      <th>4</th>\n      <td>0.135120</td>\n      <td>0.079146</td>\n      <td>0.124656</td>\n      <td>0.078720</td>\n      <td>0.206045</td>\n      <td>0.127325</td>\n      <td>1.101174</td>\n      <td>4.333713</td>\n      <td>0.971955</td>\n      <td>0.783568</td>\n      <td>...</td>\n      <td>0.135120</td>\n      <td>0.106398</td>\n      <td>0.016931</td>\n      <td>0.266667</td>\n      <td>0.712812</td>\n      <td>0.007812</td>\n      <td>5.484375</td>\n      <td>5.476562</td>\n      <td>0.208274</td>\n      <td>1</td>\n    </tr>\n  </tbody>\n</table>\n<p>5 rows × 21 columns</p>\n</div>"
     },
     "metadata": {},
     "execution_count": 6
    }
   ],
   "source": [
    "labelEncoder = LabelEncoder()\n",
    "\n",
    "data.label = labelEncoder.fit_transform(data.label.astype(str))\n",
    "\n",
    "data.head()\n"
   ]
  },
  {
   "cell_type": "code",
   "execution_count": 7,
   "metadata": {},
   "outputs": [
    {
     "output_type": "execute_result",
     "data": {
      "text/plain": "array(['female', 'male'], dtype=object)"
     },
     "metadata": {},
     "execution_count": 7
    }
   ],
   "source": [
    "labelEncoder.classes_"
   ]
  },
  {
   "cell_type": "markdown",
   "metadata": {},
   "source": [
    "Box plot for male and female group by mean frequency"
   ]
  },
  {
   "cell_type": "code",
   "execution_count": 8,
   "metadata": {},
   "outputs": [
    {
     "output_type": "execute_result",
     "data": {
      "text/plain": "<matplotlib.axes._subplots.AxesSubplot at 0x7faf1adc9a60>"
     },
     "metadata": {},
     "execution_count": 8
    },
    {
     "output_type": "display_data",
     "data": {
      "text/plain": "<Figure size 720x576 with 1 Axes>",
      "image/svg+xml": "<?xml version=\"1.0\" encoding=\"utf-8\" standalone=\"no\"?>\n<!DOCTYPE svg PUBLIC \"-//W3C//DTD SVG 1.1//EN\"\n  \"http://www.w3.org/Graphics/SVG/1.1/DTD/svg11.dtd\">\n<!-- Created with matplotlib (https://matplotlib.org/) -->\n<svg height=\"522.83625pt\" version=\"1.1\" viewBox=\"0 0 619.665625 522.83625\" width=\"619.665625pt\" xmlns=\"http://www.w3.org/2000/svg\" xmlns:xlink=\"http://www.w3.org/1999/xlink\">\n <defs>\n  <style type=\"text/css\">\n*{stroke-linecap:butt;stroke-linejoin:round;}\n  </style>\n </defs>\n <g id=\"figure_1\">\n  <g id=\"patch_1\">\n   <path d=\"M 0 522.83625 \nL 619.665625 522.83625 \nL 619.665625 0 \nL 0 0 \nz\n\" style=\"fill:none;\"/>\n  </g>\n  <g id=\"axes_1\">\n   <g id=\"patch_2\">\n    <path d=\"M 36.465625 485.28 \nL 612.465625 485.28 \nL 612.465625 53.28 \nL 36.465625 53.28 \nz\n\" style=\"fill:#ffffff;\"/>\n   </g>\n   <g id=\"matplotlib.axis_1\">\n    <g id=\"xtick_1\">\n     <g id=\"line2d_1\">\n      <defs>\n       <path d=\"M 0 0 \nL 0 3.5 \n\" id=\"m74f4c9fd27\" style=\"stroke:#000000;stroke-width:0.8;\"/>\n      </defs>\n      <g>\n       <use style=\"stroke:#000000;stroke-width:0.8;\" x=\"180.465625\" xlink:href=\"#m74f4c9fd27\" y=\"485.28\"/>\n      </g>\n     </g>\n     <g id=\"text_1\">\n      <!-- 0 -->\n      <defs>\n       <path d=\"M 31.78125 66.40625 \nQ 24.171875 66.40625 20.328125 58.90625 \nQ 16.5 51.421875 16.5 36.375 \nQ 16.5 21.390625 20.328125 13.890625 \nQ 24.171875 6.390625 31.78125 6.390625 \nQ 39.453125 6.390625 43.28125 13.890625 \nQ 47.125 21.390625 47.125 36.375 \nQ 47.125 51.421875 43.28125 58.90625 \nQ 39.453125 66.40625 31.78125 66.40625 \nz\nM 31.78125 74.21875 \nQ 44.046875 74.21875 50.515625 64.515625 \nQ 56.984375 54.828125 56.984375 36.375 \nQ 56.984375 17.96875 50.515625 8.265625 \nQ 44.046875 -1.421875 31.78125 -1.421875 \nQ 19.53125 -1.421875 13.0625 8.265625 \nQ 6.59375 17.96875 6.59375 36.375 \nQ 6.59375 54.828125 13.0625 64.515625 \nQ 19.53125 74.21875 31.78125 74.21875 \nz\n\" id=\"DejaVuSans-48\"/>\n      </defs>\n      <g transform=\"translate(177.284375 499.878437)scale(0.1 -0.1)\">\n       <use xlink:href=\"#DejaVuSans-48\"/>\n      </g>\n     </g>\n    </g>\n    <g id=\"xtick_2\">\n     <g id=\"line2d_2\">\n      <g>\n       <use style=\"stroke:#000000;stroke-width:0.8;\" x=\"468.465625\" xlink:href=\"#m74f4c9fd27\" y=\"485.28\"/>\n      </g>\n     </g>\n     <g id=\"text_2\">\n      <!-- 1 -->\n      <defs>\n       <path d=\"M 12.40625 8.296875 \nL 28.515625 8.296875 \nL 28.515625 63.921875 \nL 10.984375 60.40625 \nL 10.984375 69.390625 \nL 28.421875 72.90625 \nL 38.28125 72.90625 \nL 38.28125 8.296875 \nL 54.390625 8.296875 \nL 54.390625 0 \nL 12.40625 0 \nz\n\" id=\"DejaVuSans-49\"/>\n      </defs>\n      <g transform=\"translate(465.284375 499.878437)scale(0.1 -0.1)\">\n       <use xlink:href=\"#DejaVuSans-49\"/>\n      </g>\n     </g>\n    </g>\n    <g id=\"text_3\">\n     <!-- label -->\n     <defs>\n      <path d=\"M 9.421875 75.984375 \nL 18.40625 75.984375 \nL 18.40625 0 \nL 9.421875 0 \nz\n\" id=\"DejaVuSans-108\"/>\n      <path d=\"M 34.28125 27.484375 \nQ 23.390625 27.484375 19.1875 25 \nQ 14.984375 22.515625 14.984375 16.5 \nQ 14.984375 11.71875 18.140625 8.90625 \nQ 21.296875 6.109375 26.703125 6.109375 \nQ 34.1875 6.109375 38.703125 11.40625 \nQ 43.21875 16.703125 43.21875 25.484375 \nL 43.21875 27.484375 \nz\nM 52.203125 31.203125 \nL 52.203125 0 \nL 43.21875 0 \nL 43.21875 8.296875 \nQ 40.140625 3.328125 35.546875 0.953125 \nQ 30.953125 -1.421875 24.3125 -1.421875 \nQ 15.921875 -1.421875 10.953125 3.296875 \nQ 6 8.015625 6 15.921875 \nQ 6 25.140625 12.171875 29.828125 \nQ 18.359375 34.515625 30.609375 34.515625 \nL 43.21875 34.515625 \nL 43.21875 35.40625 \nQ 43.21875 41.609375 39.140625 45 \nQ 35.0625 48.390625 27.6875 48.390625 \nQ 23 48.390625 18.546875 47.265625 \nQ 14.109375 46.140625 10.015625 43.890625 \nL 10.015625 52.203125 \nQ 14.9375 54.109375 19.578125 55.046875 \nQ 24.21875 56 28.609375 56 \nQ 40.484375 56 46.34375 49.84375 \nQ 52.203125 43.703125 52.203125 31.203125 \nz\n\" id=\"DejaVuSans-97\"/>\n      <path d=\"M 48.6875 27.296875 \nQ 48.6875 37.203125 44.609375 42.84375 \nQ 40.53125 48.484375 33.40625 48.484375 \nQ 26.265625 48.484375 22.1875 42.84375 \nQ 18.109375 37.203125 18.109375 27.296875 \nQ 18.109375 17.390625 22.1875 11.75 \nQ 26.265625 6.109375 33.40625 6.109375 \nQ 40.53125 6.109375 44.609375 11.75 \nQ 48.6875 17.390625 48.6875 27.296875 \nz\nM 18.109375 46.390625 \nQ 20.953125 51.265625 25.265625 53.625 \nQ 29.59375 56 35.59375 56 \nQ 45.5625 56 51.78125 48.09375 \nQ 58.015625 40.1875 58.015625 27.296875 \nQ 58.015625 14.40625 51.78125 6.484375 \nQ 45.5625 -1.421875 35.59375 -1.421875 \nQ 29.59375 -1.421875 25.265625 0.953125 \nQ 20.953125 3.328125 18.109375 8.203125 \nL 18.109375 0 \nL 9.078125 0 \nL 9.078125 75.984375 \nL 18.109375 75.984375 \nz\n\" id=\"DejaVuSans-98\"/>\n      <path d=\"M 56.203125 29.59375 \nL 56.203125 25.203125 \nL 14.890625 25.203125 \nQ 15.484375 15.921875 20.484375 11.0625 \nQ 25.484375 6.203125 34.421875 6.203125 \nQ 39.59375 6.203125 44.453125 7.46875 \nQ 49.3125 8.734375 54.109375 11.28125 \nL 54.109375 2.78125 \nQ 49.265625 0.734375 44.1875 -0.34375 \nQ 39.109375 -1.421875 33.890625 -1.421875 \nQ 20.796875 -1.421875 13.15625 6.1875 \nQ 5.515625 13.8125 5.515625 26.8125 \nQ 5.515625 40.234375 12.765625 48.109375 \nQ 20.015625 56 32.328125 56 \nQ 43.359375 56 49.78125 48.890625 \nQ 56.203125 41.796875 56.203125 29.59375 \nz\nM 47.21875 32.234375 \nQ 47.125 39.59375 43.09375 43.984375 \nQ 39.0625 48.390625 32.421875 48.390625 \nQ 24.90625 48.390625 20.390625 44.140625 \nQ 15.875 39.890625 15.1875 32.171875 \nz\n\" id=\"DejaVuSans-101\"/>\n     </defs>\n     <g transform=\"translate(312.372656 513.556562)scale(0.1 -0.1)\">\n      <use xlink:href=\"#DejaVuSans-108\"/>\n      <use x=\"27.783203\" xlink:href=\"#DejaVuSans-97\"/>\n      <use x=\"89.0625\" xlink:href=\"#DejaVuSans-98\"/>\n      <use x=\"152.539062\" xlink:href=\"#DejaVuSans-101\"/>\n      <use x=\"214.0625\" xlink:href=\"#DejaVuSans-108\"/>\n     </g>\n    </g>\n   </g>\n   <g id=\"matplotlib.axis_2\">\n    <g id=\"ytick_1\">\n     <g id=\"line2d_3\">\n      <defs>\n       <path d=\"M 0 0 \nL -3.5 0 \n\" id=\"m0aaf0dfa82\" style=\"stroke:#000000;stroke-width:0.8;\"/>\n      </defs>\n      <g>\n       <use style=\"stroke:#000000;stroke-width:0.8;\" x=\"36.465625\" xlink:href=\"#m0aaf0dfa82\" y=\"445.917073\"/>\n      </g>\n     </g>\n     <g id=\"text_4\">\n      <!-- 0.05 -->\n      <defs>\n       <path d=\"M 10.6875 12.40625 \nL 21 12.40625 \nL 21 0 \nL 10.6875 0 \nz\n\" id=\"DejaVuSans-46\"/>\n       <path d=\"M 10.796875 72.90625 \nL 49.515625 72.90625 \nL 49.515625 64.59375 \nL 19.828125 64.59375 \nL 19.828125 46.734375 \nQ 21.96875 47.46875 24.109375 47.828125 \nQ 26.265625 48.1875 28.421875 48.1875 \nQ 40.625 48.1875 47.75 41.5 \nQ 54.890625 34.8125 54.890625 23.390625 \nQ 54.890625 11.625 47.5625 5.09375 \nQ 40.234375 -1.421875 26.90625 -1.421875 \nQ 22.3125 -1.421875 17.546875 -0.640625 \nQ 12.796875 0.140625 7.71875 1.703125 \nL 7.71875 11.625 \nQ 12.109375 9.234375 16.796875 8.0625 \nQ 21.484375 6.890625 26.703125 6.890625 \nQ 35.15625 6.890625 40.078125 11.328125 \nQ 45.015625 15.765625 45.015625 23.390625 \nQ 45.015625 31 40.078125 35.4375 \nQ 35.15625 39.890625 26.703125 39.890625 \nQ 22.75 39.890625 18.8125 39.015625 \nQ 14.890625 38.140625 10.796875 36.28125 \nz\n\" id=\"DejaVuSans-53\"/>\n      </defs>\n      <g transform=\"translate(7.2 449.716292)scale(0.1 -0.1)\">\n       <use xlink:href=\"#DejaVuSans-48\"/>\n       <use x=\"63.623047\" xlink:href=\"#DejaVuSans-46\"/>\n       <use x=\"95.410156\" xlink:href=\"#DejaVuSans-48\"/>\n       <use x=\"159.033203\" xlink:href=\"#DejaVuSans-53\"/>\n      </g>\n     </g>\n    </g>\n    <g id=\"ytick_2\">\n     <g id=\"line2d_4\">\n      <g>\n       <use style=\"stroke:#000000;stroke-width:0.8;\" x=\"36.465625\" xlink:href=\"#m0aaf0dfa82\" y=\"353.187922\"/>\n      </g>\n     </g>\n     <g id=\"text_5\">\n      <!-- 0.10 -->\n      <g transform=\"translate(7.2 356.98714)scale(0.1 -0.1)\">\n       <use xlink:href=\"#DejaVuSans-48\"/>\n       <use x=\"63.623047\" xlink:href=\"#DejaVuSans-46\"/>\n       <use x=\"95.410156\" xlink:href=\"#DejaVuSans-49\"/>\n       <use x=\"159.033203\" xlink:href=\"#DejaVuSans-48\"/>\n      </g>\n     </g>\n    </g>\n    <g id=\"ytick_3\">\n     <g id=\"line2d_5\">\n      <g>\n       <use style=\"stroke:#000000;stroke-width:0.8;\" x=\"36.465625\" xlink:href=\"#m0aaf0dfa82\" y=\"260.45877\"/>\n      </g>\n     </g>\n     <g id=\"text_6\">\n      <!-- 0.15 -->\n      <g transform=\"translate(7.2 264.257989)scale(0.1 -0.1)\">\n       <use xlink:href=\"#DejaVuSans-48\"/>\n       <use x=\"63.623047\" xlink:href=\"#DejaVuSans-46\"/>\n       <use x=\"95.410156\" xlink:href=\"#DejaVuSans-49\"/>\n       <use x=\"159.033203\" xlink:href=\"#DejaVuSans-53\"/>\n      </g>\n     </g>\n    </g>\n    <g id=\"ytick_4\">\n     <g id=\"line2d_6\">\n      <g>\n       <use style=\"stroke:#000000;stroke-width:0.8;\" x=\"36.465625\" xlink:href=\"#m0aaf0dfa82\" y=\"167.729619\"/>\n      </g>\n     </g>\n     <g id=\"text_7\">\n      <!-- 0.20 -->\n      <defs>\n       <path d=\"M 19.1875 8.296875 \nL 53.609375 8.296875 \nL 53.609375 0 \nL 7.328125 0 \nL 7.328125 8.296875 \nQ 12.9375 14.109375 22.625 23.890625 \nQ 32.328125 33.6875 34.8125 36.53125 \nQ 39.546875 41.84375 41.421875 45.53125 \nQ 43.3125 49.21875 43.3125 52.78125 \nQ 43.3125 58.59375 39.234375 62.25 \nQ 35.15625 65.921875 28.609375 65.921875 \nQ 23.96875 65.921875 18.8125 64.3125 \nQ 13.671875 62.703125 7.8125 59.421875 \nL 7.8125 69.390625 \nQ 13.765625 71.78125 18.9375 73 \nQ 24.125 74.21875 28.421875 74.21875 \nQ 39.75 74.21875 46.484375 68.546875 \nQ 53.21875 62.890625 53.21875 53.421875 \nQ 53.21875 48.921875 51.53125 44.890625 \nQ 49.859375 40.875 45.40625 35.40625 \nQ 44.1875 33.984375 37.640625 27.21875 \nQ 31.109375 20.453125 19.1875 8.296875 \nz\n\" id=\"DejaVuSans-50\"/>\n      </defs>\n      <g transform=\"translate(7.2 171.528838)scale(0.1 -0.1)\">\n       <use xlink:href=\"#DejaVuSans-48\"/>\n       <use x=\"63.623047\" xlink:href=\"#DejaVuSans-46\"/>\n       <use x=\"95.410156\" xlink:href=\"#DejaVuSans-50\"/>\n       <use x=\"159.033203\" xlink:href=\"#DejaVuSans-48\"/>\n      </g>\n     </g>\n    </g>\n    <g id=\"ytick_5\">\n     <g id=\"line2d_7\">\n      <g>\n       <use style=\"stroke:#000000;stroke-width:0.8;\" x=\"36.465625\" xlink:href=\"#m0aaf0dfa82\" y=\"75.000468\"/>\n      </g>\n     </g>\n     <g id=\"text_8\">\n      <!-- 0.25 -->\n      <g transform=\"translate(7.2 78.799687)scale(0.1 -0.1)\">\n       <use xlink:href=\"#DejaVuSans-48\"/>\n       <use x=\"63.623047\" xlink:href=\"#DejaVuSans-46\"/>\n       <use x=\"95.410156\" xlink:href=\"#DejaVuSans-50\"/>\n       <use x=\"159.033203\" xlink:href=\"#DejaVuSans-53\"/>\n      </g>\n     </g>\n    </g>\n   </g>\n   <g id=\"line2d_8\">\n    <path clip-path=\"url(#pb6c0801916)\" d=\"M 158.865625 210.326949 \nL 202.065625 210.326949 \nL 202.065625 145.510344 \nL 158.865625 145.510344 \nL 158.865625 210.326949 \n\" style=\"fill:none;stroke:#1f77b4;stroke-linecap:square;\"/>\n   </g>\n   <g id=\"line2d_9\">\n    <path clip-path=\"url(#pb6c0801916)\" d=\"M 180.465625 210.326949 \nL 180.465625 307.389448 \n\" style=\"fill:none;stroke:#1f77b4;stroke-linecap:square;\"/>\n   </g>\n   <g id=\"line2d_10\">\n    <path clip-path=\"url(#pb6c0801916)\" d=\"M 180.465625 145.510344 \nL 180.465625 72.916364 \n\" style=\"fill:none;stroke:#1f77b4;stroke-linecap:square;\"/>\n   </g>\n   <g id=\"line2d_11\">\n    <path clip-path=\"url(#pb6c0801916)\" d=\"M 169.665625 307.389448 \nL 191.265625 307.389448 \n\" style=\"fill:none;stroke:#000000;stroke-linecap:square;\"/>\n   </g>\n   <g id=\"line2d_12\">\n    <path clip-path=\"url(#pb6c0801916)\" d=\"M 169.665625 72.916364 \nL 191.265625 72.916364 \n\" style=\"fill:none;stroke:#000000;stroke-linecap:square;\"/>\n   </g>\n   <g id=\"line2d_13\">\n    <defs>\n     <path d=\"M 0 3 \nC 0.795609 3 1.55874 2.683901 2.12132 2.12132 \nC 2.683901 1.55874 3 0.795609 3 0 \nC 3 -0.795609 2.683901 -1.55874 2.12132 -2.12132 \nC 1.55874 -2.683901 0.795609 -3 0 -3 \nC -0.795609 -3 -1.55874 -2.683901 -2.12132 -2.12132 \nC -2.683901 -1.55874 -3 -0.795609 -3 0 \nC -3 0.795609 -2.683901 1.55874 -2.12132 2.12132 \nC -1.55874 2.683901 -0.795609 3 0 3 \nz\n\" id=\"m1c332372e8\" style=\"stroke:#000000;\"/>\n    </defs>\n    <g clip-path=\"url(#pb6c0801916)\">\n     <use style=\"fill-opacity:0;stroke:#000000;\" x=\"180.465625\" xlink:href=\"#m1c332372e8\" y=\"335.920611\"/>\n     <use style=\"fill-opacity:0;stroke:#000000;\" x=\"180.465625\" xlink:href=\"#m1c332372e8\" y=\"333.293296\"/>\n     <use style=\"fill-opacity:0;stroke:#000000;\" x=\"180.465625\" xlink:href=\"#m1c332372e8\" y=\"319.422398\"/>\n     <use style=\"fill-opacity:0;stroke:#000000;\" x=\"180.465625\" xlink:href=\"#m1c332372e8\" y=\"311.077735\"/>\n     <use style=\"fill-opacity:0;stroke:#000000;\" x=\"180.465625\" xlink:href=\"#m1c332372e8\" y=\"327.894293\"/>\n     <use style=\"fill-opacity:0;stroke:#000000;\" x=\"180.465625\" xlink:href=\"#m1c332372e8\" y=\"332.245009\"/>\n     <use style=\"fill-opacity:0;stroke:#000000;\" x=\"180.465625\" xlink:href=\"#m1c332372e8\" y=\"348.018331\"/>\n     <use style=\"fill-opacity:0;stroke:#000000;\" x=\"180.465625\" xlink:href=\"#m1c332372e8\" y=\"372.302399\"/>\n     <use style=\"fill-opacity:0;stroke:#000000;\" x=\"180.465625\" xlink:href=\"#m1c332372e8\" y=\"324.624305\"/>\n     <use style=\"fill-opacity:0;stroke:#000000;\" x=\"180.465625\" xlink:href=\"#m1c332372e8\" y=\"323.120131\"/>\n     <use style=\"fill-opacity:0;stroke:#000000;\" x=\"180.465625\" xlink:href=\"#m1c332372e8\" y=\"336.221306\"/>\n     <use style=\"fill-opacity:0;stroke:#000000;\" x=\"180.465625\" xlink:href=\"#m1c332372e8\" y=\"323.511194\"/>\n     <use style=\"fill-opacity:0;stroke:#000000;\" x=\"180.465625\" xlink:href=\"#m1c332372e8\" y=\"357.393111\"/>\n     <use style=\"fill-opacity:0;stroke:#000000;\" x=\"180.465625\" xlink:href=\"#m1c332372e8\" y=\"371.047059\"/>\n     <use style=\"fill-opacity:0;stroke:#000000;\" x=\"180.465625\" xlink:href=\"#m1c332372e8\" y=\"316.899941\"/>\n     <use style=\"fill-opacity:0;stroke:#000000;\" x=\"180.465625\" xlink:href=\"#m1c332372e8\" y=\"337.479807\"/>\n     <use style=\"fill-opacity:0;stroke:#000000;\" x=\"180.465625\" xlink:href=\"#m1c332372e8\" y=\"367.853146\"/>\n     <use style=\"fill-opacity:0;stroke:#000000;\" x=\"180.465625\" xlink:href=\"#m1c332372e8\" y=\"309.50883\"/>\n     <use style=\"fill-opacity:0;stroke:#000000;\" x=\"180.465625\" xlink:href=\"#m1c332372e8\" y=\"365.32938\"/>\n     <use style=\"fill-opacity:0;stroke:#000000;\" x=\"180.465625\" xlink:href=\"#m1c332372e8\" y=\"379.883031\"/>\n     <use style=\"fill-opacity:0;stroke:#000000;\" x=\"180.465625\" xlink:href=\"#m1c332372e8\" y=\"386.559322\"/>\n     <use style=\"fill-opacity:0;stroke:#000000;\" x=\"180.465625\" xlink:href=\"#m1c332372e8\" y=\"392.41757\"/>\n     <use style=\"fill-opacity:0;stroke:#000000;\" x=\"180.465625\" xlink:href=\"#m1c332372e8\" y=\"313.41545\"/>\n     <use style=\"fill-opacity:0;stroke:#000000;\" x=\"180.465625\" xlink:href=\"#m1c332372e8\" y=\"365.423887\"/>\n     <use style=\"fill-opacity:0;stroke:#000000;\" x=\"180.465625\" xlink:href=\"#m1c332372e8\" y=\"348.322683\"/>\n     <use style=\"fill-opacity:0;stroke:#000000;\" x=\"180.465625\" xlink:href=\"#m1c332372e8\" y=\"368.412724\"/>\n     <use style=\"fill-opacity:0;stroke:#000000;\" x=\"180.465625\" xlink:href=\"#m1c332372e8\" y=\"329.867265\"/>\n     <use style=\"fill-opacity:0;stroke:#000000;\" x=\"180.465625\" xlink:href=\"#m1c332372e8\" y=\"357.709226\"/>\n     <use style=\"fill-opacity:0;stroke:#000000;\" x=\"180.465625\" xlink:href=\"#m1c332372e8\" y=\"373.901179\"/>\n     <use style=\"fill-opacity:0;stroke:#000000;\" x=\"180.465625\" xlink:href=\"#m1c332372e8\" y=\"314.100999\"/>\n     <use style=\"fill-opacity:0;stroke:#000000;\" x=\"180.465625\" xlink:href=\"#m1c332372e8\" y=\"330.648369\"/>\n     <use style=\"fill-opacity:0;stroke:#000000;\" x=\"180.465625\" xlink:href=\"#m1c332372e8\" y=\"356.397917\"/>\n     <use style=\"fill-opacity:0;stroke:#000000;\" x=\"180.465625\" xlink:href=\"#m1c332372e8\" y=\"356.741683\"/>\n     <use style=\"fill-opacity:0;stroke:#000000;\" x=\"180.465625\" xlink:href=\"#m1c332372e8\" y=\"310.417878\"/>\n     <use style=\"fill-opacity:0;stroke:#000000;\" x=\"180.465625\" xlink:href=\"#m1c332372e8\" y=\"322.42982\"/>\n     <use style=\"fill-opacity:0;stroke:#000000;\" x=\"180.465625\" xlink:href=\"#m1c332372e8\" y=\"309.192982\"/>\n     <use style=\"fill-opacity:0;stroke:#000000;\" x=\"180.465625\" xlink:href=\"#m1c332372e8\" y=\"316.890065\"/>\n     <use style=\"fill-opacity:0;stroke:#000000;\" x=\"180.465625\" xlink:href=\"#m1c332372e8\" y=\"322.836196\"/>\n     <use style=\"fill-opacity:0;stroke:#000000;\" x=\"180.465625\" xlink:href=\"#m1c332372e8\" y=\"333.714195\"/>\n     <use style=\"fill-opacity:0;stroke:#000000;\" x=\"180.465625\" xlink:href=\"#m1c332372e8\" y=\"323.905382\"/>\n     <use style=\"fill-opacity:0;stroke:#000000;\" x=\"180.465625\" xlink:href=\"#m1c332372e8\" y=\"325.687959\"/>\n     <use style=\"fill-opacity:0;stroke:#000000;\" x=\"180.465625\" xlink:href=\"#m1c332372e8\" y=\"310.613224\"/>\n     <use style=\"fill-opacity:0;stroke:#000000;\" x=\"180.465625\" xlink:href=\"#m1c332372e8\" y=\"319.177319\"/>\n     <use style=\"fill-opacity:0;stroke:#000000;\" x=\"180.465625\" xlink:href=\"#m1c332372e8\" y=\"333.709268\"/>\n     <use style=\"fill-opacity:0;stroke:#000000;\" x=\"180.465625\" xlink:href=\"#m1c332372e8\" y=\"332.502654\"/>\n     <use style=\"fill-opacity:0;stroke:#000000;\" x=\"180.465625\" xlink:href=\"#m1c332372e8\" y=\"313.39617\"/>\n     <use style=\"fill-opacity:0;stroke:#000000;\" x=\"180.465625\" xlink:href=\"#m1c332372e8\" y=\"312.689273\"/>\n     <use style=\"fill-opacity:0;stroke:#000000;\" x=\"180.465625\" xlink:href=\"#m1c332372e8\" y=\"315.756644\"/>\n     <use style=\"fill-opacity:0;stroke:#000000;\" x=\"180.465625\" xlink:href=\"#m1c332372e8\" y=\"326.33973\"/>\n     <use style=\"fill-opacity:0;stroke:#000000;\" x=\"180.465625\" xlink:href=\"#m1c332372e8\" y=\"329.506304\"/>\n     <use style=\"fill-opacity:0;stroke:#000000;\" x=\"180.465625\" xlink:href=\"#m1c332372e8\" y=\"321.011828\"/>\n     <use style=\"fill-opacity:0;stroke:#000000;\" x=\"180.465625\" xlink:href=\"#m1c332372e8\" y=\"344.298757\"/>\n     <use style=\"fill-opacity:0;stroke:#000000;\" x=\"180.465625\" xlink:href=\"#m1c332372e8\" y=\"369.41556\"/>\n     <use style=\"fill-opacity:0;stroke:#000000;\" x=\"180.465625\" xlink:href=\"#m1c332372e8\" y=\"385.821608\"/>\n     <use style=\"fill-opacity:0;stroke:#000000;\" x=\"180.465625\" xlink:href=\"#m1c332372e8\" y=\"336.703544\"/>\n     <use style=\"fill-opacity:0;stroke:#000000;\" x=\"180.465625\" xlink:href=\"#m1c332372e8\" y=\"370.908817\"/>\n     <use style=\"fill-opacity:0;stroke:#000000;\" x=\"180.465625\" xlink:href=\"#m1c332372e8\" y=\"328.804365\"/>\n     <use style=\"fill-opacity:0;stroke:#000000;\" x=\"180.465625\" xlink:href=\"#m1c332372e8\" y=\"323.104875\"/>\n    </g>\n   </g>\n   <g id=\"line2d_14\">\n    <path clip-path=\"url(#pb6c0801916)\" d=\"M 446.865625 250.025968 \nL 490.065625 250.025968 \nL 490.065625 185.176568 \nL 446.865625 185.176568 \nL 446.865625 250.025968 \n\" style=\"fill:none;stroke:#1f77b4;stroke-linecap:square;\"/>\n   </g>\n   <g id=\"line2d_15\">\n    <path clip-path=\"url(#pb6c0801916)\" d=\"M 468.465625 250.025968 \nL 468.465625 343.908686 \n\" style=\"fill:none;stroke:#1f77b4;stroke-linecap:square;\"/>\n   </g>\n   <g id=\"line2d_16\">\n    <path clip-path=\"url(#pb6c0801916)\" d=\"M 468.465625 185.176568 \nL 468.465625 120.285309 \n\" style=\"fill:none;stroke:#1f77b4;stroke-linecap:square;\"/>\n   </g>\n   <g id=\"line2d_17\">\n    <path clip-path=\"url(#pb6c0801916)\" d=\"M 457.665625 343.908686 \nL 479.265625 343.908686 \n\" style=\"fill:none;stroke:#000000;stroke-linecap:square;\"/>\n   </g>\n   <g id=\"line2d_18\">\n    <path clip-path=\"url(#pb6c0801916)\" d=\"M 457.665625 120.285309 \nL 479.265625 120.285309 \n\" style=\"fill:none;stroke:#000000;stroke-linecap:square;\"/>\n   </g>\n   <g id=\"line2d_19\">\n    <g clip-path=\"url(#pb6c0801916)\">\n     <use style=\"fill-opacity:0;stroke:#000000;\" x=\"468.465625\" xlink:href=\"#m1c332372e8\" y=\"427.777424\"/>\n     <use style=\"fill-opacity:0;stroke:#000000;\" x=\"468.465625\" xlink:href=\"#m1c332372e8\" y=\"416.227535\"/>\n     <use style=\"fill-opacity:0;stroke:#000000;\" x=\"468.465625\" xlink:href=\"#m1c332372e8\" y=\"395.258205\"/>\n     <use style=\"fill-opacity:0;stroke:#000000;\" x=\"468.465625\" xlink:href=\"#m1c332372e8\" y=\"352.44717\"/>\n     <use style=\"fill-opacity:0;stroke:#000000;\" x=\"468.465625\" xlink:href=\"#m1c332372e8\" y=\"385.595669\"/>\n     <use style=\"fill-opacity:0;stroke:#000000;\" x=\"468.465625\" xlink:href=\"#m1c332372e8\" y=\"359.261167\"/>\n     <use style=\"fill-opacity:0;stroke:#000000;\" x=\"468.465625\" xlink:href=\"#m1c332372e8\" y=\"351.508593\"/>\n     <use style=\"fill-opacity:0;stroke:#000000;\" x=\"468.465625\" xlink:href=\"#m1c332372e8\" y=\"380.727341\"/>\n     <use style=\"fill-opacity:0;stroke:#000000;\" x=\"468.465625\" xlink:href=\"#m1c332372e8\" y=\"353.458726\"/>\n     <use style=\"fill-opacity:0;stroke:#000000;\" x=\"468.465625\" xlink:href=\"#m1c332372e8\" y=\"357.054616\"/>\n     <use style=\"fill-opacity:0;stroke:#000000;\" x=\"468.465625\" xlink:href=\"#m1c332372e8\" y=\"354.255401\"/>\n     <use style=\"fill-opacity:0;stroke:#000000;\" x=\"468.465625\" xlink:href=\"#m1c332372e8\" y=\"398.252461\"/>\n     <use style=\"fill-opacity:0;stroke:#000000;\" x=\"468.465625\" xlink:href=\"#m1c332372e8\" y=\"449.155036\"/>\n     <use style=\"fill-opacity:0;stroke:#000000;\" x=\"468.465625\" xlink:href=\"#m1c332372e8\" y=\"428.028716\"/>\n     <use style=\"fill-opacity:0;stroke:#000000;\" x=\"468.465625\" xlink:href=\"#m1c332372e8\" y=\"357.89133\"/>\n     <use style=\"fill-opacity:0;stroke:#000000;\" x=\"468.465625\" xlink:href=\"#m1c332372e8\" y=\"423.323964\"/>\n     <use style=\"fill-opacity:0;stroke:#000000;\" x=\"468.465625\" xlink:href=\"#m1c332372e8\" y=\"389.22009\"/>\n     <use style=\"fill-opacity:0;stroke:#000000;\" x=\"468.465625\" xlink:href=\"#m1c332372e8\" y=\"391.450073\"/>\n     <use style=\"fill-opacity:0;stroke:#000000;\" x=\"468.465625\" xlink:href=\"#m1c332372e8\" y=\"381.365445\"/>\n     <use style=\"fill-opacity:0;stroke:#000000;\" x=\"468.465625\" xlink:href=\"#m1c332372e8\" y=\"379.464383\"/>\n     <use style=\"fill-opacity:0;stroke:#000000;\" x=\"468.465625\" xlink:href=\"#m1c332372e8\" y=\"465.643636\"/>\n     <use style=\"fill-opacity:0;stroke:#000000;\" x=\"468.465625\" xlink:href=\"#m1c332372e8\" y=\"356.15291\"/>\n     <use style=\"fill-opacity:0;stroke:#000000;\" x=\"468.465625\" xlink:href=\"#m1c332372e8\" y=\"400.155083\"/>\n     <use style=\"fill-opacity:0;stroke:#000000;\" x=\"468.465625\" xlink:href=\"#m1c332372e8\" y=\"366.950979\"/>\n     <use style=\"fill-opacity:0;stroke:#000000;\" x=\"468.465625\" xlink:href=\"#m1c332372e8\" y=\"350.81792\"/>\n     <use style=\"fill-opacity:0;stroke:#000000;\" x=\"468.465625\" xlink:href=\"#m1c332372e8\" y=\"369.069949\"/>\n     <use style=\"fill-opacity:0;stroke:#000000;\" x=\"468.465625\" xlink:href=\"#m1c332372e8\" y=\"356.922692\"/>\n     <use style=\"fill-opacity:0;stroke:#000000;\" x=\"468.465625\" xlink:href=\"#m1c332372e8\" y=\"349.804049\"/>\n    </g>\n   </g>\n   <g id=\"line2d_20\">\n    <path clip-path=\"url(#pb6c0801916)\" d=\"M 158.865625 181.20909 \nL 202.065625 181.20909 \n\" style=\"fill:none;stroke:#2ca02c;stroke-linecap:square;\"/>\n   </g>\n   <g id=\"line2d_21\">\n    <path clip-path=\"url(#pb6c0801916)\" d=\"M 446.865625 211.602728 \nL 490.065625 211.602728 \n\" style=\"fill:none;stroke:#2ca02c;stroke-linecap:square;\"/>\n   </g>\n   <g id=\"patch_3\">\n    <path d=\"M 36.465625 485.28 \nL 36.465625 53.28 \n\" style=\"fill:none;stroke:#000000;stroke-linecap:square;stroke-linejoin:miter;stroke-width:0.8;\"/>\n   </g>\n   <g id=\"patch_4\">\n    <path d=\"M 612.465625 485.28 \nL 612.465625 53.28 \n\" style=\"fill:none;stroke:#000000;stroke-linecap:square;stroke-linejoin:miter;stroke-width:0.8;\"/>\n   </g>\n   <g id=\"patch_5\">\n    <path d=\"M 36.465625 485.28 \nL 612.465625 485.28 \n\" style=\"fill:none;stroke:#000000;stroke-linecap:square;stroke-linejoin:miter;stroke-width:0.8;\"/>\n   </g>\n   <g id=\"patch_6\">\n    <path d=\"M 36.465625 53.28 \nL 612.465625 53.28 \n\" style=\"fill:none;stroke:#000000;stroke-linecap:square;stroke-linejoin:miter;stroke-width:0.8;\"/>\n   </g>\n   <g id=\"text_9\">\n    <!-- meanfreq -->\n    <defs>\n     <path d=\"M 52 44.1875 \nQ 55.375 50.25 60.0625 53.125 \nQ 64.75 56 71.09375 56 \nQ 79.640625 56 84.28125 50.015625 \nQ 88.921875 44.046875 88.921875 33.015625 \nL 88.921875 0 \nL 79.890625 0 \nL 79.890625 32.71875 \nQ 79.890625 40.578125 77.09375 44.375 \nQ 74.3125 48.1875 68.609375 48.1875 \nQ 61.625 48.1875 57.5625 43.546875 \nQ 53.515625 38.921875 53.515625 30.90625 \nL 53.515625 0 \nL 44.484375 0 \nL 44.484375 32.71875 \nQ 44.484375 40.625 41.703125 44.40625 \nQ 38.921875 48.1875 33.109375 48.1875 \nQ 26.21875 48.1875 22.15625 43.53125 \nQ 18.109375 38.875 18.109375 30.90625 \nL 18.109375 0 \nL 9.078125 0 \nL 9.078125 54.6875 \nL 18.109375 54.6875 \nL 18.109375 46.1875 \nQ 21.1875 51.21875 25.484375 53.609375 \nQ 29.78125 56 35.6875 56 \nQ 41.65625 56 45.828125 52.96875 \nQ 50 49.953125 52 44.1875 \nz\n\" id=\"DejaVuSans-109\"/>\n     <path d=\"M 54.890625 33.015625 \nL 54.890625 0 \nL 45.90625 0 \nL 45.90625 32.71875 \nQ 45.90625 40.484375 42.875 44.328125 \nQ 39.84375 48.1875 33.796875 48.1875 \nQ 26.515625 48.1875 22.3125 43.546875 \nQ 18.109375 38.921875 18.109375 30.90625 \nL 18.109375 0 \nL 9.078125 0 \nL 9.078125 54.6875 \nL 18.109375 54.6875 \nL 18.109375 46.1875 \nQ 21.34375 51.125 25.703125 53.5625 \nQ 30.078125 56 35.796875 56 \nQ 45.21875 56 50.046875 50.171875 \nQ 54.890625 44.34375 54.890625 33.015625 \nz\n\" id=\"DejaVuSans-110\"/>\n     <path d=\"M 37.109375 75.984375 \nL 37.109375 68.5 \nL 28.515625 68.5 \nQ 23.6875 68.5 21.796875 66.546875 \nQ 19.921875 64.59375 19.921875 59.515625 \nL 19.921875 54.6875 \nL 34.71875 54.6875 \nL 34.71875 47.703125 \nL 19.921875 47.703125 \nL 19.921875 0 \nL 10.890625 0 \nL 10.890625 47.703125 \nL 2.296875 47.703125 \nL 2.296875 54.6875 \nL 10.890625 54.6875 \nL 10.890625 58.5 \nQ 10.890625 67.625 15.140625 71.796875 \nQ 19.390625 75.984375 28.609375 75.984375 \nz\n\" id=\"DejaVuSans-102\"/>\n     <path d=\"M 41.109375 46.296875 \nQ 39.59375 47.171875 37.8125 47.578125 \nQ 36.03125 48 33.890625 48 \nQ 26.265625 48 22.1875 43.046875 \nQ 18.109375 38.09375 18.109375 28.8125 \nL 18.109375 0 \nL 9.078125 0 \nL 9.078125 54.6875 \nL 18.109375 54.6875 \nL 18.109375 46.1875 \nQ 20.953125 51.171875 25.484375 53.578125 \nQ 30.03125 56 36.53125 56 \nQ 37.453125 56 38.578125 55.875 \nQ 39.703125 55.765625 41.0625 55.515625 \nz\n\" id=\"DejaVuSans-114\"/>\n     <path d=\"M 14.796875 27.296875 \nQ 14.796875 17.390625 18.875 11.75 \nQ 22.953125 6.109375 30.078125 6.109375 \nQ 37.203125 6.109375 41.296875 11.75 \nQ 45.40625 17.390625 45.40625 27.296875 \nQ 45.40625 37.203125 41.296875 42.84375 \nQ 37.203125 48.484375 30.078125 48.484375 \nQ 22.953125 48.484375 18.875 42.84375 \nQ 14.796875 37.203125 14.796875 27.296875 \nz\nM 45.40625 8.203125 \nQ 42.578125 3.328125 38.25 0.953125 \nQ 33.9375 -1.421875 27.875 -1.421875 \nQ 17.96875 -1.421875 11.734375 6.484375 \nQ 5.515625 14.40625 5.515625 27.296875 \nQ 5.515625 40.1875 11.734375 48.09375 \nQ 17.96875 56 27.875 56 \nQ 33.9375 56 38.25 53.625 \nQ 42.578125 51.265625 45.40625 46.390625 \nL 45.40625 54.6875 \nL 54.390625 54.6875 \nL 54.390625 -20.796875 \nL 45.40625 -20.796875 \nz\n\" id=\"DejaVuSans-113\"/>\n    </defs>\n    <g transform=\"translate(295.505313 47.28)scale(0.12 -0.12)\">\n     <use xlink:href=\"#DejaVuSans-109\"/>\n     <use x=\"97.412109\" xlink:href=\"#DejaVuSans-101\"/>\n     <use x=\"158.935547\" xlink:href=\"#DejaVuSans-97\"/>\n     <use x=\"220.214844\" xlink:href=\"#DejaVuSans-110\"/>\n     <use x=\"283.59375\" xlink:href=\"#DejaVuSans-102\"/>\n     <use x=\"318.798828\" xlink:href=\"#DejaVuSans-114\"/>\n     <use x=\"357.662109\" xlink:href=\"#DejaVuSans-101\"/>\n     <use x=\"419.185547\" xlink:href=\"#DejaVuSans-113\"/>\n    </g>\n   </g>\n  </g>\n  <g id=\"text_10\">\n   <!-- Boxplot grouped by label -->\n   <defs>\n    <path d=\"M 19.671875 34.8125 \nL 19.671875 8.109375 \nL 35.5 8.109375 \nQ 43.453125 8.109375 47.28125 11.40625 \nQ 51.125 14.703125 51.125 21.484375 \nQ 51.125 28.328125 47.28125 31.5625 \nQ 43.453125 34.8125 35.5 34.8125 \nz\nM 19.671875 64.796875 \nL 19.671875 42.828125 \nL 34.28125 42.828125 \nQ 41.5 42.828125 45.03125 45.53125 \nQ 48.578125 48.25 48.578125 53.8125 \nQ 48.578125 59.328125 45.03125 62.0625 \nQ 41.5 64.796875 34.28125 64.796875 \nz\nM 9.8125 72.90625 \nL 35.015625 72.90625 \nQ 46.296875 72.90625 52.390625 68.21875 \nQ 58.5 63.53125 58.5 54.890625 \nQ 58.5 48.1875 55.375 44.234375 \nQ 52.25 40.28125 46.1875 39.3125 \nQ 53.46875 37.75 57.5 32.78125 \nQ 61.53125 27.828125 61.53125 20.40625 \nQ 61.53125 10.640625 54.890625 5.3125 \nQ 48.25 0 35.984375 0 \nL 9.8125 0 \nz\n\" id=\"DejaVuSans-66\"/>\n    <path d=\"M 30.609375 48.390625 \nQ 23.390625 48.390625 19.1875 42.75 \nQ 14.984375 37.109375 14.984375 27.296875 \nQ 14.984375 17.484375 19.15625 11.84375 \nQ 23.34375 6.203125 30.609375 6.203125 \nQ 37.796875 6.203125 41.984375 11.859375 \nQ 46.1875 17.53125 46.1875 27.296875 \nQ 46.1875 37.015625 41.984375 42.703125 \nQ 37.796875 48.390625 30.609375 48.390625 \nz\nM 30.609375 56 \nQ 42.328125 56 49.015625 48.375 \nQ 55.71875 40.765625 55.71875 27.296875 \nQ 55.71875 13.875 49.015625 6.21875 \nQ 42.328125 -1.421875 30.609375 -1.421875 \nQ 18.84375 -1.421875 12.171875 6.21875 \nQ 5.515625 13.875 5.515625 27.296875 \nQ 5.515625 40.765625 12.171875 48.375 \nQ 18.84375 56 30.609375 56 \nz\n\" id=\"DejaVuSans-111\"/>\n    <path d=\"M 54.890625 54.6875 \nL 35.109375 28.078125 \nL 55.90625 0 \nL 45.3125 0 \nL 29.390625 21.484375 \nL 13.484375 0 \nL 2.875 0 \nL 24.125 28.609375 \nL 4.6875 54.6875 \nL 15.28125 54.6875 \nL 29.78125 35.203125 \nL 44.28125 54.6875 \nz\n\" id=\"DejaVuSans-120\"/>\n    <path d=\"M 18.109375 8.203125 \nL 18.109375 -20.796875 \nL 9.078125 -20.796875 \nL 9.078125 54.6875 \nL 18.109375 54.6875 \nL 18.109375 46.390625 \nQ 20.953125 51.265625 25.265625 53.625 \nQ 29.59375 56 35.59375 56 \nQ 45.5625 56 51.78125 48.09375 \nQ 58.015625 40.1875 58.015625 27.296875 \nQ 58.015625 14.40625 51.78125 6.484375 \nQ 45.5625 -1.421875 35.59375 -1.421875 \nQ 29.59375 -1.421875 25.265625 0.953125 \nQ 20.953125 3.328125 18.109375 8.203125 \nz\nM 48.6875 27.296875 \nQ 48.6875 37.203125 44.609375 42.84375 \nQ 40.53125 48.484375 33.40625 48.484375 \nQ 26.265625 48.484375 22.1875 42.84375 \nQ 18.109375 37.203125 18.109375 27.296875 \nQ 18.109375 17.390625 22.1875 11.75 \nQ 26.265625 6.109375 33.40625 6.109375 \nQ 40.53125 6.109375 44.609375 11.75 \nQ 48.6875 17.390625 48.6875 27.296875 \nz\n\" id=\"DejaVuSans-112\"/>\n    <path d=\"M 18.3125 70.21875 \nL 18.3125 54.6875 \nL 36.8125 54.6875 \nL 36.8125 47.703125 \nL 18.3125 47.703125 \nL 18.3125 18.015625 \nQ 18.3125 11.328125 20.140625 9.421875 \nQ 21.96875 7.515625 27.59375 7.515625 \nL 36.8125 7.515625 \nL 36.8125 0 \nL 27.59375 0 \nQ 17.1875 0 13.234375 3.875 \nQ 9.28125 7.765625 9.28125 18.015625 \nL 9.28125 47.703125 \nL 2.6875 47.703125 \nL 2.6875 54.6875 \nL 9.28125 54.6875 \nL 9.28125 70.21875 \nz\n\" id=\"DejaVuSans-116\"/>\n    <path id=\"DejaVuSans-32\"/>\n    <path d=\"M 45.40625 27.984375 \nQ 45.40625 37.75 41.375 43.109375 \nQ 37.359375 48.484375 30.078125 48.484375 \nQ 22.859375 48.484375 18.828125 43.109375 \nQ 14.796875 37.75 14.796875 27.984375 \nQ 14.796875 18.265625 18.828125 12.890625 \nQ 22.859375 7.515625 30.078125 7.515625 \nQ 37.359375 7.515625 41.375 12.890625 \nQ 45.40625 18.265625 45.40625 27.984375 \nz\nM 54.390625 6.78125 \nQ 54.390625 -7.171875 48.1875 -13.984375 \nQ 42 -20.796875 29.203125 -20.796875 \nQ 24.46875 -20.796875 20.265625 -20.09375 \nQ 16.0625 -19.390625 12.109375 -17.921875 \nL 12.109375 -9.1875 \nQ 16.0625 -11.328125 19.921875 -12.34375 \nQ 23.78125 -13.375 27.78125 -13.375 \nQ 36.625 -13.375 41.015625 -8.765625 \nQ 45.40625 -4.15625 45.40625 5.171875 \nL 45.40625 9.625 \nQ 42.625 4.78125 38.28125 2.390625 \nQ 33.9375 0 27.875 0 \nQ 17.828125 0 11.671875 7.65625 \nQ 5.515625 15.328125 5.515625 27.984375 \nQ 5.515625 40.671875 11.671875 48.328125 \nQ 17.828125 56 27.875 56 \nQ 33.9375 56 38.28125 53.609375 \nQ 42.625 51.21875 45.40625 46.390625 \nL 45.40625 54.6875 \nL 54.390625 54.6875 \nz\n\" id=\"DejaVuSans-103\"/>\n    <path d=\"M 8.5 21.578125 \nL 8.5 54.6875 \nL 17.484375 54.6875 \nL 17.484375 21.921875 \nQ 17.484375 14.15625 20.5 10.265625 \nQ 23.53125 6.390625 29.59375 6.390625 \nQ 36.859375 6.390625 41.078125 11.03125 \nQ 45.3125 15.671875 45.3125 23.6875 \nL 45.3125 54.6875 \nL 54.296875 54.6875 \nL 54.296875 0 \nL 45.3125 0 \nL 45.3125 8.40625 \nQ 42.046875 3.421875 37.71875 1 \nQ 33.40625 -1.421875 27.6875 -1.421875 \nQ 18.265625 -1.421875 13.375 4.4375 \nQ 8.5 10.296875 8.5 21.578125 \nz\nM 31.109375 56 \nz\n\" id=\"DejaVuSans-117\"/>\n    <path d=\"M 45.40625 46.390625 \nL 45.40625 75.984375 \nL 54.390625 75.984375 \nL 54.390625 0 \nL 45.40625 0 \nL 45.40625 8.203125 \nQ 42.578125 3.328125 38.25 0.953125 \nQ 33.9375 -1.421875 27.875 -1.421875 \nQ 17.96875 -1.421875 11.734375 6.484375 \nQ 5.515625 14.40625 5.515625 27.296875 \nQ 5.515625 40.1875 11.734375 48.09375 \nQ 17.96875 56 27.875 56 \nQ 33.9375 56 38.25 53.625 \nQ 42.578125 51.265625 45.40625 46.390625 \nz\nM 14.796875 27.296875 \nQ 14.796875 17.390625 18.875 11.75 \nQ 22.953125 6.109375 30.078125 6.109375 \nQ 37.203125 6.109375 41.296875 11.75 \nQ 45.40625 17.390625 45.40625 27.296875 \nQ 45.40625 37.203125 41.296875 42.84375 \nQ 37.203125 48.484375 30.078125 48.484375 \nQ 22.953125 48.484375 18.875 42.84375 \nQ 14.796875 37.203125 14.796875 27.296875 \nz\n\" id=\"DejaVuSans-100\"/>\n    <path d=\"M 32.171875 -5.078125 \nQ 28.375 -14.84375 24.75 -17.8125 \nQ 21.140625 -20.796875 15.09375 -20.796875 \nL 7.90625 -20.796875 \nL 7.90625 -13.28125 \nL 13.1875 -13.28125 \nQ 16.890625 -13.28125 18.9375 -11.515625 \nQ 21 -9.765625 23.484375 -3.21875 \nL 25.09375 0.875 \nL 2.984375 54.6875 \nL 12.5 54.6875 \nL 29.59375 11.921875 \nL 46.6875 54.6875 \nL 56.203125 54.6875 \nz\n\" id=\"DejaVuSans-121\"/>\n   </defs>\n   <g transform=\"translate(249.297812 16.318125)scale(0.12 -0.12)\">\n    <use xlink:href=\"#DejaVuSans-66\"/>\n    <use x=\"68.603516\" xlink:href=\"#DejaVuSans-111\"/>\n    <use x=\"126.660156\" xlink:href=\"#DejaVuSans-120\"/>\n    <use x=\"185.839844\" xlink:href=\"#DejaVuSans-112\"/>\n    <use x=\"249.316406\" xlink:href=\"#DejaVuSans-108\"/>\n    <use x=\"277.099609\" xlink:href=\"#DejaVuSans-111\"/>\n    <use x=\"338.28125\" xlink:href=\"#DejaVuSans-116\"/>\n    <use x=\"377.490234\" xlink:href=\"#DejaVuSans-32\"/>\n    <use x=\"409.277344\" xlink:href=\"#DejaVuSans-103\"/>\n    <use x=\"472.753906\" xlink:href=\"#DejaVuSans-114\"/>\n    <use x=\"511.617188\" xlink:href=\"#DejaVuSans-111\"/>\n    <use x=\"572.798828\" xlink:href=\"#DejaVuSans-117\"/>\n    <use x=\"636.177734\" xlink:href=\"#DejaVuSans-112\"/>\n    <use x=\"699.654297\" xlink:href=\"#DejaVuSans-101\"/>\n    <use x=\"761.177734\" xlink:href=\"#DejaVuSans-100\"/>\n    <use x=\"824.654297\" xlink:href=\"#DejaVuSans-32\"/>\n    <use x=\"856.441406\" xlink:href=\"#DejaVuSans-98\"/>\n    <use x=\"919.917969\" xlink:href=\"#DejaVuSans-121\"/>\n    <use x=\"979.097656\" xlink:href=\"#DejaVuSans-32\"/>\n    <use x=\"1010.884766\" xlink:href=\"#DejaVuSans-108\"/>\n    <use x=\"1038.667969\" xlink:href=\"#DejaVuSans-97\"/>\n    <use x=\"1099.947266\" xlink:href=\"#DejaVuSans-98\"/>\n    <use x=\"1163.423828\" xlink:href=\"#DejaVuSans-101\"/>\n    <use x=\"1224.947266\" xlink:href=\"#DejaVuSans-108\"/>\n   </g>\n  </g>\n </g>\n <defs>\n  <clipPath id=\"pb6c0801916\">\n   <rect height=\"432\" width=\"576\" x=\"36.465625\" y=\"53.28\"/>\n  </clipPath>\n </defs>\n</svg>\n",
      "image/png": "[encoded data removed]"
     },
     "metadata": {
      "needs_background": "light"
     }
    }
   ],
   "source": [
    "data.boxplot(by ='label', column =['meanfreq'], grid = False, figsize=(10, 8) )"
   ]
  },
  {
   "cell_type": "markdown",
   "metadata": {},
   "source": [
    "### Logistic Regression Classifier\n"
   ]
  },
  {
   "cell_type": "code",
   "execution_count": 9,
   "metadata": {},
   "outputs": [],
   "source": [
    "def logistic_model(x_train, y_train):\n",
    "    print(\"Logistic Regression Model\")\n",
    "    logistic_classifier = LogisticRegression(penalty='l2', solver='liblinear')\n",
    "    logistic_classifier.fit(x_train, y_train)\n",
    "    return logistic_classifier \n"
   ]
  },
  {
   "cell_type": "markdown",
   "metadata": {},
   "source": [
    "### Naive Baye's Classifier\n"
   ]
  },
  {
   "cell_type": "code",
   "execution_count": 10,
   "metadata": {},
   "outputs": [],
   "source": [
    "def naive_bayes_model(x_train, y_train):\n",
    "    print(\"Naive Bayes model\")\n",
    "    naive_bayes_classifier = GaussianNB()\n",
    "    naive_bayes_classifier.fit(x_train, y_train)\n",
    "    return naive_bayes_classifier"
   ]
  },
  {
   "cell_type": "markdown",
   "metadata": {},
   "source": [
    "### K-nearest-neighbors Classifier"
   ]
  },
  {
   "cell_type": "code",
   "execution_count": 11,
   "metadata": {},
   "outputs": [],
   "source": [
    "def k_nearest_neighbors_model(x_train, y_train):\n",
    "    print(\"K-Nearest neighbor model\")\n",
    "    k_nearest_neighbors_classifier = KNeighborsClassifier(n_neighbors=10)\n",
    "    k_nearest_neighbors_classifier.fit(x_train, y_train)\n",
    "    return k_nearest_neighbors_classifier\n"
   ]
  },
  {
   "cell_type": "markdown",
   "metadata": {},
   "source": [
    "### Support Vector Classifier"
   ]
  },
  {
   "cell_type": "code",
   "execution_count": 12,
   "metadata": {},
   "outputs": [],
   "source": [
    "def svc_model(x_train, y_train):\n",
    "    print(\"SVC model\")\n",
    "    svc_classifier = SVC(kernel='rbf', gamma='scale')\n",
    "    svc_classifier.fit(x_train, y_train)\n",
    "    return svc_classifier"
   ]
  },
  {
   "cell_type": "markdown",
   "metadata": {},
   "source": [
    "### MLP Neural Network Classifier"
   ]
  },
  {
   "cell_type": "code",
   "execution_count": 13,
   "metadata": {},
   "outputs": [],
   "source": [
    "def mlp_model(x_train, y_train):\n",
    "    print(\"MLP Neural Network\")\n",
    "    mlp_classifier = MLPClassifier(activation='relu', hidden_layer_sizes=(20,20,20) , solver='adam', verbose=True, max_iter=1000)\n",
    "    mlp_classifier.fit(x_train, y_train)\n",
    "\n",
    "    return mlp_classifier"
   ]
  },
  {
   "cell_type": "markdown",
   "metadata": {},
   "source": [
    "### Decision Tree Classifier"
   ]
  },
  {
   "cell_type": "code",
   "execution_count": 14,
   "metadata": {},
   "outputs": [],
   "source": [
    "def decision_tree_model(x_train, y_train):\n",
    "    print(\"Decision tree model\")\n",
    "    decision_classifier = DecisionTreeClassifier(max_depth=6)\n",
    "    decision_classifier.fit(x_train, y_train)\n",
    "    return decision_classifier"
   ]
  },
  {
   "cell_type": "markdown",
   "metadata": {},
   "source": [
    "### Train-Test Split and Standard Scaler\n",
    "\n",
    "Defining the X and Y variables and splitting the data 80% training and 20% test, and standardizing the x-variables."
   ]
  },
  {
   "cell_type": "code",
   "execution_count": 15,
   "metadata": {},
   "outputs": [],
   "source": [
    "    X = data.drop('label', axis=1)\n",
    "    Y = data['label']\n",
    "    x_train, x_test, y_train, y_test = train_test_split(X, Y, shuffle = True, test_size=0.2, random_state=0)\n",
    "    scaler = StandardScaler()\n",
    "    scaler.fit(x_train)\n",
    "\n",
    "    x_train = scaler.transform(x_train)\n",
    "\n",
    "    x_test = scaler.transform(x_test)\n",
    "    "
   ]
  },
  {
   "cell_type": "code",
   "execution_count": null,
   "metadata": {},
   "outputs": [],
   "source": [
    "### Build, Train, test and evaluate model \n",
    " For our evaluations We not only measured the accuracy but also displayed the confusion matrix which evaluates the performance of each classification. From the confusion matrix we can derive the Precision (ratio of True positive(TP)/(TP + FP(False Positive))) , Recall(ratio of TP/TP + FN (False Negative)) and f1 - scores(where weighted average of the precision and recall, where an F1 score reaches its best value at 1 and worst score at 0. f1 = 2 * (precision * recall) / (precision + recall)).\n",
    "    "
   ]
  },
  {
   "cell_type": "code",
   "execution_count": 16,
   "metadata": {},
   "outputs": [],
   "source": [
    "def build_and_train_model(data, target_name, class_fn):\n",
    "\n",
    "    model = class_fn(x_train, y_train)\n",
    "    \n",
    "    score = model.score(x_train, y_train)\n",
    "    print(\"Training Score : \", score)\n",
    "\n",
    "    y_pred = model.predict(x_test)\n",
    "\n",
    "    accuracy = accuracy_score(y_test, y_pred)\n",
    "    print(\"Testing Score: \", accuracy)\n",
    "\n",
    "    Confusion_Matrix = confusion_matrix(y_test, y_pred)\n",
    "    \n",
    "    Classification_report = classification_report(y_test, y_pred)\n",
    "\n",
    "    df_y = pd.DataFrame({'y_test' : y_test, 'y_pred' : y_pred})\n",
    "    print(df_y.sample(10))\n",
    "\n",
    "\n",
    "    return {'model' : model, \n",
    "            'x_train' : x_train, 'x_test' : x_test,\n",
    "            'y_train' : y_train, 'y_test' : y_test, \n",
    "            'y_pred' : y_pred, 'sample' : df_y.sample(10), 'Confusion Matrix' : print(' \\n Confusion_matrix : \\n', Confusion_Matrix),\n",
    "            'Classification Report' : print('\\n Classification Report : \\n', Classification_report)\n",
    "           }\n",
    "\n",
    "\n",
    "\n",
    "\n"
   ]
  },
  {
   "cell_type": "markdown",
   "metadata": {},
   "source": [
    "Utilizing the build and train model function to predict classification (male or female), score and generate classification report for eeach model on the data. 3 inputs as needed: data file, value to predict(label), and the type of model below. Results in order Training score, Testing/accuracy, precision, recall and f1- score to evaluate the classification accuracy and the Y_test: actual values and Y_pred = predicted values. "
   ]
  },
  {
   "cell_type": "code",
   "execution_count": 17,
   "metadata": {
    "tags": []
   },
   "outputs": [
    {
     "output_type": "stream",
     "name": "stdout",
     "text": "Logistic Regression Model\nTraining Score :  0.9747434885556433\nTesting Score:  0.973186119873817\n      y_test  y_pred\n2245       0       1\n2128       0       0\n861        1       1\n1964       0       1\n410        1       1\n1505       1       1\n2638       0       0\n1254       1       1\n1390       1       1\n117        1       1\n \n Confusion_matrix : \n [[289  12]\n [  5 328]]\n\n Classification Report : \n               precision    recall  f1-score   support\n\n           0       0.98      0.96      0.97       301\n           1       0.96      0.98      0.97       333\n\n    accuracy                           0.97       634\n   macro avg       0.97      0.97      0.97       634\nweighted avg       0.97      0.97      0.97       634\n\n"
    }
   ],
   "source": [
    "Logistic_Regression_model = build_and_train_model(data, 'label', logistic_model)"
   ]
  },
  {
   "cell_type": "code",
   "execution_count": 18,
   "metadata": {
    "tags": []
   },
   "outputs": [
    {
     "output_type": "stream",
     "name": "stdout",
     "text": "Naive Bayes model\nTraining Score :  0.8970007892659826\nTesting Score:  0.8848580441640379\n      y_test  y_pred\n2731       0       0\n2485       0       0\n1330       1       1\n446        1       1\n1267       1       1\n2031       0       0\n668        1       1\n776        1       1\n1768       0       1\n2215       0       0\n \n Confusion_matrix : \n [[266  35]\n [ 38 295]]\n\n Classification Report : \n               precision    recall  f1-score   support\n\n           0       0.88      0.88      0.88       301\n           1       0.89      0.89      0.89       333\n\n    accuracy                           0.88       634\n   macro avg       0.88      0.88      0.88       634\nweighted avg       0.88      0.88      0.88       634\n\n"
    }
   ],
   "source": [
    "naive_bayes_model = build_and_train_model(data, 'label', naive_bayes_model)"
   ]
  },
  {
   "cell_type": "code",
   "execution_count": 19,
   "metadata": {
    "tags": []
   },
   "outputs": [
    {
     "output_type": "stream",
     "name": "stdout",
     "text": "K-Nearest neighbor model\nTraining Score :  0.9779005524861878\nTesting Score:  0.9747634069400631\n      y_test  y_pred\n1283       1       1\n2095       0       0\n712        1       1\n1038       1       1\n692        1       1\n1861       0       0\n1767       0       0\n1015       1       1\n1457       1       1\n302        1       1\n \n Confusion_matrix : \n [[292   9]\n [  7 326]]\n\n Classification Report : \n               precision    recall  f1-score   support\n\n           0       0.98      0.97      0.97       301\n           1       0.97      0.98      0.98       333\n\n    accuracy                           0.97       634\n   macro avg       0.97      0.97      0.97       634\nweighted avg       0.97      0.97      0.97       634\n\n"
    }
   ],
   "source": [
    "k_nearest_neighbors_model = build_and_train_model(data, 'label', k_nearest_neighbors_model)"
   ]
  },
  {
   "cell_type": "code",
   "execution_count": 20,
   "metadata": {
    "tags": []
   },
   "outputs": [
    {
     "output_type": "stream",
     "name": "stdout",
     "text": "SVC model\nTraining Score :  0.9846093133385951\nTesting Score:  0.9842271293375394\n      y_test  y_pred\n880        1       1\n1850       0       0\n242        1       1\n1127       1       1\n1861       0       0\n3003       0       0\n2587       0       0\n2275       0       0\n1927       0       0\n2279       0       0\n \n Confusion_matrix : \n [[297   4]\n [  6 327]]\n\n Classification Report : \n               precision    recall  f1-score   support\n\n           0       0.98      0.99      0.98       301\n           1       0.99      0.98      0.98       333\n\n    accuracy                           0.98       634\n   macro avg       0.98      0.98      0.98       634\nweighted avg       0.98      0.98      0.98       634\n\n"
    }
   ],
   "source": [
    "support_vector_classifier_model = build_and_train_model(data, 'label', svc_model)"
   ]
  },
  {
   "cell_type": "code",
   "execution_count": 21,
   "metadata": {
    "tags": []
   },
   "outputs": [
    {
     "output_type": "stream",
     "name": "stdout",
     "text": "MLP Neural Network\nIteration 1, loss = 0.61548635\nIteration 2, loss = 0.52786735\nIteration 3, loss = 0.44769139\nIteration 4, loss = 0.37120999\nIteration 5, loss = 0.30381663\nIteration 6, loss = 0.24680668\nIteration 7, loss = 0.19934544\nIteration 8, loss = 0.16226046\nIteration 9, loss = 0.13535941\nIteration 10, loss = 0.11815242\nIteration 11, loss = 0.10522658\nIteration 12, loss = 0.09609977\nIteration 13, loss = 0.08889537\nIteration 14, loss = 0.08336971\nIteration 15, loss = 0.07982205\nIteration 16, loss = 0.07562123\nIteration 17, loss = 0.07301848\nIteration 18, loss = 0.07062552\nIteration 19, loss = 0.06950372\nIteration 20, loss = 0.06687980\nIteration 21, loss = 0.06584020\nIteration 22, loss = 0.06462165\nIteration 23, loss = 0.06503456\nIteration 24, loss = 0.06244386\nIteration 25, loss = 0.06102884\nIteration 26, loss = 0.06030622\nIteration 27, loss = 0.05900395\nIteration 28, loss = 0.05856556\nIteration 29, loss = 0.05808110\nIteration 30, loss = 0.05630242\nIteration 31, loss = 0.05598668\nIteration 32, loss = 0.05507187\nIteration 33, loss = 0.05403048\nIteration 34, loss = 0.05337259\nIteration 35, loss = 0.05287250\nIteration 36, loss = 0.05207993\nIteration 37, loss = 0.05120640\nIteration 38, loss = 0.05055653\nIteration 39, loss = 0.05002333\nIteration 40, loss = 0.04970616\nIteration 41, loss = 0.04864831\nIteration 42, loss = 0.04834911\nIteration 43, loss = 0.04784551\nIteration 44, loss = 0.04714537\nIteration 45, loss = 0.04705066\nIteration 46, loss = 0.04606521\nIteration 47, loss = 0.04615905\nIteration 48, loss = 0.04613385\nIteration 49, loss = 0.04577281\nIteration 50, loss = 0.04500972\nIteration 51, loss = 0.04475478\nIteration 52, loss = 0.04377312\nIteration 53, loss = 0.04340080\nIteration 54, loss = 0.04254860\nIteration 55, loss = 0.04190489\nIteration 56, loss = 0.04114700\nIteration 57, loss = 0.04108340\nIteration 58, loss = 0.04074875\nIteration 59, loss = 0.03986406\nIteration 60, loss = 0.03946164\nIteration 61, loss = 0.03922853\nIteration 62, loss = 0.03862028\nIteration 63, loss = 0.03835101\nIteration 64, loss = 0.03728761\nIteration 65, loss = 0.03719386\nIteration 66, loss = 0.03654651\nIteration 67, loss = 0.03642185\nIteration 68, loss = 0.03595035\nIteration 69, loss = 0.03559100\nIteration 70, loss = 0.03536408\nIteration 71, loss = 0.03450107\nIteration 72, loss = 0.03458079\nIteration 73, loss = 0.03404285\nIteration 74, loss = 0.03489095\nIteration 75, loss = 0.03315423\nIteration 76, loss = 0.03253929\nIteration 77, loss = 0.03244866\nIteration 78, loss = 0.03208610\nIteration 79, loss = 0.03118167\nIteration 80, loss = 0.03112703\nIteration 81, loss = 0.03120085\nIteration 82, loss = 0.03095940\nIteration 83, loss = 0.03057789\nIteration 84, loss = 0.03041275\nIteration 85, loss = 0.02876544\nIteration 86, loss = 0.02817744\nIteration 87, loss = 0.02842244\nIteration 88, loss = 0.02764949\nIteration 89, loss = 0.02759357\nIteration 90, loss = 0.02725404\nIteration 91, loss = 0.02629762\nIteration 92, loss = 0.02668604\nIteration 93, loss = 0.02565294\nIteration 94, loss = 0.02562922\nIteration 95, loss = 0.02592622\nIteration 96, loss = 0.02605073\nIteration 97, loss = 0.02478114\nIteration 98, loss = 0.02406500\nIteration 99, loss = 0.02467169\nIteration 100, loss = 0.02338510\nIteration 101, loss = 0.02237076\nIteration 102, loss = 0.02280705\nIteration 103, loss = 0.02187529\nIteration 104, loss = 0.02263909\nIteration 105, loss = 0.02137184\nIteration 106, loss = 0.02097232\nIteration 107, loss = 0.02095302\nIteration 108, loss = 0.02039376\nIteration 109, loss = 0.02022830\nIteration 110, loss = 0.02047239\nIteration 111, loss = 0.01956050\nIteration 112, loss = 0.01972952\nIteration 113, loss = 0.01870671\nIteration 114, loss = 0.01897971\nIteration 115, loss = 0.01800871\nIteration 116, loss = 0.01795527\nIteration 117, loss = 0.01829682\nIteration 118, loss = 0.01769869\nIteration 119, loss = 0.01722209\nIteration 120, loss = 0.01731037\nIteration 121, loss = 0.01708462\nIteration 122, loss = 0.01662561\nIteration 123, loss = 0.01618068\nIteration 124, loss = 0.01621251\nIteration 125, loss = 0.01608566\nIteration 126, loss = 0.01581282\nIteration 127, loss = 0.01532689\nIteration 128, loss = 0.01557702\nIteration 129, loss = 0.01563899\nIteration 130, loss = 0.01468046\nIteration 131, loss = 0.01467957\nIteration 132, loss = 0.01448646\nIteration 133, loss = 0.01420712\nIteration 134, loss = 0.01422277\nIteration 135, loss = 0.01402951\nIteration 136, loss = 0.01431630\nIteration 137, loss = 0.01458341\nIteration 138, loss = 0.01543539\nIteration 139, loss = 0.01388282\nIteration 140, loss = 0.01328490\nIteration 141, loss = 0.01344113\nIteration 142, loss = 0.01293389\nIteration 143, loss = 0.01348800\nIteration 144, loss = 0.01258120\nIteration 145, loss = 0.01202801\nIteration 146, loss = 0.01198576\nIteration 147, loss = 0.01200392\nIteration 148, loss = 0.01178827\nIteration 149, loss = 0.01181347\nIteration 150, loss = 0.01109914\nIteration 151, loss = 0.01112547\nIteration 152, loss = 0.01083769\nIteration 153, loss = 0.01082613\nIteration 154, loss = 0.01083450\nIteration 155, loss = 0.01079701\nIteration 156, loss = 0.01060042\nIteration 157, loss = 0.01021590\nIteration 158, loss = 0.00991158\nIteration 159, loss = 0.01102910\nIteration 160, loss = 0.01265084\nIteration 161, loss = 0.01403516\nIteration 162, loss = 0.01230437\nIteration 163, loss = 0.01078079\nIteration 164, loss = 0.01051688\nIteration 165, loss = 0.00927535\nIteration 166, loss = 0.00940330\nIteration 167, loss = 0.00896350\nIteration 168, loss = 0.00872998\nIteration 169, loss = 0.00878207\nIteration 170, loss = 0.00844047\nIteration 171, loss = 0.00849484\nIteration 172, loss = 0.00880869\nIteration 173, loss = 0.00858580\nIteration 174, loss = 0.00804601\nIteration 175, loss = 0.00798272\nIteration 176, loss = 0.00787173\nIteration 177, loss = 0.00784311\nIteration 178, loss = 0.00782321\nIteration 179, loss = 0.00788376\nIteration 180, loss = 0.00774078\nIteration 181, loss = 0.00766700\nIteration 182, loss = 0.00740990\nIteration 183, loss = 0.00723005\nIteration 184, loss = 0.00722122\nIteration 185, loss = 0.00711586\nIteration 186, loss = 0.00708570\nIteration 187, loss = 0.00691953\nIteration 188, loss = 0.00676590\nIteration 189, loss = 0.00675276\nIteration 190, loss = 0.00669826\nIteration 191, loss = 0.00667618\nIteration 192, loss = 0.00649772\nIteration 193, loss = 0.00645804\nIteration 194, loss = 0.00635853\nIteration 195, loss = 0.00637941\nIteration 196, loss = 0.00636521\nIteration 197, loss = 0.00616956\nIteration 198, loss = 0.00614481\nIteration 199, loss = 0.00611913\nIteration 200, loss = 0.00592328\nIteration 201, loss = 0.00601909\nIteration 202, loss = 0.00586825\nIteration 203, loss = 0.00585324\nIteration 204, loss = 0.00569717\nIteration 205, loss = 0.00566709\nIteration 206, loss = 0.00584891\nIteration 207, loss = 0.00558757\nIteration 208, loss = 0.00558474\nIteration 209, loss = 0.00550898\nIteration 210, loss = 0.00534408\nIteration 211, loss = 0.00521475\nIteration 212, loss = 0.00534370\nIteration 213, loss = 0.00526930\nIteration 214, loss = 0.00557336\nIteration 215, loss = 0.00511099\nIteration 216, loss = 0.00495635\nIteration 217, loss = 0.00494495\nIteration 218, loss = 0.00483183\nIteration 219, loss = 0.00482340\nIteration 220, loss = 0.00468648\nIteration 221, loss = 0.00462951\nIteration 222, loss = 0.00463812\nIteration 223, loss = 0.00461938\nIteration 224, loss = 0.00455380\nIteration 225, loss = 0.00439431\nIteration 226, loss = 0.00441064\nIteration 227, loss = 0.00444893\nIteration 228, loss = 0.00443171\nIteration 229, loss = 0.00437052\nIteration 230, loss = 0.00445109\nIteration 231, loss = 0.00434220\nIteration 232, loss = 0.00423194\nIteration 233, loss = 0.00402345\nIteration 234, loss = 0.00400175\nIteration 235, loss = 0.00399017\nIteration 236, loss = 0.00386822\nIteration 237, loss = 0.00389814\nIteration 238, loss = 0.00382730\nIteration 239, loss = 0.00374245\nIteration 240, loss = 0.00371854\nIteration 241, loss = 0.00369838\nIteration 242, loss = 0.00360367\nIteration 243, loss = 0.00357813\nIteration 244, loss = 0.00353109\nIteration 245, loss = 0.00346452\nIteration 246, loss = 0.00343676\nIteration 247, loss = 0.00339012\nTraining loss did not improve more than tol=0.000100 for 10 consecutive epochs. Stopping.\nTraining Score :  0.9988161010260458\nTesting Score:  0.9794952681388013\n      y_test  y_pred\n2033       0       0\n461        1       1\n1654       0       0\n385        1       1\n2137       0       0\n2232       0       0\n712        1       1\n2385       0       0\n1901       0       0\n2919       0       0\n \n Confusion_matrix : \n [[291  10]\n [  3 330]]\n\n Classification Report : \n               precision    recall  f1-score   support\n\n           0       0.99      0.97      0.98       301\n           1       0.97      0.99      0.98       333\n\n    accuracy                           0.98       634\n   macro avg       0.98      0.98      0.98       634\nweighted avg       0.98      0.98      0.98       634\n\n"
    }
   ],
   "source": [
    "mlp_classifier_model = build_and_train_model(data, 'label', mlp_model)"
   ]
  },
  {
   "cell_type": "code",
   "execution_count": 22,
   "metadata": {
    "tags": []
   },
   "outputs": [
    {
     "output_type": "stream",
     "name": "stdout",
     "text": "Decision tree model\nTraining Score :  0.9928966061562746\nTesting Score:  0.9652996845425867\n      y_test  y_pred\n1985       0       0\n961        1       1\n1174       1       1\n2062       0       0\n2515       0       0\n1059       1       1\n148        1       1\n1683       0       0\n461        1       1\n2013       0       0\n \n Confusion_matrix : \n [[292   9]\n [ 13 320]]\n\n Classification Report : \n               precision    recall  f1-score   support\n\n           0       0.96      0.97      0.96       301\n           1       0.97      0.96      0.97       333\n\n    accuracy                           0.97       634\n   macro avg       0.97      0.97      0.97       634\nweighted avg       0.97      0.97      0.97       634\n\n"
    }
   ],
   "source": [
    "decision_tree_classifier_model = build_and_train_model(data, 'label', decision_tree_model)"
   ]
  },
  {
   "cell_type": "markdown",
   "metadata": {},
   "source": [
    "### Split the training data further into 2 parts to test warm_start"
   ]
  },
  {
   "cell_type": "code",
   "execution_count": 23,
   "metadata": {},
   "outputs": [],
   "source": [
    "x_train_1, x_train_2, y_train_1, y_train_2 = train_test_split(x_train, y_train, test_size=0.5)"
   ]
  },
  {
   "cell_type": "markdown",
   "metadata": {},
   "source": [
    "### Random Forest Classifier"
   ]
  },
  {
   "cell_type": "code",
   "execution_count": 24,
   "metadata": {},
   "outputs": [],
   "source": [
    "random_classifier_model = RandomForestClassifier(max_depth=4, n_estimators=2, warm_start=True)"
   ]
  },
  {
   "cell_type": "code",
   "execution_count": 25,
   "metadata": {
    "tags": []
   },
   "outputs": [
    {
     "output_type": "stream",
     "name": "stdout",
     "text": "Testing Score :  0.9274447949526814\n\n Confusion_matrix : \n [[270  31]\n [ 15 318]]\n\n Classification Report : \n               precision    recall  f1-score   support\n\n           0       0.95      0.90      0.92       301\n           1       0.91      0.95      0.93       333\n\n    accuracy                           0.93       634\n   macro avg       0.93      0.93      0.93       634\nweighted avg       0.93      0.93      0.93       634\n\n"
    }
   ],
   "source": [
    "random_classifier_model.fit(x_train_1, y_train_1)\n",
    "y_pred = random_classifier_model.predict(x_test)\n",
    "test_score = accuracy = accuracy_score(y_test, y_pred)\n",
    "Confusion_Matrix = confusion_matrix(y_test, y_pred)\n",
    "Classification_report = classification_report(y_test, y_pred)\n",
    "print(\"Testing Score : \", test_score)\n",
    "print('\\n Confusion_matrix : \\n', Confusion_Matrix)\n",
    "print('\\n Classification Report : \\n', Classification_report)"
   ]
  },
  {
   "cell_type": "code",
   "execution_count": 26,
   "metadata": {
    "tags": []
   },
   "outputs": [
    {
     "output_type": "stream",
     "name": "stdout",
     "text": "Testing Score :  0.944794952681388\n\n Confusion_matrix : \n [[270  31]\n [ 15 318]]\n\n Classification Report : \n               precision    recall  f1-score   support\n\n           0       0.95      0.90      0.92       301\n           1       0.91      0.95      0.93       333\n\n    accuracy                           0.93       634\n   macro avg       0.93      0.93      0.93       634\nweighted avg       0.93      0.93      0.93       634\n\n"
    }
   ],
   "source": [
    "random_classifier_model.n_estimators += 2\n",
    "random_classifier_model.fit(x_train_2, y_train_2)\n",
    "y_pred = random_classifier_model.predict(x_test)\n",
    "test_score = accuracy = accuracy_score(y_test, y_pred)\n",
    "print(\"Testing Score : \", test_score)\n",
    "print('\\n Confusion_matrix : \\n', Confusion_Matrix)\n",
    "print('\\n Classification Report : \\n', Classification_report)"
   ]
  }
 ]
}