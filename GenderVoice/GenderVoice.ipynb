{
 "metadata": {
  "language_info": {
   "codemirror_mode": {
    "name": "ipython",
    "version": 3
   },
   "file_extension": ".py",
   "mimetype": "text/x-python",
   "name": "python",
   "nbconvert_exporter": "python",
   "pygments_lexer": "ipython3",
   "version": "3.8.5-final"
  },
  "orig_nbformat": 2,
  "kernelspec": {
   "name": "python38364bitf1372b43cc4f4495801dde180fd35903",
   "display_name": "Python 3.8.3 64-bit"
  }
 },
 "nbformat": 4,
 "nbformat_minor": 2,
 "cells": [
  {
   "cell_type": "markdown",
   "metadata": {},
   "source": [
    "Gender voice dataset\n",
    "Source : https://www.mldata.io/dataset-details/gender_voice/\n",
    "meanfreq\t-\tmean frequency (in kHz)\n",
    "\n",
    "sd\t-\tstandard deviation of frequency\n",
    "\n",
    "median - median frequency (in kHz)\n",
    "\n",
    "IQR\t-\tinterquantile range (in kHz)\n",
    "\n",
    "sp.ent\t-\tspectral entropy\n",
    "\n",
    "centroid\t-\tfrequency centroid (see specprop)\n",
    "\n",
    "minfun\t-\tminimum fundamental frequency measured across acoustic signal\n",
    "\n",
    "label\t-\tPredictor class, male or female"
   ]
  },
  {
   "cell_type": "code",
   "execution_count": 65,
   "metadata": {},
   "outputs": [],
   "source": [
    "import pandas as pd\n",
    "import numpy as np \n",
    "import matplotlib.pyplot as plt \n",
    "from sklearn.linear_model import LogisticRegression\n",
    "from sklearn.naive_bayes import GaussianNB\n",
    "from sklearn.svm import SVC\n",
    "from sklearn.neighbors import KNeighborsClassifier\n",
    "from sklearn.tree import DecisionTreeClassifier\n",
    "from sklearn.ensemble import RandomForestClassifier\n",
    "from sklearn.model_selection import train_test_split\n",
    "from sklearn.neural_network import MLPClassifier \n",
    "from sklearn.preprocessing import LabelEncoder, StandardScaler\n",
    "from sklearn.metrics import accuracy_score, classification_report, confusion_matrix\n"
   ]
  },
  {
   "cell_type": "code",
   "execution_count": 66,
   "metadata": {},
   "outputs": [
    {
     "output_type": "execute_result",
     "data": {
      "text/plain": "      meanfreq        sd    median       Q25       Q75       IQR       skew  \\\n2059  0.157375  0.059417  0.168703  0.139805  0.188033  0.048229   2.722492   \n2635  0.210142  0.038040  0.206166  0.186288  0.237404  0.051116   1.797463   \n253   0.130312  0.084918  0.128418  0.079538  0.205061  0.125523  31.723464   \n1645  0.187837  0.062374  0.206362  0.176674  0.227318  0.050644   2.453493   \n1073  0.199138  0.058724  0.217778  0.135453  0.246496  0.111043   1.149770   \n3104  0.157326  0.059300  0.165829  0.148493  0.181413  0.032921   6.629491   \n453   0.085832  0.091395  0.058552  0.005004  0.147882  0.142878   9.649950   \n402   0.183018  0.060242  0.182637  0.135589  0.239487  0.103897   1.246407   \n2643  0.219603  0.034781  0.213718  0.199697  0.247709  0.048012   3.304549   \n3122  0.212288  0.036183  0.209806  0.193368  0.236684  0.043316   2.346276   \n\n             kurt    sp.ent       sfm  ...  centroid   meanfun    minfun  \\\n2059    11.598569  0.932947  0.610590  ...  0.157375  0.173366  0.045326   \n2635     6.291106  0.860924  0.222836  ...  0.210142  0.153493  0.046967   \n253   1077.206855  0.847654  0.499980  ...  0.130312  0.105474  0.019536   \n1645     9.085739  0.915608  0.512878  ...  0.187837  0.171340  0.016145   \n1073     3.460094  0.901842  0.316278  ...  0.199138  0.141119  0.048241   \n3104    60.023636  0.886569  0.499753  ...  0.157326  0.159752  0.020080   \n453    113.751759  0.842682  0.434538  ...  0.085832  0.097472  0.016343   \n402      4.483309  0.930985  0.500405  ...  0.183018  0.116028  0.039702   \n2643    19.069617  0.843357  0.160845  ...  0.219603  0.163591  0.047856   \n3122    10.428156  0.889736  0.195598  ...  0.212288  0.143622  0.043193   \n\n        maxfun   meandom    mindom    maxdom   dfrange   modindx   label  \n2059  0.262295  0.175272  0.007812  0.351562  0.343750  0.183983  female  \n2635  0.279070  1.121745  0.023438  8.578125  8.554688  0.132962  female  \n253   0.275862  0.007812  0.007812  0.007812  0.000000  0.000000    male  \n1645  0.275862  0.206620  0.007812  0.468750  0.460938  0.121550  female  \n1073  0.277457  1.053571  0.023438  9.398438  9.375000  0.101757    male  \n3104  0.222222  0.584672  0.166016  3.828125  3.662109  0.235795  female  \n453   0.231884  0.132308  0.007812  1.492188  1.484375  0.111579    male  \n402   0.213333  0.520380  0.007812  3.273438  3.265625  0.157895    male  \n2643  0.274286  2.410236  0.210938  8.859375  8.648438  0.206077  female  \n3122  0.279114  1.351665  0.021533  8.290283  8.268750  0.123326  female  \n\n[10 rows x 21 columns]",
      "text/html": "<div>\n<style scoped>\n    .dataframe tbody tr th:only-of-type {\n        vertical-align: middle;\n    }\n\n    .dataframe tbody tr th {\n        vertical-align: top;\n    }\n\n    .dataframe thead th {\n        text-align: right;\n    }\n</style>\n<table border=\"1\" class=\"dataframe\">\n  <thead>\n    <tr style=\"text-align: right;\">\n      <th></th>\n      <th>meanfreq</th>\n      <th>sd</th>\n      <th>median</th>\n      <th>Q25</th>\n      <th>Q75</th>\n      <th>IQR</th>\n      <th>skew</th>\n      <th>kurt</th>\n      <th>sp.ent</th>\n      <th>sfm</th>\n      <th>...</th>\n      <th>centroid</th>\n      <th>meanfun</th>\n      <th>minfun</th>\n      <th>maxfun</th>\n      <th>meandom</th>\n      <th>mindom</th>\n      <th>maxdom</th>\n      <th>dfrange</th>\n      <th>modindx</th>\n      <th>label</th>\n    </tr>\n  </thead>\n  <tbody>\n    <tr>\n      <th>2059</th>\n      <td>0.157375</td>\n      <td>0.059417</td>\n      <td>0.168703</td>\n      <td>0.139805</td>\n      <td>0.188033</td>\n      <td>0.048229</td>\n      <td>2.722492</td>\n      <td>11.598569</td>\n      <td>0.932947</td>\n      <td>0.610590</td>\n      <td>...</td>\n      <td>0.157375</td>\n      <td>0.173366</td>\n      <td>0.045326</td>\n      <td>0.262295</td>\n      <td>0.175272</td>\n      <td>0.007812</td>\n      <td>0.351562</td>\n      <td>0.343750</td>\n      <td>0.183983</td>\n      <td>female</td>\n    </tr>\n    <tr>\n      <th>2635</th>\n      <td>0.210142</td>\n      <td>0.038040</td>\n      <td>0.206166</td>\n      <td>0.186288</td>\n      <td>0.237404</td>\n      <td>0.051116</td>\n      <td>1.797463</td>\n      <td>6.291106</td>\n      <td>0.860924</td>\n      <td>0.222836</td>\n      <td>...</td>\n      <td>0.210142</td>\n      <td>0.153493</td>\n      <td>0.046967</td>\n      <td>0.279070</td>\n      <td>1.121745</td>\n      <td>0.023438</td>\n      <td>8.578125</td>\n      <td>8.554688</td>\n      <td>0.132962</td>\n      <td>female</td>\n    </tr>\n    <tr>\n      <th>253</th>\n      <td>0.130312</td>\n      <td>0.084918</td>\n      <td>0.128418</td>\n      <td>0.079538</td>\n      <td>0.205061</td>\n      <td>0.125523</td>\n      <td>31.723464</td>\n      <td>1077.206855</td>\n      <td>0.847654</td>\n      <td>0.499980</td>\n      <td>...</td>\n      <td>0.130312</td>\n      <td>0.105474</td>\n      <td>0.019536</td>\n      <td>0.275862</td>\n      <td>0.007812</td>\n      <td>0.007812</td>\n      <td>0.007812</td>\n      <td>0.000000</td>\n      <td>0.000000</td>\n      <td>male</td>\n    </tr>\n    <tr>\n      <th>1645</th>\n      <td>0.187837</td>\n      <td>0.062374</td>\n      <td>0.206362</td>\n      <td>0.176674</td>\n      <td>0.227318</td>\n      <td>0.050644</td>\n      <td>2.453493</td>\n      <td>9.085739</td>\n      <td>0.915608</td>\n      <td>0.512878</td>\n      <td>...</td>\n      <td>0.187837</td>\n      <td>0.171340</td>\n      <td>0.016145</td>\n      <td>0.275862</td>\n      <td>0.206620</td>\n      <td>0.007812</td>\n      <td>0.468750</td>\n      <td>0.460938</td>\n      <td>0.121550</td>\n      <td>female</td>\n    </tr>\n    <tr>\n      <th>1073</th>\n      <td>0.199138</td>\n      <td>0.058724</td>\n      <td>0.217778</td>\n      <td>0.135453</td>\n      <td>0.246496</td>\n      <td>0.111043</td>\n      <td>1.149770</td>\n      <td>3.460094</td>\n      <td>0.901842</td>\n      <td>0.316278</td>\n      <td>...</td>\n      <td>0.199138</td>\n      <td>0.141119</td>\n      <td>0.048241</td>\n      <td>0.277457</td>\n      <td>1.053571</td>\n      <td>0.023438</td>\n      <td>9.398438</td>\n      <td>9.375000</td>\n      <td>0.101757</td>\n      <td>male</td>\n    </tr>\n    <tr>\n      <th>3104</th>\n      <td>0.157326</td>\n      <td>0.059300</td>\n      <td>0.165829</td>\n      <td>0.148493</td>\n      <td>0.181413</td>\n      <td>0.032921</td>\n      <td>6.629491</td>\n      <td>60.023636</td>\n      <td>0.886569</td>\n      <td>0.499753</td>\n      <td>...</td>\n      <td>0.157326</td>\n      <td>0.159752</td>\n      <td>0.020080</td>\n      <td>0.222222</td>\n      <td>0.584672</td>\n      <td>0.166016</td>\n      <td>3.828125</td>\n      <td>3.662109</td>\n      <td>0.235795</td>\n      <td>female</td>\n    </tr>\n    <tr>\n      <th>453</th>\n      <td>0.085832</td>\n      <td>0.091395</td>\n      <td>0.058552</td>\n      <td>0.005004</td>\n      <td>0.147882</td>\n      <td>0.142878</td>\n      <td>9.649950</td>\n      <td>113.751759</td>\n      <td>0.842682</td>\n      <td>0.434538</td>\n      <td>...</td>\n      <td>0.085832</td>\n      <td>0.097472</td>\n      <td>0.016343</td>\n      <td>0.231884</td>\n      <td>0.132308</td>\n      <td>0.007812</td>\n      <td>1.492188</td>\n      <td>1.484375</td>\n      <td>0.111579</td>\n      <td>male</td>\n    </tr>\n    <tr>\n      <th>402</th>\n      <td>0.183018</td>\n      <td>0.060242</td>\n      <td>0.182637</td>\n      <td>0.135589</td>\n      <td>0.239487</td>\n      <td>0.103897</td>\n      <td>1.246407</td>\n      <td>4.483309</td>\n      <td>0.930985</td>\n      <td>0.500405</td>\n      <td>...</td>\n      <td>0.183018</td>\n      <td>0.116028</td>\n      <td>0.039702</td>\n      <td>0.213333</td>\n      <td>0.520380</td>\n      <td>0.007812</td>\n      <td>3.273438</td>\n      <td>3.265625</td>\n      <td>0.157895</td>\n      <td>male</td>\n    </tr>\n    <tr>\n      <th>2643</th>\n      <td>0.219603</td>\n      <td>0.034781</td>\n      <td>0.213718</td>\n      <td>0.199697</td>\n      <td>0.247709</td>\n      <td>0.048012</td>\n      <td>3.304549</td>\n      <td>19.069617</td>\n      <td>0.843357</td>\n      <td>0.160845</td>\n      <td>...</td>\n      <td>0.219603</td>\n      <td>0.163591</td>\n      <td>0.047856</td>\n      <td>0.274286</td>\n      <td>2.410236</td>\n      <td>0.210938</td>\n      <td>8.859375</td>\n      <td>8.648438</td>\n      <td>0.206077</td>\n      <td>female</td>\n    </tr>\n    <tr>\n      <th>3122</th>\n      <td>0.212288</td>\n      <td>0.036183</td>\n      <td>0.209806</td>\n      <td>0.193368</td>\n      <td>0.236684</td>\n      <td>0.043316</td>\n      <td>2.346276</td>\n      <td>10.428156</td>\n      <td>0.889736</td>\n      <td>0.195598</td>\n      <td>...</td>\n      <td>0.212288</td>\n      <td>0.143622</td>\n      <td>0.043193</td>\n      <td>0.279114</td>\n      <td>1.351665</td>\n      <td>0.021533</td>\n      <td>8.290283</td>\n      <td>8.268750</td>\n      <td>0.123326</td>\n      <td>female</td>\n    </tr>\n  </tbody>\n</table>\n<p>10 rows × 21 columns</p>\n</div>"
     },
     "metadata": {},
     "execution_count": 66
    }
   ],
   "source": [
    "data = pd.read_csv('gender_voice_dataset.csv')\n",
    "data.sample(10)"
   ]
  },
  {
   "cell_type": "code",
   "execution_count": 67,
   "metadata": {},
   "outputs": [
    {
     "output_type": "execute_result",
     "data": {
      "text/plain": "(3168, 21)"
     },
     "metadata": {},
     "execution_count": 67
    }
   ],
   "source": [
    "data.shape"
   ]
  },
  {
   "cell_type": "code",
   "execution_count": 68,
   "metadata": {
    "tags": []
   },
   "outputs": [
    {
     "output_type": "stream",
     "name": "stdout",
     "text": "<class 'pandas.core.frame.DataFrame'>\nRangeIndex: 3168 entries, 0 to 3167\nData columns (total 21 columns):\n #   Column    Non-Null Count  Dtype  \n---  ------    --------------  -----  \n 0   meanfreq  3168 non-null   float64\n 1   sd        3168 non-null   float64\n 2   median    3168 non-null   float64\n 3   Q25       3168 non-null   float64\n 4   Q75       3168 non-null   float64\n 5   IQR       3168 non-null   float64\n 6   skew      3168 non-null   float64\n 7   kurt      3168 non-null   float64\n 8   sp.ent    3168 non-null   float64\n 9   sfm       3168 non-null   float64\n 10  mode      3168 non-null   float64\n 11  centroid  3168 non-null   float64\n 12  meanfun   3168 non-null   float64\n 13  minfun    3168 non-null   float64\n 14  maxfun    3168 non-null   float64\n 15  meandom   3168 non-null   float64\n 16  mindom    3168 non-null   float64\n 17  maxdom    3168 non-null   float64\n 18  dfrange   3168 non-null   float64\n 19  modindx   3168 non-null   float64\n 20  label     3168 non-null   object \ndtypes: float64(20), object(1)\nmemory usage: 519.9+ KB\n"
    }
   ],
   "source": [
    "data.info()"
   ]
  },
  {
   "cell_type": "code",
   "execution_count": 69,
   "metadata": {},
   "outputs": [
    {
     "output_type": "execute_result",
     "data": {
      "text/plain": "Index(['meanfreq', 'sd', 'median', 'Q25', 'Q75', 'IQR', 'skew', 'kurt',\n       'sp.ent', 'sfm', 'mode', 'centroid', 'meanfun', 'minfun', 'maxfun',\n       'meandom', 'mindom', 'maxdom', 'dfrange', 'modindx', 'label'],\n      dtype='object')"
     },
     "metadata": {},
     "execution_count": 69
    }
   ],
   "source": [
    "data.keys()"
   ]
  },
  {
   "cell_type": "code",
   "execution_count": 70,
   "metadata": {},
   "outputs": [
    {
     "output_type": "execute_result",
     "data": {
      "text/plain": "   meanfreq        sd    median       Q25       Q75       IQR       skew  \\\n0  0.059781  0.064241  0.032027  0.015071  0.090193  0.075122  12.863462   \n1  0.066009  0.067310  0.040229  0.019414  0.092666  0.073252  22.423285   \n2  0.077316  0.083829  0.036718  0.008701  0.131908  0.123207  30.757155   \n3  0.151228  0.072111  0.158011  0.096582  0.207955  0.111374   1.232831   \n4  0.135120  0.079146  0.124656  0.078720  0.206045  0.127325   1.101174   \n\n          kurt    sp.ent       sfm  ...  centroid   meanfun    minfun  \\\n0   274.402906  0.893369  0.491918  ...  0.059781  0.084279  0.015702   \n1   634.613855  0.892193  0.513724  ...  0.066009  0.107937  0.015826   \n2  1024.927705  0.846389  0.478905  ...  0.077316  0.098706  0.015656   \n3     4.177296  0.963322  0.727232  ...  0.151228  0.088965  0.017798   \n4     4.333713  0.971955  0.783568  ...  0.135120  0.106398  0.016931   \n\n     maxfun   meandom    mindom    maxdom   dfrange   modindx  label  \n0  0.275862  0.007812  0.007812  0.007812  0.000000  0.000000      1  \n1  0.250000  0.009014  0.007812  0.054688  0.046875  0.052632      1  \n2  0.271186  0.007990  0.007812  0.015625  0.007812  0.046512      1  \n3  0.250000  0.201497  0.007812  0.562500  0.554688  0.247119      1  \n4  0.266667  0.712812  0.007812  5.484375  5.476562  0.208274      1  \n\n[5 rows x 21 columns]",
      "text/html": "<div>\n<style scoped>\n    .dataframe tbody tr th:only-of-type {\n        vertical-align: middle;\n    }\n\n    .dataframe tbody tr th {\n        vertical-align: top;\n    }\n\n    .dataframe thead th {\n        text-align: right;\n    }\n</style>\n<table border=\"1\" class=\"dataframe\">\n  <thead>\n    <tr style=\"text-align: right;\">\n      <th></th>\n      <th>meanfreq</th>\n      <th>sd</th>\n      <th>median</th>\n      <th>Q25</th>\n      <th>Q75</th>\n      <th>IQR</th>\n      <th>skew</th>\n      <th>kurt</th>\n      <th>sp.ent</th>\n      <th>sfm</th>\n      <th>...</th>\n      <th>centroid</th>\n      <th>meanfun</th>\n      <th>minfun</th>\n      <th>maxfun</th>\n      <th>meandom</th>\n      <th>mindom</th>\n      <th>maxdom</th>\n      <th>dfrange</th>\n      <th>modindx</th>\n      <th>label</th>\n    </tr>\n  </thead>\n  <tbody>\n    <tr>\n      <th>0</th>\n      <td>0.059781</td>\n      <td>0.064241</td>\n      <td>0.032027</td>\n      <td>0.015071</td>\n      <td>0.090193</td>\n      <td>0.075122</td>\n      <td>12.863462</td>\n      <td>274.402906</td>\n      <td>0.893369</td>\n      <td>0.491918</td>\n      <td>...</td>\n      <td>0.059781</td>\n      <td>0.084279</td>\n      <td>0.015702</td>\n      <td>0.275862</td>\n      <td>0.007812</td>\n      <td>0.007812</td>\n      <td>0.007812</td>\n      <td>0.000000</td>\n      <td>0.000000</td>\n      <td>1</td>\n    </tr>\n    <tr>\n      <th>1</th>\n      <td>0.066009</td>\n      <td>0.067310</td>\n      <td>0.040229</td>\n      <td>0.019414</td>\n      <td>0.092666</td>\n      <td>0.073252</td>\n      <td>22.423285</td>\n      <td>634.613855</td>\n      <td>0.892193</td>\n      <td>0.513724</td>\n      <td>...</td>\n      <td>0.066009</td>\n      <td>0.107937</td>\n      <td>0.015826</td>\n      <td>0.250000</td>\n      <td>0.009014</td>\n      <td>0.007812</td>\n      <td>0.054688</td>\n      <td>0.046875</td>\n      <td>0.052632</td>\n      <td>1</td>\n    </tr>\n    <tr>\n      <th>2</th>\n      <td>0.077316</td>\n      <td>0.083829</td>\n      <td>0.036718</td>\n      <td>0.008701</td>\n      <td>0.131908</td>\n      <td>0.123207</td>\n      <td>30.757155</td>\n      <td>1024.927705</td>\n      <td>0.846389</td>\n      <td>0.478905</td>\n      <td>...</td>\n      <td>0.077316</td>\n      <td>0.098706</td>\n      <td>0.015656</td>\n      <td>0.271186</td>\n      <td>0.007990</td>\n      <td>0.007812</td>\n      <td>0.015625</td>\n      <td>0.007812</td>\n      <td>0.046512</td>\n      <td>1</td>\n    </tr>\n    <tr>\n      <th>3</th>\n      <td>0.151228</td>\n      <td>0.072111</td>\n      <td>0.158011</td>\n      <td>0.096582</td>\n      <td>0.207955</td>\n      <td>0.111374</td>\n      <td>1.232831</td>\n      <td>4.177296</td>\n      <td>0.963322</td>\n      <td>0.727232</td>\n      <td>...</td>\n      <td>0.151228</td>\n      <td>0.088965</td>\n      <td>0.017798</td>\n      <td>0.250000</td>\n      <td>0.201497</td>\n      <td>0.007812</td>\n      <td>0.562500</td>\n      <td>0.554688</td>\n      <td>0.247119</td>\n      <td>1</td>\n    </tr>\n    <tr>\n      <th>4</th>\n      <td>0.135120</td>\n      <td>0.079146</td>\n      <td>0.124656</td>\n      <td>0.078720</td>\n      <td>0.206045</td>\n      <td>0.127325</td>\n      <td>1.101174</td>\n      <td>4.333713</td>\n      <td>0.971955</td>\n      <td>0.783568</td>\n      <td>...</td>\n      <td>0.135120</td>\n      <td>0.106398</td>\n      <td>0.016931</td>\n      <td>0.266667</td>\n      <td>0.712812</td>\n      <td>0.007812</td>\n      <td>5.484375</td>\n      <td>5.476562</td>\n      <td>0.208274</td>\n      <td>1</td>\n    </tr>\n  </tbody>\n</table>\n<p>5 rows × 21 columns</p>\n</div>"
     },
     "metadata": {},
     "execution_count": 70
    }
   ],
   "source": [
    "labelEncoder = LabelEncoder()\n",
    "\n",
    "data.label = labelEncoder.fit_transform(data.label.astype(str))\n",
    "\n",
    "data.head()\n"
   ]
  },
  {
   "cell_type": "code",
   "execution_count": 71,
   "metadata": {},
   "outputs": [
    {
     "output_type": "execute_result",
     "data": {
      "text/plain": "array(['female', 'male'], dtype=object)"
     },
     "metadata": {},
     "execution_count": 71
    }
   ],
   "source": [
    "labelEncoder.classes_"
   ]
  },
  {
   "cell_type": "code",
   "execution_count": 72,
   "metadata": {},
   "outputs": [
    {
     "output_type": "execute_result",
     "data": {
      "text/plain": "<matplotlib.axes._subplots.AxesSubplot at 0x7fe374f64730>"
     },
     "metadata": {},
     "execution_count": 72
    },
    {
     "output_type": "display_data",
     "data": {
      "text/plain": "<Figure size 720x576 with 1 Axes>",
      "image/svg+xml": "<?xml version=\"1.0\" encoding=\"utf-8\" standalone=\"no\"?>\n<!DOCTYPE svg PUBLIC \"-//W3C//DTD SVG 1.1//EN\"\n  \"http://www.w3.org/Graphics/SVG/1.1/DTD/svg11.dtd\">\n<!-- Created with matplotlib (https://matplotlib.org/) -->\n<svg height=\"522.83625pt\" version=\"1.1\" viewBox=\"0 0 619.665625 522.83625\" width=\"619.665625pt\" xmlns=\"http://www.w3.org/2000/svg\" xmlns:xlink=\"http://www.w3.org/1999/xlink\">\n <defs>\n  <style type=\"text/css\">\n*{stroke-linecap:butt;stroke-linejoin:round;}\n  </style>\n </defs>\n <g id=\"figure_1\">\n  <g id=\"patch_1\">\n   <path d=\"M 0 522.83625 \nL 619.665625 522.83625 \nL 619.665625 0 \nL 0 0 \nz\n\" style=\"fill:none;\"/>\n  </g>\n  <g id=\"axes_1\">\n   <g id=\"patch_2\">\n    <path d=\"M 36.465625 485.28 \nL 612.465625 485.28 \nL 612.465625 53.28 \nL 36.465625 53.28 \nz\n\" style=\"fill:#ffffff;\"/>\n   </g>\n   <g id=\"matplotlib.axis_1\">\n    <g id=\"xtick_1\">\n     <g id=\"line2d_1\">\n      <defs>\n       <path d=\"M 0 0 \nL 0 3.5 \n\" id=\"m35e648f8eb\" style=\"stroke:#000000;stroke-width:0.8;\"/>\n      </defs>\n      <g>\n       <use style=\"stroke:#000000;stroke-width:0.8;\" x=\"180.465625\" xlink:href=\"#m35e648f8eb\" y=\"485.28\"/>\n      </g>\n     </g>\n     <g id=\"text_1\">\n      <!-- 0 -->\n      <defs>\n       <path d=\"M 31.78125 66.40625 \nQ 24.171875 66.40625 20.328125 58.90625 \nQ 16.5 51.421875 16.5 36.375 \nQ 16.5 21.390625 20.328125 13.890625 \nQ 24.171875 6.390625 31.78125 6.390625 \nQ 39.453125 6.390625 43.28125 13.890625 \nQ 47.125 21.390625 47.125 36.375 \nQ 47.125 51.421875 43.28125 58.90625 \nQ 39.453125 66.40625 31.78125 66.40625 \nz\nM 31.78125 74.21875 \nQ 44.046875 74.21875 50.515625 64.515625 \nQ 56.984375 54.828125 56.984375 36.375 \nQ 56.984375 17.96875 50.515625 8.265625 \nQ 44.046875 -1.421875 31.78125 -1.421875 \nQ 19.53125 -1.421875 13.0625 8.265625 \nQ 6.59375 17.96875 6.59375 36.375 \nQ 6.59375 54.828125 13.0625 64.515625 \nQ 19.53125 74.21875 31.78125 74.21875 \nz\n\" id=\"DejaVuSans-48\"/>\n      </defs>\n      <g transform=\"translate(177.284375 499.878437)scale(0.1 -0.1)\">\n       <use xlink:href=\"#DejaVuSans-48\"/>\n      </g>\n     </g>\n    </g>\n    <g id=\"xtick_2\">\n     <g id=\"line2d_2\">\n      <g>\n       <use style=\"stroke:#000000;stroke-width:0.8;\" x=\"468.465625\" xlink:href=\"#m35e648f8eb\" y=\"485.28\"/>\n      </g>\n     </g>\n     <g id=\"text_2\">\n      <!-- 1 -->\n      <defs>\n       <path d=\"M 12.40625 8.296875 \nL 28.515625 8.296875 \nL 28.515625 63.921875 \nL 10.984375 60.40625 \nL 10.984375 69.390625 \nL 28.421875 72.90625 \nL 38.28125 72.90625 \nL 38.28125 8.296875 \nL 54.390625 8.296875 \nL 54.390625 0 \nL 12.40625 0 \nz\n\" id=\"DejaVuSans-49\"/>\n      </defs>\n      <g transform=\"translate(465.284375 499.878437)scale(0.1 -0.1)\">\n       <use xlink:href=\"#DejaVuSans-49\"/>\n      </g>\n     </g>\n    </g>\n    <g id=\"text_3\">\n     <!-- label -->\n     <defs>\n      <path d=\"M 9.421875 75.984375 \nL 18.40625 75.984375 \nL 18.40625 0 \nL 9.421875 0 \nz\n\" id=\"DejaVuSans-108\"/>\n      <path d=\"M 34.28125 27.484375 \nQ 23.390625 27.484375 19.1875 25 \nQ 14.984375 22.515625 14.984375 16.5 \nQ 14.984375 11.71875 18.140625 8.90625 \nQ 21.296875 6.109375 26.703125 6.109375 \nQ 34.1875 6.109375 38.703125 11.40625 \nQ 43.21875 16.703125 43.21875 25.484375 \nL 43.21875 27.484375 \nz\nM 52.203125 31.203125 \nL 52.203125 0 \nL 43.21875 0 \nL 43.21875 8.296875 \nQ 40.140625 3.328125 35.546875 0.953125 \nQ 30.953125 -1.421875 24.3125 -1.421875 \nQ 15.921875 -1.421875 10.953125 3.296875 \nQ 6 8.015625 6 15.921875 \nQ 6 25.140625 12.171875 29.828125 \nQ 18.359375 34.515625 30.609375 34.515625 \nL 43.21875 34.515625 \nL 43.21875 35.40625 \nQ 43.21875 41.609375 39.140625 45 \nQ 35.0625 48.390625 27.6875 48.390625 \nQ 23 48.390625 18.546875 47.265625 \nQ 14.109375 46.140625 10.015625 43.890625 \nL 10.015625 52.203125 \nQ 14.9375 54.109375 19.578125 55.046875 \nQ 24.21875 56 28.609375 56 \nQ 40.484375 56 46.34375 49.84375 \nQ 52.203125 43.703125 52.203125 31.203125 \nz\n\" id=\"DejaVuSans-97\"/>\n      <path d=\"M 48.6875 27.296875 \nQ 48.6875 37.203125 44.609375 42.84375 \nQ 40.53125 48.484375 33.40625 48.484375 \nQ 26.265625 48.484375 22.1875 42.84375 \nQ 18.109375 37.203125 18.109375 27.296875 \nQ 18.109375 17.390625 22.1875 11.75 \nQ 26.265625 6.109375 33.40625 6.109375 \nQ 40.53125 6.109375 44.609375 11.75 \nQ 48.6875 17.390625 48.6875 27.296875 \nz\nM 18.109375 46.390625 \nQ 20.953125 51.265625 25.265625 53.625 \nQ 29.59375 56 35.59375 56 \nQ 45.5625 56 51.78125 48.09375 \nQ 58.015625 40.1875 58.015625 27.296875 \nQ 58.015625 14.40625 51.78125 6.484375 \nQ 45.5625 -1.421875 35.59375 -1.421875 \nQ 29.59375 -1.421875 25.265625 0.953125 \nQ 20.953125 3.328125 18.109375 8.203125 \nL 18.109375 0 \nL 9.078125 0 \nL 9.078125 75.984375 \nL 18.109375 75.984375 \nz\n\" id=\"DejaVuSans-98\"/>\n      <path d=\"M 56.203125 29.59375 \nL 56.203125 25.203125 \nL 14.890625 25.203125 \nQ 15.484375 15.921875 20.484375 11.0625 \nQ 25.484375 6.203125 34.421875 6.203125 \nQ 39.59375 6.203125 44.453125 7.46875 \nQ 49.3125 8.734375 54.109375 11.28125 \nL 54.109375 2.78125 \nQ 49.265625 0.734375 44.1875 -0.34375 \nQ 39.109375 -1.421875 33.890625 -1.421875 \nQ 20.796875 -1.421875 13.15625 6.1875 \nQ 5.515625 13.8125 5.515625 26.8125 \nQ 5.515625 40.234375 12.765625 48.109375 \nQ 20.015625 56 32.328125 56 \nQ 43.359375 56 49.78125 48.890625 \nQ 56.203125 41.796875 56.203125 29.59375 \nz\nM 47.21875 32.234375 \nQ 47.125 39.59375 43.09375 43.984375 \nQ 39.0625 48.390625 32.421875 48.390625 \nQ 24.90625 48.390625 20.390625 44.140625 \nQ 15.875 39.890625 15.1875 32.171875 \nz\n\" id=\"DejaVuSans-101\"/>\n     </defs>\n     <g transform=\"translate(312.372656 513.556562)scale(0.1 -0.1)\">\n      <use xlink:href=\"#DejaVuSans-108\"/>\n      <use x=\"27.783203\" xlink:href=\"#DejaVuSans-97\"/>\n      <use x=\"89.0625\" xlink:href=\"#DejaVuSans-98\"/>\n      <use x=\"152.539062\" xlink:href=\"#DejaVuSans-101\"/>\n      <use x=\"214.0625\" xlink:href=\"#DejaVuSans-108\"/>\n     </g>\n    </g>\n   </g>\n   <g id=\"matplotlib.axis_2\">\n    <g id=\"ytick_1\">\n     <g id=\"line2d_3\">\n      <defs>\n       <path d=\"M 0 0 \nL -3.5 0 \n\" id=\"m265fe08044\" style=\"stroke:#000000;stroke-width:0.8;\"/>\n      </defs>\n      <g>\n       <use style=\"stroke:#000000;stroke-width:0.8;\" x=\"36.465625\" xlink:href=\"#m265fe08044\" y=\"445.917073\"/>\n      </g>\n     </g>\n     <g id=\"text_4\">\n      <!-- 0.05 -->\n      <defs>\n       <path d=\"M 10.6875 12.40625 \nL 21 12.40625 \nL 21 0 \nL 10.6875 0 \nz\n\" id=\"DejaVuSans-46\"/>\n       <path d=\"M 10.796875 72.90625 \nL 49.515625 72.90625 \nL 49.515625 64.59375 \nL 19.828125 64.59375 \nL 19.828125 46.734375 \nQ 21.96875 47.46875 24.109375 47.828125 \nQ 26.265625 48.1875 28.421875 48.1875 \nQ 40.625 48.1875 47.75 41.5 \nQ 54.890625 34.8125 54.890625 23.390625 \nQ 54.890625 11.625 47.5625 5.09375 \nQ 40.234375 -1.421875 26.90625 -1.421875 \nQ 22.3125 -1.421875 17.546875 -0.640625 \nQ 12.796875 0.140625 7.71875 1.703125 \nL 7.71875 11.625 \nQ 12.109375 9.234375 16.796875 8.0625 \nQ 21.484375 6.890625 26.703125 6.890625 \nQ 35.15625 6.890625 40.078125 11.328125 \nQ 45.015625 15.765625 45.015625 23.390625 \nQ 45.015625 31 40.078125 35.4375 \nQ 35.15625 39.890625 26.703125 39.890625 \nQ 22.75 39.890625 18.8125 39.015625 \nQ 14.890625 38.140625 10.796875 36.28125 \nz\n\" id=\"DejaVuSans-53\"/>\n      </defs>\n      <g transform=\"translate(7.2 449.716292)scale(0.1 -0.1)\">\n       <use xlink:href=\"#DejaVuSans-48\"/>\n       <use x=\"63.623047\" xlink:href=\"#DejaVuSans-46\"/>\n       <use x=\"95.410156\" xlink:href=\"#DejaVuSans-48\"/>\n       <use x=\"159.033203\" xlink:href=\"#DejaVuSans-53\"/>\n      </g>\n     </g>\n    </g>\n    <g id=\"ytick_2\">\n     <g id=\"line2d_4\">\n      <g>\n       <use style=\"stroke:#000000;stroke-width:0.8;\" x=\"36.465625\" xlink:href=\"#m265fe08044\" y=\"353.187922\"/>\n      </g>\n     </g>\n     <g id=\"text_5\">\n      <!-- 0.10 -->\n      <g transform=\"translate(7.2 356.98714)scale(0.1 -0.1)\">\n       <use xlink:href=\"#DejaVuSans-48\"/>\n       <use x=\"63.623047\" xlink:href=\"#DejaVuSans-46\"/>\n       <use x=\"95.410156\" xlink:href=\"#DejaVuSans-49\"/>\n       <use x=\"159.033203\" xlink:href=\"#DejaVuSans-48\"/>\n      </g>\n     </g>\n    </g>\n    <g id=\"ytick_3\">\n     <g id=\"line2d_5\">\n      <g>\n       <use style=\"stroke:#000000;stroke-width:0.8;\" x=\"36.465625\" xlink:href=\"#m265fe08044\" y=\"260.45877\"/>\n      </g>\n     </g>\n     <g id=\"text_6\">\n      <!-- 0.15 -->\n      <g transform=\"translate(7.2 264.257989)scale(0.1 -0.1)\">\n       <use xlink:href=\"#DejaVuSans-48\"/>\n       <use x=\"63.623047\" xlink:href=\"#DejaVuSans-46\"/>\n       <use x=\"95.410156\" xlink:href=\"#DejaVuSans-49\"/>\n       <use x=\"159.033203\" xlink:href=\"#DejaVuSans-53\"/>\n      </g>\n     </g>\n    </g>\n    <g id=\"ytick_4\">\n     <g id=\"line2d_6\">\n      <g>\n       <use style=\"stroke:#000000;stroke-width:0.8;\" x=\"36.465625\" xlink:href=\"#m265fe08044\" y=\"167.729619\"/>\n      </g>\n     </g>\n     <g id=\"text_7\">\n      <!-- 0.20 -->\n      <defs>\n       <path d=\"M 19.1875 8.296875 \nL 53.609375 8.296875 \nL 53.609375 0 \nL 7.328125 0 \nL 7.328125 8.296875 \nQ 12.9375 14.109375 22.625 23.890625 \nQ 32.328125 33.6875 34.8125 36.53125 \nQ 39.546875 41.84375 41.421875 45.53125 \nQ 43.3125 49.21875 43.3125 52.78125 \nQ 43.3125 58.59375 39.234375 62.25 \nQ 35.15625 65.921875 28.609375 65.921875 \nQ 23.96875 65.921875 18.8125 64.3125 \nQ 13.671875 62.703125 7.8125 59.421875 \nL 7.8125 69.390625 \nQ 13.765625 71.78125 18.9375 73 \nQ 24.125 74.21875 28.421875 74.21875 \nQ 39.75 74.21875 46.484375 68.546875 \nQ 53.21875 62.890625 53.21875 53.421875 \nQ 53.21875 48.921875 51.53125 44.890625 \nQ 49.859375 40.875 45.40625 35.40625 \nQ 44.1875 33.984375 37.640625 27.21875 \nQ 31.109375 20.453125 19.1875 8.296875 \nz\n\" id=\"DejaVuSans-50\"/>\n      </defs>\n      <g transform=\"translate(7.2 171.528838)scale(0.1 -0.1)\">\n       <use xlink:href=\"#DejaVuSans-48\"/>\n       <use x=\"63.623047\" xlink:href=\"#DejaVuSans-46\"/>\n       <use x=\"95.410156\" xlink:href=\"#DejaVuSans-50\"/>\n       <use x=\"159.033203\" xlink:href=\"#DejaVuSans-48\"/>\n      </g>\n     </g>\n    </g>\n    <g id=\"ytick_5\">\n     <g id=\"line2d_7\">\n      <g>\n       <use style=\"stroke:#000000;stroke-width:0.8;\" x=\"36.465625\" xlink:href=\"#m265fe08044\" y=\"75.000468\"/>\n      </g>\n     </g>\n     <g id=\"text_8\">\n      <!-- 0.25 -->\n      <g transform=\"translate(7.2 78.799687)scale(0.1 -0.1)\">\n       <use xlink:href=\"#DejaVuSans-48\"/>\n       <use x=\"63.623047\" xlink:href=\"#DejaVuSans-46\"/>\n       <use x=\"95.410156\" xlink:href=\"#DejaVuSans-50\"/>\n       <use x=\"159.033203\" xlink:href=\"#DejaVuSans-53\"/>\n      </g>\n     </g>\n    </g>\n   </g>\n   <g id=\"line2d_8\">\n    <path clip-path=\"url(#p17725e3d30)\" d=\"M 158.865625 210.326949 \nL 202.065625 210.326949 \nL 202.065625 145.510344 \nL 158.865625 145.510344 \nL 158.865625 210.326949 \n\" style=\"fill:none;stroke:#1f77b4;stroke-linecap:square;\"/>\n   </g>\n   <g id=\"line2d_9\">\n    <path clip-path=\"url(#p17725e3d30)\" d=\"M 180.465625 210.326949 \nL 180.465625 307.389448 \n\" style=\"fill:none;stroke:#1f77b4;stroke-linecap:square;\"/>\n   </g>\n   <g id=\"line2d_10\">\n    <path clip-path=\"url(#p17725e3d30)\" d=\"M 180.465625 145.510344 \nL 180.465625 72.916364 \n\" style=\"fill:none;stroke:#1f77b4;stroke-linecap:square;\"/>\n   </g>\n   <g id=\"line2d_11\">\n    <path clip-path=\"url(#p17725e3d30)\" d=\"M 169.665625 307.389448 \nL 191.265625 307.389448 \n\" style=\"fill:none;stroke:#000000;stroke-linecap:square;\"/>\n   </g>\n   <g id=\"line2d_12\">\n    <path clip-path=\"url(#p17725e3d30)\" d=\"M 169.665625 72.916364 \nL 191.265625 72.916364 \n\" style=\"fill:none;stroke:#000000;stroke-linecap:square;\"/>\n   </g>\n   <g id=\"line2d_13\">\n    <defs>\n     <path d=\"M 0 3 \nC 0.795609 3 1.55874 2.683901 2.12132 2.12132 \nC 2.683901 1.55874 3 0.795609 3 0 \nC 3 -0.795609 2.683901 -1.55874 2.12132 -2.12132 \nC 1.55874 -2.683901 0.795609 -3 0 -3 \nC -0.795609 -3 -1.55874 -2.683901 -2.12132 -2.12132 \nC -2.683901 -1.55874 -3 -0.795609 -3 0 \nC -3 0.795609 -2.683901 1.55874 -2.12132 2.12132 \nC -1.55874 2.683901 -0.795609 3 0 3 \nz\n\" id=\"m6eed57eaa6\" style=\"stroke:#000000;\"/>\n    </defs>\n    <g clip-path=\"url(#p17725e3d30)\">\n     <use style=\"fill-opacity:0;stroke:#000000;\" x=\"180.465625\" xlink:href=\"#m6eed57eaa6\" y=\"335.920611\"/>\n     <use style=\"fill-opacity:0;stroke:#000000;\" x=\"180.465625\" xlink:href=\"#m6eed57eaa6\" y=\"333.293296\"/>\n     <use style=\"fill-opacity:0;stroke:#000000;\" x=\"180.465625\" xlink:href=\"#m6eed57eaa6\" y=\"319.422398\"/>\n     <use style=\"fill-opacity:0;stroke:#000000;\" x=\"180.465625\" xlink:href=\"#m6eed57eaa6\" y=\"311.077735\"/>\n     <use style=\"fill-opacity:0;stroke:#000000;\" x=\"180.465625\" xlink:href=\"#m6eed57eaa6\" y=\"327.894293\"/>\n     <use style=\"fill-opacity:0;stroke:#000000;\" x=\"180.465625\" xlink:href=\"#m6eed57eaa6\" y=\"332.245009\"/>\n     <use style=\"fill-opacity:0;stroke:#000000;\" x=\"180.465625\" xlink:href=\"#m6eed57eaa6\" y=\"348.018331\"/>\n     <use style=\"fill-opacity:0;stroke:#000000;\" x=\"180.465625\" xlink:href=\"#m6eed57eaa6\" y=\"372.302399\"/>\n     <use style=\"fill-opacity:0;stroke:#000000;\" x=\"180.465625\" xlink:href=\"#m6eed57eaa6\" y=\"324.624305\"/>\n     <use style=\"fill-opacity:0;stroke:#000000;\" x=\"180.465625\" xlink:href=\"#m6eed57eaa6\" y=\"323.120131\"/>\n     <use style=\"fill-opacity:0;stroke:#000000;\" x=\"180.465625\" xlink:href=\"#m6eed57eaa6\" y=\"336.221306\"/>\n     <use style=\"fill-opacity:0;stroke:#000000;\" x=\"180.465625\" xlink:href=\"#m6eed57eaa6\" y=\"323.511194\"/>\n     <use style=\"fill-opacity:0;stroke:#000000;\" x=\"180.465625\" xlink:href=\"#m6eed57eaa6\" y=\"357.393111\"/>\n     <use style=\"fill-opacity:0;stroke:#000000;\" x=\"180.465625\" xlink:href=\"#m6eed57eaa6\" y=\"371.047059\"/>\n     <use style=\"fill-opacity:0;stroke:#000000;\" x=\"180.465625\" xlink:href=\"#m6eed57eaa6\" y=\"316.899941\"/>\n     <use style=\"fill-opacity:0;stroke:#000000;\" x=\"180.465625\" xlink:href=\"#m6eed57eaa6\" y=\"337.479807\"/>\n     <use style=\"fill-opacity:0;stroke:#000000;\" x=\"180.465625\" xlink:href=\"#m6eed57eaa6\" y=\"367.853146\"/>\n     <use style=\"fill-opacity:0;stroke:#000000;\" x=\"180.465625\" xlink:href=\"#m6eed57eaa6\" y=\"309.50883\"/>\n     <use style=\"fill-opacity:0;stroke:#000000;\" x=\"180.465625\" xlink:href=\"#m6eed57eaa6\" y=\"365.32938\"/>\n     <use style=\"fill-opacity:0;stroke:#000000;\" x=\"180.465625\" xlink:href=\"#m6eed57eaa6\" y=\"379.883031\"/>\n     <use style=\"fill-opacity:0;stroke:#000000;\" x=\"180.465625\" xlink:href=\"#m6eed57eaa6\" y=\"386.559322\"/>\n     <use style=\"fill-opacity:0;stroke:#000000;\" x=\"180.465625\" xlink:href=\"#m6eed57eaa6\" y=\"392.41757\"/>\n     <use style=\"fill-opacity:0;stroke:#000000;\" x=\"180.465625\" xlink:href=\"#m6eed57eaa6\" y=\"313.41545\"/>\n     <use style=\"fill-opacity:0;stroke:#000000;\" x=\"180.465625\" xlink:href=\"#m6eed57eaa6\" y=\"365.423887\"/>\n     <use style=\"fill-opacity:0;stroke:#000000;\" x=\"180.465625\" xlink:href=\"#m6eed57eaa6\" y=\"348.322683\"/>\n     <use style=\"fill-opacity:0;stroke:#000000;\" x=\"180.465625\" xlink:href=\"#m6eed57eaa6\" y=\"368.412724\"/>\n     <use style=\"fill-opacity:0;stroke:#000000;\" x=\"180.465625\" xlink:href=\"#m6eed57eaa6\" y=\"329.867265\"/>\n     <use style=\"fill-opacity:0;stroke:#000000;\" x=\"180.465625\" xlink:href=\"#m6eed57eaa6\" y=\"357.709226\"/>\n     <use style=\"fill-opacity:0;stroke:#000000;\" x=\"180.465625\" xlink:href=\"#m6eed57eaa6\" y=\"373.901179\"/>\n     <use style=\"fill-opacity:0;stroke:#000000;\" x=\"180.465625\" xlink:href=\"#m6eed57eaa6\" y=\"314.100999\"/>\n     <use style=\"fill-opacity:0;stroke:#000000;\" x=\"180.465625\" xlink:href=\"#m6eed57eaa6\" y=\"330.648369\"/>\n     <use style=\"fill-opacity:0;stroke:#000000;\" x=\"180.465625\" xlink:href=\"#m6eed57eaa6\" y=\"356.397917\"/>\n     <use style=\"fill-opacity:0;stroke:#000000;\" x=\"180.465625\" xlink:href=\"#m6eed57eaa6\" y=\"356.741683\"/>\n     <use style=\"fill-opacity:0;stroke:#000000;\" x=\"180.465625\" xlink:href=\"#m6eed57eaa6\" y=\"310.417878\"/>\n     <use style=\"fill-opacity:0;stroke:#000000;\" x=\"180.465625\" xlink:href=\"#m6eed57eaa6\" y=\"322.42982\"/>\n     <use style=\"fill-opacity:0;stroke:#000000;\" x=\"180.465625\" xlink:href=\"#m6eed57eaa6\" y=\"309.192982\"/>\n     <use style=\"fill-opacity:0;stroke:#000000;\" x=\"180.465625\" xlink:href=\"#m6eed57eaa6\" y=\"316.890065\"/>\n     <use style=\"fill-opacity:0;stroke:#000000;\" x=\"180.465625\" xlink:href=\"#m6eed57eaa6\" y=\"322.836196\"/>\n     <use style=\"fill-opacity:0;stroke:#000000;\" x=\"180.465625\" xlink:href=\"#m6eed57eaa6\" y=\"333.714195\"/>\n     <use style=\"fill-opacity:0;stroke:#000000;\" x=\"180.465625\" xlink:href=\"#m6eed57eaa6\" y=\"323.905382\"/>\n     <use style=\"fill-opacity:0;stroke:#000000;\" x=\"180.465625\" xlink:href=\"#m6eed57eaa6\" y=\"325.687959\"/>\n     <use style=\"fill-opacity:0;stroke:#000000;\" x=\"180.465625\" xlink:href=\"#m6eed57eaa6\" y=\"310.613224\"/>\n     <use style=\"fill-opacity:0;stroke:#000000;\" x=\"180.465625\" xlink:href=\"#m6eed57eaa6\" y=\"319.177319\"/>\n     <use style=\"fill-opacity:0;stroke:#000000;\" x=\"180.465625\" xlink:href=\"#m6eed57eaa6\" y=\"333.709268\"/>\n     <use style=\"fill-opacity:0;stroke:#000000;\" x=\"180.465625\" xlink:href=\"#m6eed57eaa6\" y=\"332.502654\"/>\n     <use style=\"fill-opacity:0;stroke:#000000;\" x=\"180.465625\" xlink:href=\"#m6eed57eaa6\" y=\"313.39617\"/>\n     <use style=\"fill-opacity:0;stroke:#000000;\" x=\"180.465625\" xlink:href=\"#m6eed57eaa6\" y=\"312.689273\"/>\n     <use style=\"fill-opacity:0;stroke:#000000;\" x=\"180.465625\" xlink:href=\"#m6eed57eaa6\" y=\"315.756644\"/>\n     <use style=\"fill-opacity:0;stroke:#000000;\" x=\"180.465625\" xlink:href=\"#m6eed57eaa6\" y=\"326.33973\"/>\n     <use style=\"fill-opacity:0;stroke:#000000;\" x=\"180.465625\" xlink:href=\"#m6eed57eaa6\" y=\"329.506304\"/>\n     <use style=\"fill-opacity:0;stroke:#000000;\" x=\"180.465625\" xlink:href=\"#m6eed57eaa6\" y=\"321.011828\"/>\n     <use style=\"fill-opacity:0;stroke:#000000;\" x=\"180.465625\" xlink:href=\"#m6eed57eaa6\" y=\"344.298757\"/>\n     <use style=\"fill-opacity:0;stroke:#000000;\" x=\"180.465625\" xlink:href=\"#m6eed57eaa6\" y=\"369.41556\"/>\n     <use style=\"fill-opacity:0;stroke:#000000;\" x=\"180.465625\" xlink:href=\"#m6eed57eaa6\" y=\"385.821608\"/>\n     <use style=\"fill-opacity:0;stroke:#000000;\" x=\"180.465625\" xlink:href=\"#m6eed57eaa6\" y=\"336.703544\"/>\n     <use style=\"fill-opacity:0;stroke:#000000;\" x=\"180.465625\" xlink:href=\"#m6eed57eaa6\" y=\"370.908817\"/>\n     <use style=\"fill-opacity:0;stroke:#000000;\" x=\"180.465625\" xlink:href=\"#m6eed57eaa6\" y=\"328.804365\"/>\n     <use style=\"fill-opacity:0;stroke:#000000;\" x=\"180.465625\" xlink:href=\"#m6eed57eaa6\" y=\"323.104875\"/>\n    </g>\n   </g>\n   <g id=\"line2d_14\">\n    <path clip-path=\"url(#p17725e3d30)\" d=\"M 446.865625 250.025968 \nL 490.065625 250.025968 \nL 490.065625 185.176568 \nL 446.865625 185.176568 \nL 446.865625 250.025968 \n\" style=\"fill:none;stroke:#1f77b4;stroke-linecap:square;\"/>\n   </g>\n   <g id=\"line2d_15\">\n    <path clip-path=\"url(#p17725e3d30)\" d=\"M 468.465625 250.025968 \nL 468.465625 343.908686 \n\" style=\"fill:none;stroke:#1f77b4;stroke-linecap:square;\"/>\n   </g>\n   <g id=\"line2d_16\">\n    <path clip-path=\"url(#p17725e3d30)\" d=\"M 468.465625 185.176568 \nL 468.465625 120.285309 \n\" style=\"fill:none;stroke:#1f77b4;stroke-linecap:square;\"/>\n   </g>\n   <g id=\"line2d_17\">\n    <path clip-path=\"url(#p17725e3d30)\" d=\"M 457.665625 343.908686 \nL 479.265625 343.908686 \n\" style=\"fill:none;stroke:#000000;stroke-linecap:square;\"/>\n   </g>\n   <g id=\"line2d_18\">\n    <path clip-path=\"url(#p17725e3d30)\" d=\"M 457.665625 120.285309 \nL 479.265625 120.285309 \n\" style=\"fill:none;stroke:#000000;stroke-linecap:square;\"/>\n   </g>\n   <g id=\"line2d_19\">\n    <g clip-path=\"url(#p17725e3d30)\">\n     <use style=\"fill-opacity:0;stroke:#000000;\" x=\"468.465625\" xlink:href=\"#m6eed57eaa6\" y=\"427.777424\"/>\n     <use style=\"fill-opacity:0;stroke:#000000;\" x=\"468.465625\" xlink:href=\"#m6eed57eaa6\" y=\"416.227535\"/>\n     <use style=\"fill-opacity:0;stroke:#000000;\" x=\"468.465625\" xlink:href=\"#m6eed57eaa6\" y=\"395.258205\"/>\n     <use style=\"fill-opacity:0;stroke:#000000;\" x=\"468.465625\" xlink:href=\"#m6eed57eaa6\" y=\"352.44717\"/>\n     <use style=\"fill-opacity:0;stroke:#000000;\" x=\"468.465625\" xlink:href=\"#m6eed57eaa6\" y=\"385.595669\"/>\n     <use style=\"fill-opacity:0;stroke:#000000;\" x=\"468.465625\" xlink:href=\"#m6eed57eaa6\" y=\"359.261167\"/>\n     <use style=\"fill-opacity:0;stroke:#000000;\" x=\"468.465625\" xlink:href=\"#m6eed57eaa6\" y=\"351.508593\"/>\n     <use style=\"fill-opacity:0;stroke:#000000;\" x=\"468.465625\" xlink:href=\"#m6eed57eaa6\" y=\"380.727341\"/>\n     <use style=\"fill-opacity:0;stroke:#000000;\" x=\"468.465625\" xlink:href=\"#m6eed57eaa6\" y=\"353.458726\"/>\n     <use style=\"fill-opacity:0;stroke:#000000;\" x=\"468.465625\" xlink:href=\"#m6eed57eaa6\" y=\"357.054616\"/>\n     <use style=\"fill-opacity:0;stroke:#000000;\" x=\"468.465625\" xlink:href=\"#m6eed57eaa6\" y=\"354.255401\"/>\n     <use style=\"fill-opacity:0;stroke:#000000;\" x=\"468.465625\" xlink:href=\"#m6eed57eaa6\" y=\"398.252461\"/>\n     <use style=\"fill-opacity:0;stroke:#000000;\" x=\"468.465625\" xlink:href=\"#m6eed57eaa6\" y=\"449.155036\"/>\n     <use style=\"fill-opacity:0;stroke:#000000;\" x=\"468.465625\" xlink:href=\"#m6eed57eaa6\" y=\"428.028716\"/>\n     <use style=\"fill-opacity:0;stroke:#000000;\" x=\"468.465625\" xlink:href=\"#m6eed57eaa6\" y=\"357.89133\"/>\n     <use style=\"fill-opacity:0;stroke:#000000;\" x=\"468.465625\" xlink:href=\"#m6eed57eaa6\" y=\"423.323964\"/>\n     <use style=\"fill-opacity:0;stroke:#000000;\" x=\"468.465625\" xlink:href=\"#m6eed57eaa6\" y=\"389.22009\"/>\n     <use style=\"fill-opacity:0;stroke:#000000;\" x=\"468.465625\" xlink:href=\"#m6eed57eaa6\" y=\"391.450073\"/>\n     <use style=\"fill-opacity:0;stroke:#000000;\" x=\"468.465625\" xlink:href=\"#m6eed57eaa6\" y=\"381.365445\"/>\n     <use style=\"fill-opacity:0;stroke:#000000;\" x=\"468.465625\" xlink:href=\"#m6eed57eaa6\" y=\"379.464383\"/>\n     <use style=\"fill-opacity:0;stroke:#000000;\" x=\"468.465625\" xlink:href=\"#m6eed57eaa6\" y=\"465.643636\"/>\n     <use style=\"fill-opacity:0;stroke:#000000;\" x=\"468.465625\" xlink:href=\"#m6eed57eaa6\" y=\"356.15291\"/>\n     <use style=\"fill-opacity:0;stroke:#000000;\" x=\"468.465625\" xlink:href=\"#m6eed57eaa6\" y=\"400.155083\"/>\n     <use style=\"fill-opacity:0;stroke:#000000;\" x=\"468.465625\" xlink:href=\"#m6eed57eaa6\" y=\"366.950979\"/>\n     <use style=\"fill-opacity:0;stroke:#000000;\" x=\"468.465625\" xlink:href=\"#m6eed57eaa6\" y=\"350.81792\"/>\n     <use style=\"fill-opacity:0;stroke:#000000;\" x=\"468.465625\" xlink:href=\"#m6eed57eaa6\" y=\"369.069949\"/>\n     <use style=\"fill-opacity:0;stroke:#000000;\" x=\"468.465625\" xlink:href=\"#m6eed57eaa6\" y=\"356.922692\"/>\n     <use style=\"fill-opacity:0;stroke:#000000;\" x=\"468.465625\" xlink:href=\"#m6eed57eaa6\" y=\"349.804049\"/>\n    </g>\n   </g>\n   <g id=\"line2d_20\">\n    <path clip-path=\"url(#p17725e3d30)\" d=\"M 158.865625 181.20909 \nL 202.065625 181.20909 \n\" style=\"fill:none;stroke:#2ca02c;stroke-linecap:square;\"/>\n   </g>\n   <g id=\"line2d_21\">\n    <path clip-path=\"url(#p17725e3d30)\" d=\"M 446.865625 211.602728 \nL 490.065625 211.602728 \n\" style=\"fill:none;stroke:#2ca02c;stroke-linecap:square;\"/>\n   </g>\n   <g id=\"patch_3\">\n    <path d=\"M 36.465625 485.28 \nL 36.465625 53.28 \n\" style=\"fill:none;stroke:#000000;stroke-linecap:square;stroke-linejoin:miter;stroke-width:0.8;\"/>\n   </g>\n   <g id=\"patch_4\">\n    <path d=\"M 612.465625 485.28 \nL 612.465625 53.28 \n\" style=\"fill:none;stroke:#000000;stroke-linecap:square;stroke-linejoin:miter;stroke-width:0.8;\"/>\n   </g>\n   <g id=\"patch_5\">\n    <path d=\"M 36.465625 485.28 \nL 612.465625 485.28 \n\" style=\"fill:none;stroke:#000000;stroke-linecap:square;stroke-linejoin:miter;stroke-width:0.8;\"/>\n   </g>\n   <g id=\"patch_6\">\n    <path d=\"M 36.465625 53.28 \nL 612.465625 53.28 \n\" style=\"fill:none;stroke:#000000;stroke-linecap:square;stroke-linejoin:miter;stroke-width:0.8;\"/>\n   </g>\n   <g id=\"text_9\">\n    <!-- meanfreq -->\n    <defs>\n     <path d=\"M 52 44.1875 \nQ 55.375 50.25 60.0625 53.125 \nQ 64.75 56 71.09375 56 \nQ 79.640625 56 84.28125 50.015625 \nQ 88.921875 44.046875 88.921875 33.015625 \nL 88.921875 0 \nL 79.890625 0 \nL 79.890625 32.71875 \nQ 79.890625 40.578125 77.09375 44.375 \nQ 74.3125 48.1875 68.609375 48.1875 \nQ 61.625 48.1875 57.5625 43.546875 \nQ 53.515625 38.921875 53.515625 30.90625 \nL 53.515625 0 \nL 44.484375 0 \nL 44.484375 32.71875 \nQ 44.484375 40.625 41.703125 44.40625 \nQ 38.921875 48.1875 33.109375 48.1875 \nQ 26.21875 48.1875 22.15625 43.53125 \nQ 18.109375 38.875 18.109375 30.90625 \nL 18.109375 0 \nL 9.078125 0 \nL 9.078125 54.6875 \nL 18.109375 54.6875 \nL 18.109375 46.1875 \nQ 21.1875 51.21875 25.484375 53.609375 \nQ 29.78125 56 35.6875 56 \nQ 41.65625 56 45.828125 52.96875 \nQ 50 49.953125 52 44.1875 \nz\n\" id=\"DejaVuSans-109\"/>\n     <path d=\"M 54.890625 33.015625 \nL 54.890625 0 \nL 45.90625 0 \nL 45.90625 32.71875 \nQ 45.90625 40.484375 42.875 44.328125 \nQ 39.84375 48.1875 33.796875 48.1875 \nQ 26.515625 48.1875 22.3125 43.546875 \nQ 18.109375 38.921875 18.109375 30.90625 \nL 18.109375 0 \nL 9.078125 0 \nL 9.078125 54.6875 \nL 18.109375 54.6875 \nL 18.109375 46.1875 \nQ 21.34375 51.125 25.703125 53.5625 \nQ 30.078125 56 35.796875 56 \nQ 45.21875 56 50.046875 50.171875 \nQ 54.890625 44.34375 54.890625 33.015625 \nz\n\" id=\"DejaVuSans-110\"/>\n     <path d=\"M 37.109375 75.984375 \nL 37.109375 68.5 \nL 28.515625 68.5 \nQ 23.6875 68.5 21.796875 66.546875 \nQ 19.921875 64.59375 19.921875 59.515625 \nL 19.921875 54.6875 \nL 34.71875 54.6875 \nL 34.71875 47.703125 \nL 19.921875 47.703125 \nL 19.921875 0 \nL 10.890625 0 \nL 10.890625 47.703125 \nL 2.296875 47.703125 \nL 2.296875 54.6875 \nL 10.890625 54.6875 \nL 10.890625 58.5 \nQ 10.890625 67.625 15.140625 71.796875 \nQ 19.390625 75.984375 28.609375 75.984375 \nz\n\" id=\"DejaVuSans-102\"/>\n     <path d=\"M 41.109375 46.296875 \nQ 39.59375 47.171875 37.8125 47.578125 \nQ 36.03125 48 33.890625 48 \nQ 26.265625 48 22.1875 43.046875 \nQ 18.109375 38.09375 18.109375 28.8125 \nL 18.109375 0 \nL 9.078125 0 \nL 9.078125 54.6875 \nL 18.109375 54.6875 \nL 18.109375 46.1875 \nQ 20.953125 51.171875 25.484375 53.578125 \nQ 30.03125 56 36.53125 56 \nQ 37.453125 56 38.578125 55.875 \nQ 39.703125 55.765625 41.0625 55.515625 \nz\n\" id=\"DejaVuSans-114\"/>\n     <path d=\"M 14.796875 27.296875 \nQ 14.796875 17.390625 18.875 11.75 \nQ 22.953125 6.109375 30.078125 6.109375 \nQ 37.203125 6.109375 41.296875 11.75 \nQ 45.40625 17.390625 45.40625 27.296875 \nQ 45.40625 37.203125 41.296875 42.84375 \nQ 37.203125 48.484375 30.078125 48.484375 \nQ 22.953125 48.484375 18.875 42.84375 \nQ 14.796875 37.203125 14.796875 27.296875 \nz\nM 45.40625 8.203125 \nQ 42.578125 3.328125 38.25 0.953125 \nQ 33.9375 -1.421875 27.875 -1.421875 \nQ 17.96875 -1.421875 11.734375 6.484375 \nQ 5.515625 14.40625 5.515625 27.296875 \nQ 5.515625 40.1875 11.734375 48.09375 \nQ 17.96875 56 27.875 56 \nQ 33.9375 56 38.25 53.625 \nQ 42.578125 51.265625 45.40625 46.390625 \nL 45.40625 54.6875 \nL 54.390625 54.6875 \nL 54.390625 -20.796875 \nL 45.40625 -20.796875 \nz\n\" id=\"DejaVuSans-113\"/>\n    </defs>\n    <g transform=\"translate(295.505313 47.28)scale(0.12 -0.12)\">\n     <use xlink:href=\"#DejaVuSans-109\"/>\n     <use x=\"97.412109\" xlink:href=\"#DejaVuSans-101\"/>\n     <use x=\"158.935547\" xlink:href=\"#DejaVuSans-97\"/>\n     <use x=\"220.214844\" xlink:href=\"#DejaVuSans-110\"/>\n     <use x=\"283.59375\" xlink:href=\"#DejaVuSans-102\"/>\n     <use x=\"318.798828\" xlink:href=\"#DejaVuSans-114\"/>\n     <use x=\"357.662109\" xlink:href=\"#DejaVuSans-101\"/>\n     <use x=\"419.185547\" xlink:href=\"#DejaVuSans-113\"/>\n    </g>\n   </g>\n  </g>\n  <g id=\"text_10\">\n   <!-- Boxplot grouped by label -->\n   <defs>\n    <path d=\"M 19.671875 34.8125 \nL 19.671875 8.109375 \nL 35.5 8.109375 \nQ 43.453125 8.109375 47.28125 11.40625 \nQ 51.125 14.703125 51.125 21.484375 \nQ 51.125 28.328125 47.28125 31.5625 \nQ 43.453125 34.8125 35.5 34.8125 \nz\nM 19.671875 64.796875 \nL 19.671875 42.828125 \nL 34.28125 42.828125 \nQ 41.5 42.828125 45.03125 45.53125 \nQ 48.578125 48.25 48.578125 53.8125 \nQ 48.578125 59.328125 45.03125 62.0625 \nQ 41.5 64.796875 34.28125 64.796875 \nz\nM 9.8125 72.90625 \nL 35.015625 72.90625 \nQ 46.296875 72.90625 52.390625 68.21875 \nQ 58.5 63.53125 58.5 54.890625 \nQ 58.5 48.1875 55.375 44.234375 \nQ 52.25 40.28125 46.1875 39.3125 \nQ 53.46875 37.75 57.5 32.78125 \nQ 61.53125 27.828125 61.53125 20.40625 \nQ 61.53125 10.640625 54.890625 5.3125 \nQ 48.25 0 35.984375 0 \nL 9.8125 0 \nz\n\" id=\"DejaVuSans-66\"/>\n    <path d=\"M 30.609375 48.390625 \nQ 23.390625 48.390625 19.1875 42.75 \nQ 14.984375 37.109375 14.984375 27.296875 \nQ 14.984375 17.484375 19.15625 11.84375 \nQ 23.34375 6.203125 30.609375 6.203125 \nQ 37.796875 6.203125 41.984375 11.859375 \nQ 46.1875 17.53125 46.1875 27.296875 \nQ 46.1875 37.015625 41.984375 42.703125 \nQ 37.796875 48.390625 30.609375 48.390625 \nz\nM 30.609375 56 \nQ 42.328125 56 49.015625 48.375 \nQ 55.71875 40.765625 55.71875 27.296875 \nQ 55.71875 13.875 49.015625 6.21875 \nQ 42.328125 -1.421875 30.609375 -1.421875 \nQ 18.84375 -1.421875 12.171875 6.21875 \nQ 5.515625 13.875 5.515625 27.296875 \nQ 5.515625 40.765625 12.171875 48.375 \nQ 18.84375 56 30.609375 56 \nz\n\" id=\"DejaVuSans-111\"/>\n    <path d=\"M 54.890625 54.6875 \nL 35.109375 28.078125 \nL 55.90625 0 \nL 45.3125 0 \nL 29.390625 21.484375 \nL 13.484375 0 \nL 2.875 0 \nL 24.125 28.609375 \nL 4.6875 54.6875 \nL 15.28125 54.6875 \nL 29.78125 35.203125 \nL 44.28125 54.6875 \nz\n\" id=\"DejaVuSans-120\"/>\n    <path d=\"M 18.109375 8.203125 \nL 18.109375 -20.796875 \nL 9.078125 -20.796875 \nL 9.078125 54.6875 \nL 18.109375 54.6875 \nL 18.109375 46.390625 \nQ 20.953125 51.265625 25.265625 53.625 \nQ 29.59375 56 35.59375 56 \nQ 45.5625 56 51.78125 48.09375 \nQ 58.015625 40.1875 58.015625 27.296875 \nQ 58.015625 14.40625 51.78125 6.484375 \nQ 45.5625 -1.421875 35.59375 -1.421875 \nQ 29.59375 -1.421875 25.265625 0.953125 \nQ 20.953125 3.328125 18.109375 8.203125 \nz\nM 48.6875 27.296875 \nQ 48.6875 37.203125 44.609375 42.84375 \nQ 40.53125 48.484375 33.40625 48.484375 \nQ 26.265625 48.484375 22.1875 42.84375 \nQ 18.109375 37.203125 18.109375 27.296875 \nQ 18.109375 17.390625 22.1875 11.75 \nQ 26.265625 6.109375 33.40625 6.109375 \nQ 40.53125 6.109375 44.609375 11.75 \nQ 48.6875 17.390625 48.6875 27.296875 \nz\n\" id=\"DejaVuSans-112\"/>\n    <path d=\"M 18.3125 70.21875 \nL 18.3125 54.6875 \nL 36.8125 54.6875 \nL 36.8125 47.703125 \nL 18.3125 47.703125 \nL 18.3125 18.015625 \nQ 18.3125 11.328125 20.140625 9.421875 \nQ 21.96875 7.515625 27.59375 7.515625 \nL 36.8125 7.515625 \nL 36.8125 0 \nL 27.59375 0 \nQ 17.1875 0 13.234375 3.875 \nQ 9.28125 7.765625 9.28125 18.015625 \nL 9.28125 47.703125 \nL 2.6875 47.703125 \nL 2.6875 54.6875 \nL 9.28125 54.6875 \nL 9.28125 70.21875 \nz\n\" id=\"DejaVuSans-116\"/>\n    <path id=\"DejaVuSans-32\"/>\n    <path d=\"M 45.40625 27.984375 \nQ 45.40625 37.75 41.375 43.109375 \nQ 37.359375 48.484375 30.078125 48.484375 \nQ 22.859375 48.484375 18.828125 43.109375 \nQ 14.796875 37.75 14.796875 27.984375 \nQ 14.796875 18.265625 18.828125 12.890625 \nQ 22.859375 7.515625 30.078125 7.515625 \nQ 37.359375 7.515625 41.375 12.890625 \nQ 45.40625 18.265625 45.40625 27.984375 \nz\nM 54.390625 6.78125 \nQ 54.390625 -7.171875 48.1875 -13.984375 \nQ 42 -20.796875 29.203125 -20.796875 \nQ 24.46875 -20.796875 20.265625 -20.09375 \nQ 16.0625 -19.390625 12.109375 -17.921875 \nL 12.109375 -9.1875 \nQ 16.0625 -11.328125 19.921875 -12.34375 \nQ 23.78125 -13.375 27.78125 -13.375 \nQ 36.625 -13.375 41.015625 -8.765625 \nQ 45.40625 -4.15625 45.40625 5.171875 \nL 45.40625 9.625 \nQ 42.625 4.78125 38.28125 2.390625 \nQ 33.9375 0 27.875 0 \nQ 17.828125 0 11.671875 7.65625 \nQ 5.515625 15.328125 5.515625 27.984375 \nQ 5.515625 40.671875 11.671875 48.328125 \nQ 17.828125 56 27.875 56 \nQ 33.9375 56 38.28125 53.609375 \nQ 42.625 51.21875 45.40625 46.390625 \nL 45.40625 54.6875 \nL 54.390625 54.6875 \nz\n\" id=\"DejaVuSans-103\"/>\n    <path d=\"M 8.5 21.578125 \nL 8.5 54.6875 \nL 17.484375 54.6875 \nL 17.484375 21.921875 \nQ 17.484375 14.15625 20.5 10.265625 \nQ 23.53125 6.390625 29.59375 6.390625 \nQ 36.859375 6.390625 41.078125 11.03125 \nQ 45.3125 15.671875 45.3125 23.6875 \nL 45.3125 54.6875 \nL 54.296875 54.6875 \nL 54.296875 0 \nL 45.3125 0 \nL 45.3125 8.40625 \nQ 42.046875 3.421875 37.71875 1 \nQ 33.40625 -1.421875 27.6875 -1.421875 \nQ 18.265625 -1.421875 13.375 4.4375 \nQ 8.5 10.296875 8.5 21.578125 \nz\nM 31.109375 56 \nz\n\" id=\"DejaVuSans-117\"/>\n    <path d=\"M 45.40625 46.390625 \nL 45.40625 75.984375 \nL 54.390625 75.984375 \nL 54.390625 0 \nL 45.40625 0 \nL 45.40625 8.203125 \nQ 42.578125 3.328125 38.25 0.953125 \nQ 33.9375 -1.421875 27.875 -1.421875 \nQ 17.96875 -1.421875 11.734375 6.484375 \nQ 5.515625 14.40625 5.515625 27.296875 \nQ 5.515625 40.1875 11.734375 48.09375 \nQ 17.96875 56 27.875 56 \nQ 33.9375 56 38.25 53.625 \nQ 42.578125 51.265625 45.40625 46.390625 \nz\nM 14.796875 27.296875 \nQ 14.796875 17.390625 18.875 11.75 \nQ 22.953125 6.109375 30.078125 6.109375 \nQ 37.203125 6.109375 41.296875 11.75 \nQ 45.40625 17.390625 45.40625 27.296875 \nQ 45.40625 37.203125 41.296875 42.84375 \nQ 37.203125 48.484375 30.078125 48.484375 \nQ 22.953125 48.484375 18.875 42.84375 \nQ 14.796875 37.203125 14.796875 27.296875 \nz\n\" id=\"DejaVuSans-100\"/>\n    <path d=\"M 32.171875 -5.078125 \nQ 28.375 -14.84375 24.75 -17.8125 \nQ 21.140625 -20.796875 15.09375 -20.796875 \nL 7.90625 -20.796875 \nL 7.90625 -13.28125 \nL 13.1875 -13.28125 \nQ 16.890625 -13.28125 18.9375 -11.515625 \nQ 21 -9.765625 23.484375 -3.21875 \nL 25.09375 0.875 \nL 2.984375 54.6875 \nL 12.5 54.6875 \nL 29.59375 11.921875 \nL 46.6875 54.6875 \nL 56.203125 54.6875 \nz\n\" id=\"DejaVuSans-121\"/>\n   </defs>\n   <g transform=\"translate(249.297812 16.318125)scale(0.12 -0.12)\">\n    <use xlink:href=\"#DejaVuSans-66\"/>\n    <use x=\"68.603516\" xlink:href=\"#DejaVuSans-111\"/>\n    <use x=\"126.660156\" xlink:href=\"#DejaVuSans-120\"/>\n    <use x=\"185.839844\" xlink:href=\"#DejaVuSans-112\"/>\n    <use x=\"249.316406\" xlink:href=\"#DejaVuSans-108\"/>\n    <use x=\"277.099609\" xlink:href=\"#DejaVuSans-111\"/>\n    <use x=\"338.28125\" xlink:href=\"#DejaVuSans-116\"/>\n    <use x=\"377.490234\" xlink:href=\"#DejaVuSans-32\"/>\n    <use x=\"409.277344\" xlink:href=\"#DejaVuSans-103\"/>\n    <use x=\"472.753906\" xlink:href=\"#DejaVuSans-114\"/>\n    <use x=\"511.617188\" xlink:href=\"#DejaVuSans-111\"/>\n    <use x=\"572.798828\" xlink:href=\"#DejaVuSans-117\"/>\n    <use x=\"636.177734\" xlink:href=\"#DejaVuSans-112\"/>\n    <use x=\"699.654297\" xlink:href=\"#DejaVuSans-101\"/>\n    <use x=\"761.177734\" xlink:href=\"#DejaVuSans-100\"/>\n    <use x=\"824.654297\" xlink:href=\"#DejaVuSans-32\"/>\n    <use x=\"856.441406\" xlink:href=\"#DejaVuSans-98\"/>\n    <use x=\"919.917969\" xlink:href=\"#DejaVuSans-121\"/>\n    <use x=\"979.097656\" xlink:href=\"#DejaVuSans-32\"/>\n    <use x=\"1010.884766\" xlink:href=\"#DejaVuSans-108\"/>\n    <use x=\"1038.667969\" xlink:href=\"#DejaVuSans-97\"/>\n    <use x=\"1099.947266\" xlink:href=\"#DejaVuSans-98\"/>\n    <use x=\"1163.423828\" xlink:href=\"#DejaVuSans-101\"/>\n    <use x=\"1224.947266\" xlink:href=\"#DejaVuSans-108\"/>\n   </g>\n  </g>\n </g>\n <defs>\n  <clipPath id=\"p17725e3d30\">\n   <rect height=\"432\" width=\"576\" x=\"36.465625\" y=\"53.28\"/>\n  </clipPath>\n </defs>\n</svg>\n",
      "image/png": "[encoded data removed]"
     },
     "metadata": {
      "needs_background": "light"
     }
    }
   ],
   "source": [
    "data.boxplot(by ='label', column =['meanfreq'], grid = False, figsize=(10, 8) )"
   ]
  },
  {
   "cell_type": "markdown",
   "metadata": {},
   "source": [
    "### Logistic Regression Classifier\n"
   ]
  },
  {
   "cell_type": "code",
   "execution_count": 73,
   "metadata": {},
   "outputs": [],
   "source": [
    "def logistic_model(x_train, y_train):\n",
    "    print(\"Logistic Regression Model\")\n",
    "    logistic_classifier = LogisticRegression(penalty='l2', solver='liblinear')\n",
    "    logistic_classifier.fit(x_train, y_train)\n",
    "    return logistic_classifier \n"
   ]
  },
  {
   "cell_type": "markdown",
   "metadata": {},
   "source": [
    "### Naive Baye's Classifier\n"
   ]
  },
  {
   "cell_type": "code",
   "execution_count": 74,
   "metadata": {},
   "outputs": [],
   "source": [
    "def naive_bayes_model(x_train, y_train):\n",
    "    print(\"Naive Bayes model\")\n",
    "    naive_bayes_classifier = GaussianNB()\n",
    "    naive_bayes_classifier.fit(x_train, y_train)\n",
    "    return naive_bayes_classifier"
   ]
  },
  {
   "cell_type": "markdown",
   "metadata": {},
   "source": [
    "### K-nearest-neighbors Classifier"
   ]
  },
  {
   "cell_type": "code",
   "execution_count": 75,
   "metadata": {},
   "outputs": [],
   "source": [
    "def k_nearest_neighbors_model(x_train, y_train):\n",
    "    print(\"K-Nearest neighbor model\")\n",
    "    k_nearest_neighbors_classifier = KNeighborsClassifier(n_neighbors=10)\n",
    "    k_nearest_neighbors_classifier.fit(x_train, y_train)\n",
    "    return k_nearest_neighbors_classifier\n"
   ]
  },
  {
   "cell_type": "markdown",
   "metadata": {},
   "source": [
    "### Support Vector Classifier"
   ]
  },
  {
   "cell_type": "code",
   "execution_count": 76,
   "metadata": {},
   "outputs": [],
   "source": [
    "def svc_model(x_train, y_train):\n",
    "    print(\"SVC model\")\n",
    "    svc_classifier = SVC(kernel='rbf', gamma='scale')\n",
    "    svc_classifier.fit(x_train, y_train)\n",
    "    return svc_classifier"
   ]
  },
  {
   "cell_type": "markdown",
   "metadata": {},
   "source": [
    "### MLP Neural Network Classifier"
   ]
  },
  {
   "cell_type": "code",
   "execution_count": 77,
   "metadata": {},
   "outputs": [],
   "source": [
    "def mlp_model(x_train, y_train):\n",
    "    print(\"MLP Neural Network\")\n",
    "    mlp_classifier = MLPClassifier(activation='relu', hidden_layer_sizes=(20,20,20) , solver='adam', verbose=True, max_iter=1000)\n",
    "    mlp_classifier.fit(x_train, y_train)\n",
    "\n",
    "    return mlp_classifier"
   ]
  },
  {
   "cell_type": "markdown",
   "metadata": {},
   "source": [
    "### Decision Tree Classifier"
   ]
  },
  {
   "cell_type": "code",
   "execution_count": 88,
   "metadata": {},
   "outputs": [],
   "source": [
    "def decision_tree_model(x_train, y_train):\n",
    "    print(\"Decision tree model\")\n",
    "    decision_classifier = DecisionTreeClassifier(max_depth=6)\n",
    "    decision_classifier.fit(x_train, y_train)\n",
    "    return decision_classifier"
   ]
  },
  {
   "cell_type": "markdown",
   "metadata": {},
   "source": [
    "### Train-Test Split and Standard Scaler\n",
    "\n",
    "Defining the X and Y variables and splitting the data 80% training and 20% test, and standardizing the x-variables."
   ]
  },
  {
   "cell_type": "code",
   "execution_count": 79,
   "metadata": {},
   "outputs": [],
   "source": [
    "    X = data.drop('label', axis=1)\n",
    "    Y = data['label']\n",
    "    x_train, x_test, y_train, y_test = train_test_split(X, Y, test_size=0.2, random_state=0)\n",
    "    scaler = StandardScaler()\n",
    "    scaler.fit(x_train)\n",
    "\n",
    "    x_train = scaler.transform(x_train)\n",
    "\n",
    "    x_test = scaler.transform(x_test)\n",
    "    "
   ]
  },
  {
   "cell_type": "markdown",
   "metadata": {},
   "source": [
    "### Build, Train, test and evaluate model \n",
    " For our evaluations We not only measured the accuracy but also displayed the confusion matrix which evaluates the performance of each classification. From the confusion matrix we can derive the Precision (ratio of True positive(TP)/(TP + FP(False Positive))) , Recall(ratio of TP/TP + FN (False Negative)) and f1 - scores(where weighted average of the precision and recall, where an F1 score reaches its best value at 1 and worst score at 0. f1 = 2 * (precision * recall) / (precision + recall)).\n",
    "    "
   ]
  },
  {
   "cell_type": "code",
   "execution_count": 80,
   "metadata": {},
   "outputs": [],
   "source": [
    "def build_and_train_model(data, target_name, class_fn):\n",
    "\n",
    "    model = class_fn(x_train, y_train)\n",
    "    \n",
    "    score = model.score(x_train, y_train)\n",
    "    print(\"Training Score : \", score)\n",
    "\n",
    "    y_pred = model.predict(x_test)\n",
    "\n",
    "    accuracy = accuracy_score(y_test, y_pred)\n",
    "    print(\"Testing Score: \", accuracy)\n",
    "\n",
    "    Confusion_Matrix = confusion_matrix(y_test, y_pred)\n",
    "    \n",
    "    Classification_report = classification_report(y_test, y_pred)\n",
    "\n",
    "    df_y = pd.DataFrame({'y_test' : y_test, 'y_pred' : y_pred})\n",
    "    print(df_y.sample(10))\n",
    "\n",
    "\n",
    "    return {'model' : model, \n",
    "            'x_train' : x_train, 'x_test' : x_test,\n",
    "            'y_train' : y_train, 'y_test' : y_test, \n",
    "            'y_pred' : y_pred, 'sample' : df_y.sample(10), 'Confusion Matrix' : print(' \\n Confusion_matrix : \\n', Confusion_Matrix),\n",
    "            'Classification Report' : print('\\n Classification Report : \\n', Classification_report)\n",
    "           }\n",
    "\n",
    "\n",
    "\n",
    "\n"
   ]
  },
  {
   "cell_type": "markdown",
   "metadata": {},
   "source": [
    "Utilizing the build and train model function to predict classification (male or female), score and generate classification report for eeach model on the data. 3 inputs as needed: data file, value to predict(label), and the type of model below. Results in order Training score, Testing/accuracy, precision, recall and f1- score to evaluate the classification accuracy and the Y_test: actual values and Y_pred = predicted values. "
   ]
  },
  {
   "cell_type": "code",
   "execution_count": 81,
   "metadata": {
    "tags": []
   },
   "outputs": [
    {
     "output_type": "stream",
     "name": "stdout",
     "text": "Logistic Regression Model\nTraining Score :  0.9747434885556433\nTesting Score:  0.973186119873817\n      y_test  y_pred\n2942       0       0\n3038       0       0\n2025       0       0\n69         1       1\n1081       1       1\n316        1       1\n1606       0       0\n1768       0       0\n2638       0       0\n1917       0       0\n \n Confusion_matrix : \n [[289  12]\n [  5 328]]\n\n Classification Report : \n               precision    recall  f1-score   support\n\n           0       0.98      0.96      0.97       301\n           1       0.96      0.98      0.97       333\n\n    accuracy                           0.97       634\n   macro avg       0.97      0.97      0.97       634\nweighted avg       0.97      0.97      0.97       634\n\n"
    }
   ],
   "source": [
    "Logistic_Regression_model = build_and_train_model(data, 'label', logistic_model)"
   ]
  },
  {
   "cell_type": "code",
   "execution_count": 82,
   "metadata": {
    "tags": []
   },
   "outputs": [
    {
     "output_type": "stream",
     "name": "stdout",
     "text": "Naive Bayes model\nTraining Score :  0.8970007892659826\nTesting Score:  0.8848580441640379\n      y_test  y_pred\n2997       0       0\n2031       0       0\n2205       0       0\n3035       0       0\n953        1       1\n1708       0       0\n496        1       0\n1511       1       1\n905        1       1\n2367       0       0\n \n Confusion_matrix : \n [[266  35]\n [ 38 295]]\n\n Classification Report : \n               precision    recall  f1-score   support\n\n           0       0.88      0.88      0.88       301\n           1       0.89      0.89      0.89       333\n\n    accuracy                           0.88       634\n   macro avg       0.88      0.88      0.88       634\nweighted avg       0.88      0.88      0.88       634\n\n"
    }
   ],
   "source": [
    "naive_bayes_model = build_and_train_model(data, 'label', naive_bayes_model)"
   ]
  },
  {
   "cell_type": "code",
   "execution_count": 83,
   "metadata": {
    "tags": []
   },
   "outputs": [
    {
     "output_type": "stream",
     "name": "stdout",
     "text": "K-Nearest neighbor model\nTraining Score :  0.9779005524861878\nTesting Score:  0.9747634069400631\n      y_test  y_pred\n2266       0       0\n1511       1       1\n2867       0       0\n538        1       1\n1476       1       1\n1140       1       1\n852        1       1\n1173       1       1\n906        1       1\n861        1       1\n \n Confusion_matrix : \n [[292   9]\n [  7 326]]\n\n Classification Report : \n               precision    recall  f1-score   support\n\n           0       0.98      0.97      0.97       301\n           1       0.97      0.98      0.98       333\n\n    accuracy                           0.97       634\n   macro avg       0.97      0.97      0.97       634\nweighted avg       0.97      0.97      0.97       634\n\n"
    }
   ],
   "source": [
    "k_nearest_neighbors_model = build_and_train_model(data, 'label', k_nearest_neighbors_model)"
   ]
  },
  {
   "cell_type": "code",
   "execution_count": 84,
   "metadata": {
    "tags": []
   },
   "outputs": [
    {
     "output_type": "stream",
     "name": "stdout",
     "text": "SVC model\nTraining Score :  0.9846093133385951\nTesting Score:  0.9842271293375394\n      y_test  y_pred\n2250       0       0\n3049       0       0\n2587       0       0\n825        1       1\n648        1       0\n3011       0       0\n758        1       1\n463        1       1\n148        1       1\n638        1       1\n \n Confusion_matrix : \n [[297   4]\n [  6 327]]\n\n Classification Report : \n               precision    recall  f1-score   support\n\n           0       0.98      0.99      0.98       301\n           1       0.99      0.98      0.98       333\n\n    accuracy                           0.98       634\n   macro avg       0.98      0.98      0.98       634\nweighted avg       0.98      0.98      0.98       634\n\n"
    }
   ],
   "source": [
    "support_vector_classifier_model = build_and_train_model(data, 'label', svc_model)"
   ]
  },
  {
   "cell_type": "code",
   "execution_count": 85,
   "metadata": {
    "tags": []
   },
   "outputs": [
    {
     "output_type": "stream",
     "name": "stdout",
     "text": "MLP Neural Network\nIteration 1, loss = 0.87593562\nIteration 2, loss = 0.72397074\nIteration 3, loss = 0.64056793\nIteration 4, loss = 0.58629383\nIteration 5, loss = 0.54033432\nIteration 6, loss = 0.49558081\nIteration 7, loss = 0.44928715\nIteration 8, loss = 0.39745524\nIteration 9, loss = 0.34044334\nIteration 10, loss = 0.28052684\nIteration 11, loss = 0.22745164\nIteration 12, loss = 0.18493705\nIteration 13, loss = 0.15317522\nIteration 14, loss = 0.13048807\nIteration 15, loss = 0.11443175\nIteration 16, loss = 0.10300998\nIteration 17, loss = 0.09522658\nIteration 18, loss = 0.08849304\nIteration 19, loss = 0.08375180\nIteration 20, loss = 0.08044581\nIteration 21, loss = 0.07768799\nIteration 22, loss = 0.07633596\nIteration 23, loss = 0.07351299\nIteration 24, loss = 0.07073830\nIteration 25, loss = 0.06974036\nIteration 26, loss = 0.06817909\nIteration 27, loss = 0.06632083\nIteration 28, loss = 0.06498196\nIteration 29, loss = 0.06376812\nIteration 30, loss = 0.06318858\nIteration 31, loss = 0.06207420\nIteration 32, loss = 0.06116500\nIteration 33, loss = 0.05941243\nIteration 34, loss = 0.05911053\nIteration 35, loss = 0.05787763\nIteration 36, loss = 0.05689323\nIteration 37, loss = 0.05596799\nIteration 38, loss = 0.05629086\nIteration 39, loss = 0.05599980\nIteration 40, loss = 0.05443455\nIteration 41, loss = 0.05328840\nIteration 42, loss = 0.05345853\nIteration 43, loss = 0.05274493\nIteration 44, loss = 0.05101342\nIteration 45, loss = 0.05046404\nIteration 46, loss = 0.05017673\nIteration 47, loss = 0.04885322\nIteration 48, loss = 0.04849179\nIteration 49, loss = 0.04769129\nIteration 50, loss = 0.04702023\nIteration 51, loss = 0.04645740\nIteration 52, loss = 0.04582195\nIteration 53, loss = 0.04520432\nIteration 54, loss = 0.04449861\nIteration 55, loss = 0.04389680\nIteration 56, loss = 0.04351200\nIteration 57, loss = 0.04290692\nIteration 58, loss = 0.04292631\nIteration 59, loss = 0.04335176\nIteration 60, loss = 0.04186105\nIteration 61, loss = 0.04084809\nIteration 62, loss = 0.04077650\nIteration 63, loss = 0.03997740\nIteration 64, loss = 0.03937001\nIteration 65, loss = 0.03933724\nIteration 66, loss = 0.03866972\nIteration 67, loss = 0.03849923\nIteration 68, loss = 0.03792446\nIteration 69, loss = 0.03728933\nIteration 70, loss = 0.03690273\nIteration 71, loss = 0.03602488\nIteration 72, loss = 0.03512977\nIteration 73, loss = 0.03549493\nIteration 74, loss = 0.03520923\nIteration 75, loss = 0.03385251\nIteration 76, loss = 0.03328355\nIteration 77, loss = 0.03312912\nIteration 78, loss = 0.03239475\nIteration 79, loss = 0.03196084\nIteration 80, loss = 0.03132298\nIteration 81, loss = 0.03078084\nIteration 82, loss = 0.03086946\nIteration 83, loss = 0.03013300\nIteration 84, loss = 0.02958862\nIteration 85, loss = 0.02917239\nIteration 86, loss = 0.02865219\nIteration 87, loss = 0.02824434\nIteration 88, loss = 0.02799943\nIteration 89, loss = 0.02756370\nIteration 90, loss = 0.02690025\nIteration 91, loss = 0.02660965\nIteration 92, loss = 0.02623375\nIteration 93, loss = 0.02576807\nIteration 94, loss = 0.02553002\nIteration 95, loss = 0.02499762\nIteration 96, loss = 0.02471747\nIteration 97, loss = 0.02412559\nIteration 98, loss = 0.02383544\nIteration 99, loss = 0.02371372\nIteration 100, loss = 0.02349998\nIteration 101, loss = 0.02341055\nIteration 102, loss = 0.02263627\nIteration 103, loss = 0.02252091\nIteration 104, loss = 0.02181393\nIteration 105, loss = 0.02140213\nIteration 106, loss = 0.02125420\nIteration 107, loss = 0.02141863\nIteration 108, loss = 0.02070127\nIteration 109, loss = 0.02019496\nIteration 110, loss = 0.02041340\nIteration 111, loss = 0.01993143\nIteration 112, loss = 0.01971158\nIteration 113, loss = 0.01890486\nIteration 114, loss = 0.01870072\nIteration 115, loss = 0.01824479\nIteration 116, loss = 0.01805506\nIteration 117, loss = 0.01752385\nIteration 118, loss = 0.01757956\nIteration 119, loss = 0.01744772\nIteration 120, loss = 0.01702235\nIteration 121, loss = 0.01690496\nIteration 122, loss = 0.01646108\nIteration 123, loss = 0.01606664\nIteration 124, loss = 0.01602213\nIteration 125, loss = 0.01556799\nIteration 126, loss = 0.01501067\nIteration 127, loss = 0.01462855\nIteration 128, loss = 0.01464728\nIteration 129, loss = 0.01410031\nIteration 130, loss = 0.01392812\nIteration 131, loss = 0.01354504\nIteration 132, loss = 0.01329408\nIteration 133, loss = 0.01347226\nIteration 134, loss = 0.01329913\nIteration 135, loss = 0.01260484\nIteration 136, loss = 0.01247785\nIteration 137, loss = 0.01196545\nIteration 138, loss = 0.01170249\nIteration 139, loss = 0.01129687\nIteration 140, loss = 0.01109158\nIteration 141, loss = 0.01105117\nIteration 142, loss = 0.01077922\nIteration 143, loss = 0.01022502\nIteration 144, loss = 0.01015854\nIteration 145, loss = 0.00984720\nIteration 146, loss = 0.00952539\nIteration 147, loss = 0.00945497\nIteration 148, loss = 0.00922606\nIteration 149, loss = 0.00886859\nIteration 150, loss = 0.00886837\nIteration 151, loss = 0.00855738\nIteration 152, loss = 0.00828945\nIteration 153, loss = 0.00827992\nIteration 154, loss = 0.00816899\nIteration 155, loss = 0.00770192\nIteration 156, loss = 0.00747595\nIteration 157, loss = 0.00726185\nIteration 158, loss = 0.00720068\nIteration 159, loss = 0.00700858\nIteration 160, loss = 0.00681996\nIteration 161, loss = 0.00670515\nIteration 162, loss = 0.00658706\nIteration 163, loss = 0.00642543\nIteration 164, loss = 0.00612554\nIteration 165, loss = 0.00603393\nIteration 166, loss = 0.00587566\nIteration 167, loss = 0.00569208\nIteration 168, loss = 0.00559837\nIteration 169, loss = 0.00542336\nIteration 170, loss = 0.00531360\nIteration 171, loss = 0.00523476\nIteration 172, loss = 0.00516441\nIteration 173, loss = 0.00495643\nIteration 174, loss = 0.00477566\nIteration 175, loss = 0.00465908\nIteration 176, loss = 0.00460997\nIteration 177, loss = 0.00483212\nIteration 178, loss = 0.00450052\nIteration 179, loss = 0.00427403\nIteration 180, loss = 0.00400710\nIteration 181, loss = 0.00387349\nIteration 182, loss = 0.00379070\nIteration 183, loss = 0.00379771\nIteration 184, loss = 0.00369756\nIteration 185, loss = 0.00362596\nIteration 186, loss = 0.00341191\nIteration 187, loss = 0.00327620\nIteration 188, loss = 0.00319719\nIteration 189, loss = 0.00313352\nIteration 190, loss = 0.00298231\nIteration 191, loss = 0.00297911\nIteration 192, loss = 0.00285210\nIteration 193, loss = 0.00280551\nIteration 194, loss = 0.00272071\nIteration 195, loss = 0.00268723\nIteration 196, loss = 0.00256417\nIteration 197, loss = 0.00251587\nIteration 198, loss = 0.00245818\nIteration 199, loss = 0.00245418\nIteration 200, loss = 0.00238460\nIteration 201, loss = 0.00229934\nIteration 202, loss = 0.00235152\nIteration 203, loss = 0.00221416\nIteration 204, loss = 0.00210524\nIteration 205, loss = 0.00207380\nIteration 206, loss = 0.00198962\nIteration 207, loss = 0.00195032\nIteration 208, loss = 0.00192938\nIteration 209, loss = 0.00188746\nIteration 210, loss = 0.00188599\nIteration 211, loss = 0.00182854\nIteration 212, loss = 0.00169067\nIteration 213, loss = 0.00170564\nIteration 214, loss = 0.00163841\nIteration 215, loss = 0.00163742\nIteration 216, loss = 0.00157354\nIteration 217, loss = 0.00153689\nIteration 218, loss = 0.00149683\nIteration 219, loss = 0.00146517\nIteration 220, loss = 0.00143861\nIteration 221, loss = 0.00145110\nIteration 222, loss = 0.00142488\nIteration 223, loss = 0.00139178\nTraining loss did not improve more than tol=0.000100 for 10 consecutive epochs. Stopping.\nTraining Score :  1.0\nTesting Score:  0.9858044164037855\n      y_test  y_pred\n2419       0       0\n192        1       1\n1385       1       1\n545        1       1\n678        1       1\n1680       0       0\n701        1       1\n499        1       1\n1          1       1\n305        1       1\n \n Confusion_matrix : \n [[297   4]\n [  5 328]]\n\n Classification Report : \n               precision    recall  f1-score   support\n\n           0       0.98      0.99      0.99       301\n           1       0.99      0.98      0.99       333\n\n    accuracy                           0.99       634\n   macro avg       0.99      0.99      0.99       634\nweighted avg       0.99      0.99      0.99       634\n\n"
    }
   ],
   "source": [
    "mlp_classifier_model = build_and_train_model(data, 'label', mlp_model)"
   ]
  },
  {
   "cell_type": "code",
   "execution_count": 89,
   "metadata": {
    "tags": []
   },
   "outputs": [
    {
     "output_type": "stream",
     "name": "stdout",
     "text": "Decision tree model\nTraining Score :  0.9925019731649566\nTesting Score:  0.9637223974763407\n      y_test  y_pred\n2178       0       0\n2103       0       0\n2456       0       0\n661        1       1\n1083       1       1\n2910       0       0\n2419       0       0\n1276       1       1\n719        1       1\n1952       0       0\n \n Confusion_matrix : \n [[291  10]\n [ 13 320]]\n\n Classification Report : \n               precision    recall  f1-score   support\n\n           0       0.96      0.97      0.96       301\n           1       0.97      0.96      0.97       333\n\n    accuracy                           0.96       634\n   macro avg       0.96      0.96      0.96       634\nweighted avg       0.96      0.96      0.96       634\n\n"
    }
   ],
   "source": [
    "decision_tree_classifier_model = build_and_train_model(data, 'label', decision_tree_model)"
   ]
  },
  {
   "cell_type": "markdown",
   "metadata": {},
   "source": [
    "### Splitting the training data further into two more parts to test warm_start"
   ]
  },
  {
   "cell_type": "code",
   "execution_count": 91,
   "metadata": {},
   "outputs": [],
   "source": [
    "x_train_1, x_train_2, y_train_1, y_train_2 = train_test_split(x_train, y_train, test_size=0.5)"
   ]
  },
  {
   "cell_type": "markdown",
   "metadata": {},
   "source": [
    "### Random Forest Classifier"
   ]
  },
  {
   "cell_type": "code",
   "execution_count": 92,
   "metadata": {},
   "outputs": [],
   "source": [
    "random_classifier_model = RandomForestClassifier(max_depth=4, n_estimators=2, warm_start=True)"
   ]
  },
  {
   "cell_type": "code",
   "execution_count": 99,
   "metadata": {
    "tags": []
   },
   "outputs": [
    {
     "output_type": "stream",
     "name": "stdout",
     "text": "Testing Score :  0.9684542586750788\n\n Confusion_matrix : \n [[290  11]\n [  9 324]]\n\n Classification Report : \n               precision    recall  f1-score   support\n\n           0       0.97      0.96      0.97       301\n           1       0.97      0.97      0.97       333\n\n    accuracy                           0.97       634\n   macro avg       0.97      0.97      0.97       634\nweighted avg       0.97      0.97      0.97       634\n\n"
    }
   ],
   "source": [
    "random_classifier_model.fit(x_train_1, y_train_1)\n",
    "y_pred = random_classifier_model.predict(x_test)\n",
    "test_score = accuracy = accuracy_score(y_test, y_pred)\n",
    "Confusion_Matrix = confusion_matrix(y_test, y_pred)\n",
    "Classification_report = classification_report(y_test, y_pred)\n",
    "print(\"Testing Score : \", test_score)\n",
    "print('\\n Confusion_matrix : \\n', Confusion_Matrix)\n",
    "print('\\n Classification Report : \\n', Classification_report)"
   ]
  },
  {
   "cell_type": "code",
   "execution_count": 101,
   "metadata": {
    "tags": []
   },
   "outputs": [
    {
     "output_type": "stream",
     "name": "stdout",
     "text": "Testing Score :  0.9716088328075709\n\n Confusion_matrix : \n [[290  11]\n [  9 324]]\n\n Classification Report : \n               precision    recall  f1-score   support\n\n           0       0.97      0.96      0.97       301\n           1       0.97      0.97      0.97       333\n\n    accuracy                           0.97       634\n   macro avg       0.97      0.97      0.97       634\nweighted avg       0.97      0.97      0.97       634\n\n"
    }
   ],
   "source": [
    "random_classifier_model.n_estimators += 2\n",
    "random_classifier_model.fit(x_train_2, y_train_2)\n",
    "y_pred = random_classifier_model.predict(x_test)\n",
    "test_score = accuracy = accuracy_score(y_test, y_pred)\n",
    "print(\"Testing Score : \", test_score)\n",
    "print('\\n Confusion_matrix : \\n', Confusion_Matrix)\n",
    "print('\\n Classification Report : \\n', Classification_report)"
   ]
  }
 ]
}
