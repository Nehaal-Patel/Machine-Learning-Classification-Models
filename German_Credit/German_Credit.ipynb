{
 "metadata": {
  "language_info": {
   "codemirror_mode": {
    "name": "ipython",
    "version": 3
   },
   "file_extension": ".py",
   "mimetype": "text/x-python",
   "name": "python",
   "nbconvert_exporter": "python",
   "pygments_lexer": "ipython3",
   "version": "3.8.5-final"
  },
  "orig_nbformat": 2,
  "kernelspec": {
   "name": "python_defaultSpec_1600624611669",
   "display_name": "Python 3.8.5 64-bit"
  }
 },
 "nbformat": 4,
 "nbformat_minor": 2,
 "cells": [
  {
   "cell_type": "markdown",
   "metadata": {},
   "source": [
    "### German Credit Dataset\n",
    "Source : https://www.mldata.io/dataset-details/german_credit_data/\n",
    "\n",
    "checking_account_status\t- Status of existing checking account (A11: < 0 DM, A12: 0 <= x < 200 DM, A13 : >= 200 DM / salary assignments for at least 1 year, A14 : no checking account)\n",
    "\n",
    "duration\t-\tDuration in month\n",
    "\n",
    "credit_history\t-\tA30: no credits taken/ all credits paid back duly, A31: all credits at this bank paid back duly, A32: existing credits paid back duly till now, A33: delay in paying off in the past, A34 : critical account/ other credits existing (not at this bank)\n",
    "\n",
    "purpose\t- Purpose of Credit (A40 : car (new), A41 : car (used), A42 : furniture/equipment, A43 : radio/television, A44 : domestic appliances, A45 : repairs, A46 : education, A47 : (vacation - does not exist?), A48 : retraining, A49 : business, A410 : others)\n",
    "\n",
    "savings\t- Savings in accounts/bonds (A61 : < 100 DM, A62 : 100 <= x < 500 DM, A63 : 500 <= x < 1000 DM, A64 : >= 1000 DM, A65 : unknown/ no savings account\n",
    "\n",
    "credit_amount\t- savings\tstring\tSavings in accounts/bonds (A61 : < 100 DM, A62 : 100 <= x < 500 DM, A63 : 500 <= x < 1000 DM, A64 : >= 1000 DM, A65 : unknown/ no savings account\n",
    "\n",
    "present_employment\t- A71 : unemployed, A72 : < 1 year, A73 : 1 <= x < 4 years, A74 : 4 <= x < 7 years, A75 : .. >= 7 years\n",
    "\n",
    "installment_rate\t-\tInstallment Rate in percentage of disposable income\n",
    "\n",
    "personal\t-\tPersonal Marital Status and Sex (A91 : male : divorced/separated, A92 : female : divorced/separated/married, A93 : male : single, A94 : male : married/widowed, A95 : female : single)\n",
    "\n",
    "other_debtors\t-\tA101 : none, A102 : co-applicant, A103 : guarantor\n",
    "\n",
    "present_residence\t-\tPresent residence since\n",
    "\n",
    "property\t-\tA121 : real estate, A122 : if not A121 : building society savings agreement/ life insurance, A123 : if not A121/A122 : car or other, not in attribute 6, A124 : unknown / no property\n",
    "\n",
    "age\t-\tAge in years\n",
    "\n",
    "other_installment_plans\t-\tA141 : bank, A142 : stores, A143 : none\n",
    "\n",
    "customer_type\t-\tPredictor Class: 1=Good, 2=Bad"
   ]
  },
  {
   "cell_type": "markdown",
   "metadata": {},
   "source": [
    "## Importing all libraries"
   ]
  },
  {
   "cell_type": "code",
   "execution_count": 848,
   "metadata": {},
   "outputs": [],
   "source": [
    "import pandas as pd\n",
    "import numpy as np \n",
    "import matplotlib.pyplot as plt \n",
    "from sklearn.linear_model import LogisticRegression\n",
    "from sklearn.naive_bayes import GaussianNB\n",
    "from sklearn.svm import SVC\n",
    "from sklearn.neighbors import KNeighborsClassifier\n",
    "from sklearn.tree import DecisionTreeClassifier\n",
    "from sklearn.ensemble import RandomForestClassifier\n",
    "from sklearn.model_selection import train_test_split\n",
    "from sklearn.neural_network import MLPClassifier \n",
    "from sklearn.preprocessing import LabelEncoder, StandardScaler\n",
    "from sklearn.metrics import accuracy_score, classification_report, confusion_matrix\n"
   ]
  },
  {
   "cell_type": "markdown",
   "metadata": {},
   "source": [
    "## Importing the data "
   ]
  },
  {
   "cell_type": "code",
   "execution_count": 849,
   "metadata": {},
   "outputs": [
    {
     "output_type": "execute_result",
     "data": {
      "text/plain": "  checking_account_status  duration credit_history purpose  credit_amount  \\\n0                     A11         6            A34     A43         1169.0   \n1                     A12        48            A32     A43         5951.0   \n2                     A14        12            A34     A46         2096.0   \n3                     A11        42            A32     A42         7882.0   \n4                     A11        24            A33     A40         4870.0   \n\n  savings present_employment  installment_rate personal other_debtors  ...  \\\n0     A65                A75               4.0      A93          A101  ...   \n1     A61                A73               2.0      A92          A101  ...   \n2     A61                A74               2.0      A93          A101  ...   \n3     A61                A74               2.0      A93          A103  ...   \n4     A61                A73               3.0      A93          A101  ...   \n\n   property   age  other_installment_plans housing existing_credits   job  \\\n0      A121  67.0                     A143    A152              2.0  A173   \n1      A121  22.0                     A143    A152              1.0  A173   \n2      A121  49.0                     A143    A152              1.0  A172   \n3      A122  45.0                     A143    A153              1.0  A173   \n4      A124  53.0                     A143    A153              2.0  A173   \n\n  dependents  telephone foreign_worker customer_type  \n0          1       A192           A201             1  \n1          1       A191           A201             2  \n2          2       A191           A201             1  \n3          2       A191           A201             1  \n4          2       A191           A201             2  \n\n[5 rows x 21 columns]",
      "text/html": "<div>\n<style scoped>\n    .dataframe tbody tr th:only-of-type {\n        vertical-align: middle;\n    }\n\n    .dataframe tbody tr th {\n        vertical-align: top;\n    }\n\n    .dataframe thead th {\n        text-align: right;\n    }\n</style>\n<table border=\"1\" class=\"dataframe\">\n  <thead>\n    <tr style=\"text-align: right;\">\n      <th></th>\n      <th>checking_account_status</th>\n      <th>duration</th>\n      <th>credit_history</th>\n      <th>purpose</th>\n      <th>credit_amount</th>\n      <th>savings</th>\n      <th>present_employment</th>\n      <th>installment_rate</th>\n      <th>personal</th>\n      <th>other_debtors</th>\n      <th>...</th>\n      <th>property</th>\n      <th>age</th>\n      <th>other_installment_plans</th>\n      <th>housing</th>\n      <th>existing_credits</th>\n      <th>job</th>\n      <th>dependents</th>\n      <th>telephone</th>\n      <th>foreign_worker</th>\n      <th>customer_type</th>\n    </tr>\n  </thead>\n  <tbody>\n    <tr>\n      <th>0</th>\n      <td>A11</td>\n      <td>6</td>\n      <td>A34</td>\n      <td>A43</td>\n      <td>1169.0</td>\n      <td>A65</td>\n      <td>A75</td>\n      <td>4.0</td>\n      <td>A93</td>\n      <td>A101</td>\n      <td>...</td>\n      <td>A121</td>\n      <td>67.0</td>\n      <td>A143</td>\n      <td>A152</td>\n      <td>2.0</td>\n      <td>A173</td>\n      <td>1</td>\n      <td>A192</td>\n      <td>A201</td>\n      <td>1</td>\n    </tr>\n    <tr>\n      <th>1</th>\n      <td>A12</td>\n      <td>48</td>\n      <td>A32</td>\n      <td>A43</td>\n      <td>5951.0</td>\n      <td>A61</td>\n      <td>A73</td>\n      <td>2.0</td>\n      <td>A92</td>\n      <td>A101</td>\n      <td>...</td>\n      <td>A121</td>\n      <td>22.0</td>\n      <td>A143</td>\n      <td>A152</td>\n      <td>1.0</td>\n      <td>A173</td>\n      <td>1</td>\n      <td>A191</td>\n      <td>A201</td>\n      <td>2</td>\n    </tr>\n    <tr>\n      <th>2</th>\n      <td>A14</td>\n      <td>12</td>\n      <td>A34</td>\n      <td>A46</td>\n      <td>2096.0</td>\n      <td>A61</td>\n      <td>A74</td>\n      <td>2.0</td>\n      <td>A93</td>\n      <td>A101</td>\n      <td>...</td>\n      <td>A121</td>\n      <td>49.0</td>\n      <td>A143</td>\n      <td>A152</td>\n      <td>1.0</td>\n      <td>A172</td>\n      <td>2</td>\n      <td>A191</td>\n      <td>A201</td>\n      <td>1</td>\n    </tr>\n    <tr>\n      <th>3</th>\n      <td>A11</td>\n      <td>42</td>\n      <td>A32</td>\n      <td>A42</td>\n      <td>7882.0</td>\n      <td>A61</td>\n      <td>A74</td>\n      <td>2.0</td>\n      <td>A93</td>\n      <td>A103</td>\n      <td>...</td>\n      <td>A122</td>\n      <td>45.0</td>\n      <td>A143</td>\n      <td>A153</td>\n      <td>1.0</td>\n      <td>A173</td>\n      <td>2</td>\n      <td>A191</td>\n      <td>A201</td>\n      <td>1</td>\n    </tr>\n    <tr>\n      <th>4</th>\n      <td>A11</td>\n      <td>24</td>\n      <td>A33</td>\n      <td>A40</td>\n      <td>4870.0</td>\n      <td>A61</td>\n      <td>A73</td>\n      <td>3.0</td>\n      <td>A93</td>\n      <td>A101</td>\n      <td>...</td>\n      <td>A124</td>\n      <td>53.0</td>\n      <td>A143</td>\n      <td>A153</td>\n      <td>2.0</td>\n      <td>A173</td>\n      <td>2</td>\n      <td>A191</td>\n      <td>A201</td>\n      <td>2</td>\n    </tr>\n  </tbody>\n</table>\n<p>5 rows × 21 columns</p>\n</div>"
     },
     "metadata": {},
     "execution_count": 849
    }
   ],
   "source": [
    "data = pd.read_csv('german_credit_data_dataset.csv')\n",
    "\n",
    "data.head()"
   ]
  },
  {
   "cell_type": "code",
   "execution_count": 850,
   "metadata": {},
   "outputs": [
    {
     "output_type": "execute_result",
     "data": {
      "text/plain": "(1000, 21)"
     },
     "metadata": {},
     "execution_count": 850
    }
   ],
   "source": [
    "data.shape"
   ]
  },
  {
   "cell_type": "markdown",
   "metadata": {},
   "source": [
    "### Dropping the extra/ low contributing attributes"
   ]
  },
  {
   "cell_type": "code",
   "execution_count": 851,
   "metadata": {},
   "outputs": [],
   "source": [
    "data = data.drop(['telephone', 'personal', 'present_residence', 'other_installment_plans'], axis=1) \n"
   ]
  },
  {
   "cell_type": "markdown",
   "metadata": {},
   "source": [
    "### Checking for nulls"
   ]
  },
  {
   "cell_type": "code",
   "execution_count": 852,
   "metadata": {
    "tags": []
   },
   "outputs": [
    {
     "output_type": "stream",
     "name": "stdout",
     "text": "<class 'pandas.core.frame.DataFrame'>\nRangeIndex: 1000 entries, 0 to 999\nData columns (total 17 columns):\n #   Column                   Non-Null Count  Dtype  \n---  ------                   --------------  -----  \n 0   checking_account_status  1000 non-null   object \n 1   duration                 1000 non-null   int64  \n 2   credit_history           1000 non-null   object \n 3   purpose                  1000 non-null   object \n 4   credit_amount            1000 non-null   float64\n 5   savings                  1000 non-null   object \n 6   present_employment       1000 non-null   object \n 7   installment_rate         1000 non-null   float64\n 8   other_debtors            1000 non-null   object \n 9   property                 1000 non-null   object \n 10  age                      1000 non-null   float64\n 11  housing                  1000 non-null   object \n 12  existing_credits         1000 non-null   float64\n 13  job                      1000 non-null   object \n 14  dependents               1000 non-null   int64  \n 15  foreign_worker           1000 non-null   object \n 16  customer_type            1000 non-null   int64  \ndtypes: float64(4), int64(3), object(10)\nmemory usage: 132.9+ KB\n"
    }
   ],
   "source": [
    "data.info()"
   ]
  },
  {
   "cell_type": "markdown",
   "metadata": {},
   "source": [
    "### Converting rest of the attributes to keys "
   ]
  },
  {
   "cell_type": "code",
   "execution_count": 853,
   "metadata": {},
   "outputs": [
    {
     "output_type": "execute_result",
     "data": {
      "text/plain": "Index(['checking_account_status', 'duration', 'credit_history', 'purpose',\n       'credit_amount', 'savings', 'present_employment', 'installment_rate',\n       'other_debtors', 'property', 'age', 'housing', 'existing_credits',\n       'job', 'dependents', 'foreign_worker', 'customer_type'],\n      dtype='object')"
     },
     "metadata": {},
     "execution_count": 853
    }
   ],
   "source": [
    "data.keys()"
   ]
  },
  {
   "cell_type": "markdown",
   "metadata": {},
   "source": [
    "### Finding and ranking out all of the unique saving types "
   ]
  },
  {
   "cell_type": "code",
   "execution_count": 854,
   "metadata": {},
   "outputs": [
    {
     "output_type": "execute_result",
     "data": {
      "text/plain": "array(['A65', 'A61', 'A63', 'A64', 'A62'], dtype=object)"
     },
     "metadata": {},
     "execution_count": 854
    }
   ],
   "source": [
    "data.savings.unique()"
   ]
  },
  {
   "cell_type": "code",
   "execution_count": 855,
   "metadata": {},
   "outputs": [
    {
     "output_type": "execute_result",
     "data": {
      "text/plain": "  checking_account_status  duration credit_history purpose  credit_amount  \\\n0                     A11         6            A34     A43         1169.0   \n1                     A12        48            A32     A43         5951.0   \n2                     A14        12            A34     A46         2096.0   \n3                     A11        42            A32     A42         7882.0   \n4                     A11        24            A33     A40         4870.0   \n\n   savings present_employment  installment_rate other_debtors property   age  \\\n0        0                A75               4.0          A101     A121  67.0   \n1        1                A73               2.0          A101     A121  22.0   \n2        1                A74               2.0          A101     A121  49.0   \n3        1                A74               2.0          A103     A122  45.0   \n4        1                A73               3.0          A101     A124  53.0   \n\n  housing  existing_credits   job  dependents foreign_worker  customer_type  \n0    A152               2.0  A173           1           A201              1  \n1    A152               1.0  A173           1           A201              2  \n2    A152               1.0  A172           2           A201              1  \n3    A153               1.0  A173           2           A201              1  \n4    A153               2.0  A173           2           A201              2  ",
      "text/html": "<div>\n<style scoped>\n    .dataframe tbody tr th:only-of-type {\n        vertical-align: middle;\n    }\n\n    .dataframe tbody tr th {\n        vertical-align: top;\n    }\n\n    .dataframe thead th {\n        text-align: right;\n    }\n</style>\n<table border=\"1\" class=\"dataframe\">\n  <thead>\n    <tr style=\"text-align: right;\">\n      <th></th>\n      <th>checking_account_status</th>\n      <th>duration</th>\n      <th>credit_history</th>\n      <th>purpose</th>\n      <th>credit_amount</th>\n      <th>savings</th>\n      <th>present_employment</th>\n      <th>installment_rate</th>\n      <th>other_debtors</th>\n      <th>property</th>\n      <th>age</th>\n      <th>housing</th>\n      <th>existing_credits</th>\n      <th>job</th>\n      <th>dependents</th>\n      <th>foreign_worker</th>\n      <th>customer_type</th>\n    </tr>\n  </thead>\n  <tbody>\n    <tr>\n      <th>0</th>\n      <td>A11</td>\n      <td>6</td>\n      <td>A34</td>\n      <td>A43</td>\n      <td>1169.0</td>\n      <td>0</td>\n      <td>A75</td>\n      <td>4.0</td>\n      <td>A101</td>\n      <td>A121</td>\n      <td>67.0</td>\n      <td>A152</td>\n      <td>2.0</td>\n      <td>A173</td>\n      <td>1</td>\n      <td>A201</td>\n      <td>1</td>\n    </tr>\n    <tr>\n      <th>1</th>\n      <td>A12</td>\n      <td>48</td>\n      <td>A32</td>\n      <td>A43</td>\n      <td>5951.0</td>\n      <td>1</td>\n      <td>A73</td>\n      <td>2.0</td>\n      <td>A101</td>\n      <td>A121</td>\n      <td>22.0</td>\n      <td>A152</td>\n      <td>1.0</td>\n      <td>A173</td>\n      <td>1</td>\n      <td>A201</td>\n      <td>2</td>\n    </tr>\n    <tr>\n      <th>2</th>\n      <td>A14</td>\n      <td>12</td>\n      <td>A34</td>\n      <td>A46</td>\n      <td>2096.0</td>\n      <td>1</td>\n      <td>A74</td>\n      <td>2.0</td>\n      <td>A101</td>\n      <td>A121</td>\n      <td>49.0</td>\n      <td>A152</td>\n      <td>1.0</td>\n      <td>A172</td>\n      <td>2</td>\n      <td>A201</td>\n      <td>1</td>\n    </tr>\n    <tr>\n      <th>3</th>\n      <td>A11</td>\n      <td>42</td>\n      <td>A32</td>\n      <td>A42</td>\n      <td>7882.0</td>\n      <td>1</td>\n      <td>A74</td>\n      <td>2.0</td>\n      <td>A103</td>\n      <td>A122</td>\n      <td>45.0</td>\n      <td>A153</td>\n      <td>1.0</td>\n      <td>A173</td>\n      <td>2</td>\n      <td>A201</td>\n      <td>1</td>\n    </tr>\n    <tr>\n      <th>4</th>\n      <td>A11</td>\n      <td>24</td>\n      <td>A33</td>\n      <td>A40</td>\n      <td>4870.0</td>\n      <td>1</td>\n      <td>A73</td>\n      <td>3.0</td>\n      <td>A101</td>\n      <td>A124</td>\n      <td>53.0</td>\n      <td>A153</td>\n      <td>2.0</td>\n      <td>A173</td>\n      <td>2</td>\n      <td>A201</td>\n      <td>2</td>\n    </tr>\n  </tbody>\n</table>\n</div>"
     },
     "metadata": {},
     "execution_count": 855
    }
   ],
   "source": [
    "saving_dictionary= {'A65' : 0, 'A61' : 1, 'A62' : 2, 'A63': 4, 'A64' : 5}\n",
    "\n",
    "data.savings.replace(saving_dictionary, inplace = True)\n",
    "\n",
    "data.head()"
   ]
  },
  {
   "cell_type": "markdown",
   "metadata": {},
   "source": [
    "### Encoding rest of the categorical values\n",
    "Encoding the rest of the categorical attributes into numerical values using the dummy encoding"
   ]
  },
  {
   "cell_type": "code",
   "execution_count": 856,
   "metadata": {},
   "outputs": [
    {
     "output_type": "execute_result",
     "data": {
      "text/plain": "   duration  credit_amount  savings  installment_rate   age  existing_credits  \\\n0         6         1169.0        0               4.0  67.0               2.0   \n1        48         5951.0        1               2.0  22.0               1.0   \n2        12         2096.0        1               2.0  49.0               1.0   \n3        42         7882.0        1               2.0  45.0               1.0   \n4        24         4870.0        1               3.0  53.0               2.0   \n\n   dependents  customer_type  checking_account_status_A11  \\\n0           1              1                            1   \n1           1              2                            0   \n2           2              1                            0   \n3           2              1                            1   \n4           2              2                            1   \n\n   checking_account_status_A12  ...  housing_A153  other_debtors_A101  \\\n0                            0  ...             0                   1   \n1                            1  ...             0                   1   \n2                            0  ...             0                   1   \n3                            0  ...             1                   0   \n4                            0  ...             1                   1   \n\n   other_debtors_A102  other_debtors_A103  job_A171  job_A172  job_A173  \\\n0                   0                   0         0         0         1   \n1                   0                   0         0         0         1   \n2                   0                   0         0         1         0   \n3                   0                   1         0         0         1   \n4                   0                   0         0         0         1   \n\n   job_A174  foreign_worker_A201  foreign_worker_A202  \n0         0                    1                    0  \n1         0                    1                    0  \n2         0                    1                    0  \n3         0                    1                    0  \n4         0                    1                    0  \n\n[5 rows x 48 columns]",
      "text/html": "<div>\n<style scoped>\n    .dataframe tbody tr th:only-of-type {\n        vertical-align: middle;\n    }\n\n    .dataframe tbody tr th {\n        vertical-align: top;\n    }\n\n    .dataframe thead th {\n        text-align: right;\n    }\n</style>\n<table border=\"1\" class=\"dataframe\">\n  <thead>\n    <tr style=\"text-align: right;\">\n      <th></th>\n      <th>duration</th>\n      <th>credit_amount</th>\n      <th>savings</th>\n      <th>installment_rate</th>\n      <th>age</th>\n      <th>existing_credits</th>\n      <th>dependents</th>\n      <th>customer_type</th>\n      <th>checking_account_status_A11</th>\n      <th>checking_account_status_A12</th>\n      <th>...</th>\n      <th>housing_A153</th>\n      <th>other_debtors_A101</th>\n      <th>other_debtors_A102</th>\n      <th>other_debtors_A103</th>\n      <th>job_A171</th>\n      <th>job_A172</th>\n      <th>job_A173</th>\n      <th>job_A174</th>\n      <th>foreign_worker_A201</th>\n      <th>foreign_worker_A202</th>\n    </tr>\n  </thead>\n  <tbody>\n    <tr>\n      <th>0</th>\n      <td>6</td>\n      <td>1169.0</td>\n      <td>0</td>\n      <td>4.0</td>\n      <td>67.0</td>\n      <td>2.0</td>\n      <td>1</td>\n      <td>1</td>\n      <td>1</td>\n      <td>0</td>\n      <td>...</td>\n      <td>0</td>\n      <td>1</td>\n      <td>0</td>\n      <td>0</td>\n      <td>0</td>\n      <td>0</td>\n      <td>1</td>\n      <td>0</td>\n      <td>1</td>\n      <td>0</td>\n    </tr>\n    <tr>\n      <th>1</th>\n      <td>48</td>\n      <td>5951.0</td>\n      <td>1</td>\n      <td>2.0</td>\n      <td>22.0</td>\n      <td>1.0</td>\n      <td>1</td>\n      <td>2</td>\n      <td>0</td>\n      <td>1</td>\n      <td>...</td>\n      <td>0</td>\n      <td>1</td>\n      <td>0</td>\n      <td>0</td>\n      <td>0</td>\n      <td>0</td>\n      <td>1</td>\n      <td>0</td>\n      <td>1</td>\n      <td>0</td>\n    </tr>\n    <tr>\n      <th>2</th>\n      <td>12</td>\n      <td>2096.0</td>\n      <td>1</td>\n      <td>2.0</td>\n      <td>49.0</td>\n      <td>1.0</td>\n      <td>2</td>\n      <td>1</td>\n      <td>0</td>\n      <td>0</td>\n      <td>...</td>\n      <td>0</td>\n      <td>1</td>\n      <td>0</td>\n      <td>0</td>\n      <td>0</td>\n      <td>1</td>\n      <td>0</td>\n      <td>0</td>\n      <td>1</td>\n      <td>0</td>\n    </tr>\n    <tr>\n      <th>3</th>\n      <td>42</td>\n      <td>7882.0</td>\n      <td>1</td>\n      <td>2.0</td>\n      <td>45.0</td>\n      <td>1.0</td>\n      <td>2</td>\n      <td>1</td>\n      <td>1</td>\n      <td>0</td>\n      <td>...</td>\n      <td>1</td>\n      <td>0</td>\n      <td>0</td>\n      <td>1</td>\n      <td>0</td>\n      <td>0</td>\n      <td>1</td>\n      <td>0</td>\n      <td>1</td>\n      <td>0</td>\n    </tr>\n    <tr>\n      <th>4</th>\n      <td>24</td>\n      <td>4870.0</td>\n      <td>1</td>\n      <td>3.0</td>\n      <td>53.0</td>\n      <td>2.0</td>\n      <td>2</td>\n      <td>2</td>\n      <td>1</td>\n      <td>0</td>\n      <td>...</td>\n      <td>1</td>\n      <td>1</td>\n      <td>0</td>\n      <td>0</td>\n      <td>0</td>\n      <td>0</td>\n      <td>1</td>\n      <td>0</td>\n      <td>1</td>\n      <td>0</td>\n    </tr>\n  </tbody>\n</table>\n<p>5 rows × 48 columns</p>\n</div>"
     },
     "metadata": {},
     "execution_count": 856
    }
   ],
   "source": [
    "data = pd.get_dummies(data, columns =['checking_account_status', 'credit_history', 'purpose', 'present_employment', 'property', 'housing', 'other_debtors', 'job', 'foreign_worker'])\n",
    "\n",
    "data.head()"
   ]
  },
  {
   "cell_type": "markdown",
   "metadata": {},
   "source": [
    "## Rechecking for nulls "
   ]
  },
  {
   "cell_type": "code",
   "execution_count": 857,
   "metadata": {
    "tags": []
   },
   "outputs": [
    {
     "output_type": "stream",
     "name": "stdout",
     "text": "<class 'pandas.core.frame.DataFrame'>\nRangeIndex: 1000 entries, 0 to 999\nData columns (total 48 columns):\n #   Column                       Non-Null Count  Dtype  \n---  ------                       --------------  -----  \n 0   duration                     1000 non-null   int64  \n 1   credit_amount                1000 non-null   float64\n 2   savings                      1000 non-null   int64  \n 3   installment_rate             1000 non-null   float64\n 4   age                          1000 non-null   float64\n 5   existing_credits             1000 non-null   float64\n 6   dependents                   1000 non-null   int64  \n 7   customer_type                1000 non-null   int64  \n 8   checking_account_status_A11  1000 non-null   uint8  \n 9   checking_account_status_A12  1000 non-null   uint8  \n 10  checking_account_status_A13  1000 non-null   uint8  \n 11  checking_account_status_A14  1000 non-null   uint8  \n 12  credit_history_A30           1000 non-null   uint8  \n 13  credit_history_A31           1000 non-null   uint8  \n 14  credit_history_A32           1000 non-null   uint8  \n 15  credit_history_A33           1000 non-null   uint8  \n 16  credit_history_A34           1000 non-null   uint8  \n 17  purpose_A40                  1000 non-null   uint8  \n 18  purpose_A41                  1000 non-null   uint8  \n 19  purpose_A410                 1000 non-null   uint8  \n 20  purpose_A42                  1000 non-null   uint8  \n 21  purpose_A43                  1000 non-null   uint8  \n 22  purpose_A44                  1000 non-null   uint8  \n 23  purpose_A45                  1000 non-null   uint8  \n 24  purpose_A46                  1000 non-null   uint8  \n 25  purpose_A48                  1000 non-null   uint8  \n 26  purpose_A49                  1000 non-null   uint8  \n 27  present_employment_A71       1000 non-null   uint8  \n 28  present_employment_A72       1000 non-null   uint8  \n 29  present_employment_A73       1000 non-null   uint8  \n 30  present_employment_A74       1000 non-null   uint8  \n 31  present_employment_A75       1000 non-null   uint8  \n 32  property_A121                1000 non-null   uint8  \n 33  property_A122                1000 non-null   uint8  \n 34  property_A123                1000 non-null   uint8  \n 35  property_A124                1000 non-null   uint8  \n 36  housing_A151                 1000 non-null   uint8  \n 37  housing_A152                 1000 non-null   uint8  \n 38  housing_A153                 1000 non-null   uint8  \n 39  other_debtors_A101           1000 non-null   uint8  \n 40  other_debtors_A102           1000 non-null   uint8  \n 41  other_debtors_A103           1000 non-null   uint8  \n 42  job_A171                     1000 non-null   uint8  \n 43  job_A172                     1000 non-null   uint8  \n 44  job_A173                     1000 non-null   uint8  \n 45  job_A174                     1000 non-null   uint8  \n 46  foreign_worker_A201          1000 non-null   uint8  \n 47  foreign_worker_A202          1000 non-null   uint8  \ndtypes: float64(4), int64(4), uint8(40)\nmemory usage: 101.7 KB\n"
    }
   ],
   "source": [
    "data.info()"
   ]
  },
  {
   "cell_type": "code",
   "execution_count": null,
   "metadata": {},
   "outputs": [],
   "source": [
    "### Logistic Regression Classifier"
   ]
  },
  {
   "cell_type": "code",
   "execution_count": 858,
   "metadata": {},
   "outputs": [],
   "source": [
    "def logistic_classifier(x_train, y_train):\n",
    "    print(\"Logistic Regression Classifier:\")\n",
    "    lg_classifier = LogisticRegression(penalty='l2', solver='liblinear')\n",
    "    lg_classifier.fit(x_train, y_train)\n",
    "    return lg_classifier"
   ]
  },
  {
   "cell_type": "markdown",
   "metadata": {},
   "source": [
    "### Naive Baye's Classifier"
   ]
  },
  {
   "cell_type": "code",
   "execution_count": 859,
   "metadata": {},
   "outputs": [],
   "source": [
    "def naive_bayes_classifier(x_train, y_train):\n",
    "    print(\"Naive Bayes Classifier:\")\n",
    "    nb_classifier = GaussianNB()\n",
    "    nb_classifier.fit(x_train, y_train)\n",
    "    return nb_classifier"
   ]
  },
  {
   "cell_type": "markdown",
   "metadata": {},
   "source": [
    "### K-nearest-neighbors Classifier"
   ]
  },
  {
   "cell_type": "code",
   "execution_count": 860,
   "metadata": {},
   "outputs": [],
   "source": [
    "def k_nearest_neighbor_classifier(x_train, y_train):\n",
    "    print(\"K Nearest Neighbor Classifier:\")\n",
    "    kn_classifier = KNeighborsClassifier(n_neighbors=10)\n",
    "    kn_classifier.fit(x_train, y_train)\n",
    "    return kn_classifier"
   ]
  },
  {
   "cell_type": "markdown",
   "metadata": {},
   "source": [
    "### Support Vector Classifier"
   ]
  },
  {
   "cell_type": "code",
   "execution_count": 861,
   "metadata": {},
   "outputs": [],
   "source": [
    "def svc_classifier(x_train, y_train):\n",
    "    print(\"Support Vector Classifier:\")\n",
    "    svc_classifier = SVC(kernel='rbf', gamma ='scale')\n",
    "    svc_classifier.fit(x_train, y_train)\n",
    "    return svc_classifier"
   ]
  },
  {
   "cell_type": "markdown",
   "metadata": {},
   "source": [
    "### MLP Neural Network Classifier"
   ]
  },
  {
   "cell_type": "code",
   "execution_count": 862,
   "metadata": {},
   "outputs": [],
   "source": [
    "def mlp_classifier(x_train, y_train):\n",
    "    mlp_classifier = MLPClassifier(activation='logistic', hidden_layer_sizes=(12, 12, 12, 12), solver='lbfgs', verbose=True, max_iter=100000)\n",
    "    mlp_classifier.fit(x_train, y_train)\n",
    "    return mlp_classifier"
   ]
  },
  {
   "cell_type": "markdown",
   "metadata": {},
   "source": [
    "### Decision Tree Classifier"
   ]
  },
  {
   "cell_type": "code",
   "execution_count": 863,
   "metadata": {},
   "outputs": [],
   "source": [
    "def decision_tree_classifer(x_train, y_train):\n",
    "    dt_classifier = DecisionTreeClassifier(max_depth=6)\n",
    "    dt_classifier.fit(x_train, y_train)\n",
    "    return dt_classifier"
   ]
  },
  {
   "cell_type": "markdown",
   "metadata": {},
   "source": [
    "### Train-Test Split and Standard Scaler\n",
    "\n",
    "Defining the X and Y variables and splitting the data 80% training and 20% test, shuffling the data"
   ]
  },
  {
   "cell_type": "code",
   "execution_count": 864,
   "metadata": {},
   "outputs": [],
   "source": [
    "X = data.drop('customer_type', axis= 1)\n",
    "Y = data['customer_type']\n",
    "x_train, x_test, y_train, y_test = train_test_split(X, Y, test_size = 0.2, shuffle=True, random_state = 0)"
   ]
  },
  {
   "cell_type": "markdown",
   "metadata": {},
   "source": [
    "### Build, Train, test and evaluate model \n",
    " For our evaluations We not only measured the accuracy but also displayed the confusion matrix which evaluates the performance of each classification. From the confusion matrix we can derive the Precision (ratio of True positive(TP)/(TP + FP(False Positive))) , Recall(ratio of TP/TP + FN (False Negative)) and f1 - scores(where weighted average of the precision and recall, where an F1 score reaches its best value at 1 and worst score at 0. f1 = 2 * (precision * recall) / (precision + recall))."
   ]
  },
  {
   "cell_type": "code",
   "execution_count": 865,
   "metadata": {},
   "outputs": [],
   "source": [
    "def build_and_train_model(data, target_name, class_fn):\n",
    "    model = class_fn(x_train, y_train)\n",
    "    score = model.score(x_train, y_train)\n",
    "    print(\"Training Score : \", score)\n",
    "\n",
    "    y_pred = model.predict(x_test)\n",
    "\n",
    "    accuracy = accuracy_score(y_test, y_pred)\n",
    "    print(\"Testing Score: \", accuracy)\n",
    "   \n",
    "\n",
    "    Confusion_Matrix = confusion_matrix(y_test, y_pred)\n",
    "    Classification_report = classification_report(y_test, y_pred)\n",
    "\n",
    "    df_y = pd.DataFrame({'y_test' : y_test, 'y_pred' : y_pred})\n",
    "    print(df_y.sample(10))\n",
    "\n",
    "    return {'model': model,\n",
    "            'x_train' : x_train, 'x_test' : x_test,\n",
    "            'y_train' : y_train, 'y_test' : y_test, \n",
    "            'y_pred' : y_pred, 'sample' : df_y.sample(10), 'Confusion Matrix' : print(' \\n Confusion_matrix : \\n', Confusion_Matrix),\n",
    "            'Classification Report' : print('\\n Classification Report : \\n', Classification_report) \n",
    "            }\n",
    "\n"
   ]
  },
  {
   "cell_type": "markdown",
   "metadata": {},
   "source": [
    "Utilizing the build and train model function to predict classification (male or female), score and generate classification report for eeach model on the data. 3 inputs as needed: data file, value to predict(label), and the type of model below. Results in order Training score, Testing/accuracy, precision, recall and f1- score to evaluate the classification accuracy and the Y_test: actual values and Y_pred = predicted values. "
   ]
  },
  {
   "cell_type": "code",
   "execution_count": 866,
   "metadata": {
    "tags": []
   },
   "outputs": [
    {
     "output_type": "stream",
     "name": "stdout",
     "text": "Logistic Regression Classifier:\nTraining Score :  0.77875\nTesting Score:  0.745\n     y_test  y_pred\n939       1       1\n299       1       1\n706       2       2\n298       1       1\n923       1       1\n145       1       2\n175       2       1\n45        1       1\n319       1       1\n141       1       2\n \n Confusion_matrix : \n [[121  21]\n [ 30  28]]\n\n Classification Report : \n               precision    recall  f1-score   support\n\n           1       0.80      0.85      0.83       142\n           2       0.57      0.48      0.52        58\n\n    accuracy                           0.74       200\n   macro avg       0.69      0.67      0.67       200\nweighted avg       0.73      0.74      0.74       200\n\n"
    }
   ],
   "source": [
    "Logistic_classifier = build_and_train_model(data, 'customer_type', logistic_classifier)"
   ]
  },
  {
   "cell_type": "code",
   "execution_count": 867,
   "metadata": {
    "tags": []
   },
   "outputs": [
    {
     "output_type": "stream",
     "name": "stdout",
     "text": "Naive Bayes Classifier:\nTraining Score :  0.7625\nTesting Score:  0.695\n     y_test  y_pred\n615       1       2\n65        1       1\n643       1       1\n236       2       2\n636       1       1\n939       1       1\n372       1       1\n927       2       2\n736       2       2\n34        1       1\n \n Confusion_matrix : \n [[107  35]\n [ 26  32]]\n\n Classification Report : \n               precision    recall  f1-score   support\n\n           1       0.80      0.75      0.78       142\n           2       0.48      0.55      0.51        58\n\n    accuracy                           0.69       200\n   macro avg       0.64      0.65      0.65       200\nweighted avg       0.71      0.69      0.70       200\n\n"
    }
   ],
   "source": [
    "Naive_bayes_classifier = build_and_train_model(data, 'customer_type', naive_bayes_classifier)"
   ]
  },
  {
   "cell_type": "code",
   "execution_count": 868,
   "metadata": {
    "tags": []
   },
   "outputs": [
    {
     "output_type": "stream",
     "name": "stdout",
     "text": "K Nearest Neighbor Classifier:\nTraining Score :  0.72875\nTesting Score:  0.7\n     y_test  y_pred\n367       1       1\n736       2       2\n386       1       1\n873       1       1\n315       2       1\n267       1       1\n785       1       1\n996       1       1\n832       2       2\n298       1       1\n \n Confusion_matrix : \n [[133   9]\n [ 51   7]]\n\n Classification Report : \n               precision    recall  f1-score   support\n\n           1       0.72      0.94      0.82       142\n           2       0.44      0.12      0.19        58\n\n    accuracy                           0.70       200\n   macro avg       0.58      0.53      0.50       200\nweighted avg       0.64      0.70      0.63       200\n\n"
    }
   ],
   "source": [
    "k_nearest_neighbor_classifier = build_and_train_model(data, 'customer_type', k_nearest_neighbor_classifier)"
   ]
  },
  {
   "cell_type": "code",
   "execution_count": 869,
   "metadata": {
    "tags": []
   },
   "outputs": [
    {
     "output_type": "stream",
     "name": "stdout",
     "text": "Support Vector Classifier:\nTraining Score :  0.71\nTesting Score:  0.715\n     y_test  y_pred\n780       2       1\n576       1       1\n231       1       1\n529       1       1\n466       2       1\n122       1       1\n601       2       1\n214       1       1\n267       1       1\n458       1       1\n \n Confusion_matrix : \n [[139   3]\n [ 54   4]]\n\n Classification Report : \n               precision    recall  f1-score   support\n\n           1       0.72      0.98      0.83       142\n           2       0.57      0.07      0.12        58\n\n    accuracy                           0.71       200\n   macro avg       0.65      0.52      0.48       200\nweighted avg       0.68      0.71      0.62       200\n\n"
    }
   ],
   "source": [
    "support_vector_classifier = build_and_train_model(data, 'customer_type', svc_classifier)"
   ]
  },
  {
   "cell_type": "code",
   "execution_count": 870,
   "metadata": {
    "tags": []
   },
   "outputs": [
    {
     "output_type": "stream",
     "name": "stdout",
     "text": "Training Score :  0.76\nTesting Score:  0.725\n     y_test  y_pred\n481       1       2\n832       2       2\n236       2       2\n264       1       1\n760       1       1\n909       1       1\n458       1       1\n316       1       1\n864       2       1\n666       1       2\n \n Confusion_matrix : \n [[109  33]\n [ 22  36]]\n\n Classification Report : \n               precision    recall  f1-score   support\n\n           1       0.83      0.77      0.80       142\n           2       0.52      0.62      0.57        58\n\n    accuracy                           0.73       200\n   macro avg       0.68      0.69      0.68       200\nweighted avg       0.74      0.72      0.73       200\n\n"
    }
   ],
   "source": [
    "mlp_classifier = build_and_train_model(data, 'customer_type', mlp_classifier)"
   ]
  },
  {
   "cell_type": "code",
   "execution_count": 873,
   "metadata": {
    "tags": []
   },
   "outputs": [
    {
     "output_type": "stream",
     "name": "stdout",
     "text": "Training Score :  0.80875\nTesting Score:  0.67\n     y_test  y_pred\n367       1       2\n492       1       1\n740       1       2\n214       1       1\n142       1       2\n767       1       1\n654       1       1\n644       1       2\n790       2       1\n489       1       1\n \n Confusion_matrix : \n [[109  33]\n [ 33  25]]\n\n Classification Report : \n               precision    recall  f1-score   support\n\n           1       0.77      0.77      0.77       142\n           2       0.43      0.43      0.43        58\n\n    accuracy                           0.67       200\n   macro avg       0.60      0.60      0.60       200\nweighted avg       0.67      0.67      0.67       200\n\n"
    }
   ],
   "source": [
    "decision_tree_classifier_model = build_and_train_model(data, 'customer_type', decision_tree_classifer)"
   ]
  },
  {
   "cell_type": "markdown",
   "metadata": {},
   "source": [
    "### Split the training data further into 2 parts to test warm_start"
   ]
  },
  {
   "cell_type": "code",
   "execution_count": 874,
   "metadata": {},
   "outputs": [],
   "source": [
    "x_train_1, x_train_2, y_train_1, y_train_2 = train_test_split(x_train, y_train, test_size=0.5)"
   ]
  },
  {
   "cell_type": "code",
   "execution_count": 875,
   "metadata": {},
   "outputs": [],
   "source": [
    "random_classifier_model = RandomForestClassifier(max_depth=4, n_estimators=2, warm_start=True)"
   ]
  },
  {
   "cell_type": "code",
   "execution_count": 876,
   "metadata": {
    "tags": []
   },
   "outputs": [
    {
     "output_type": "stream",
     "name": "stdout",
     "text": "Testing Score :  0.67\n\n Confusion_matrix : \n [[128  14]\n [ 52   6]]\n\n Classification Report : \n               precision    recall  f1-score   support\n\n           1       0.71      0.90      0.80       142\n           2       0.30      0.10      0.15        58\n\n    accuracy                           0.67       200\n   macro avg       0.51      0.50      0.47       200\nweighted avg       0.59      0.67      0.61       200\n\n"
    }
   ],
   "source": [
    "random_classifier_model.fit(x_train_1, y_train_1)\n",
    "y_pred = random_classifier_model.predict(x_test)\n",
    "test_score = accuracy = accuracy_score(y_test, y_pred)\n",
    "Confusion_Matrix = confusion_matrix(y_test, y_pred)\n",
    "Classification_report = classification_report(y_test, y_pred)\n",
    "print(\"Testing Score : \", test_score)\n",
    "print('\\n Confusion_matrix : \\n', Confusion_Matrix)\n",
    "print('\\n Classification Report : \\n', Classification_report)"
   ]
  },
  {
   "cell_type": "code",
   "execution_count": 877,
   "metadata": {
    "tags": []
   },
   "outputs": [
    {
     "output_type": "stream",
     "name": "stdout",
     "text": "Testing Score :  0.71\n\n Confusion_matrix : \n [[128  14]\n [ 52   6]]\n\n Classification Report : \n               precision    recall  f1-score   support\n\n           1       0.71      0.90      0.80       142\n           2       0.30      0.10      0.15        58\n\n    accuracy                           0.67       200\n   macro avg       0.51      0.50      0.47       200\nweighted avg       0.59      0.67      0.61       200\n\n"
    }
   ],
   "source": [
    "random_classifier_model.n_estimators += 2\n",
    "random_classifier_model.fit(x_train_2, y_train_2)\n",
    "y_pred = random_classifier_model.predict(x_test)\n",
    "test_score = accuracy = accuracy_score(y_test, y_pred)\n",
    "print(\"Testing Score : \", test_score)\n",
    "print('\\n Confusion_matrix : \\n', Confusion_Matrix)\n",
    "print('\\n Classification Report : \\n', Classification_report)"
   ]
  }
 ]
}