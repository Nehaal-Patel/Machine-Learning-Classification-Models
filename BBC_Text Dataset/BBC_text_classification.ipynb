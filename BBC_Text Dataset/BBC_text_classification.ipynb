{
 "metadata": {
  "language_info": {
   "codemirror_mode": {
    "name": "ipython",
    "version": 3
   },
   "file_extension": ".py",
   "mimetype": "text/x-python",
   "name": "python",
   "nbconvert_exporter": "python",
   "pygments_lexer": "ipython3",
   "version": "3.8.5-final"
  },
  "orig_nbformat": 2,
  "kernelspec": {
   "name": "python_defaultSpec_1600660338712",
   "display_name": "Python 3.8.5 64-bit"
  }
 },
 "nbformat": 4,
 "nbformat_minor": 2,
 "cells": [
  {
   "cell_type": "markdown",
   "metadata": {},
   "source": [
    "## BBC Text Dataset\n",
    "Source : https://www.kaggle.com/yufengdev/bbc-fulltext-and-category/downloads/bbc-text.csv\n",
    "\n",
    "category: One of 5 categories\n",
    "\n",
    "text: The title and body of the article, concatenated."
   ]
  },
  {
   "cell_type": "markdown",
   "metadata": {},
   "source": [
    "### Importing libraries"
   ]
  },
  {
   "cell_type": "code",
   "execution_count": 167,
   "metadata": {},
   "outputs": [],
   "source": [
    "import pandas as pd\n",
    "import numpy as np \n",
    "import matplotlib.pyplot as plt \n",
    "from sklearn.feature_extraction.text import TfidfVectorizer\n",
    "from sklearn.model_selection import train_test_split\n",
    "from sklearn.tree import DecisionTreeClassifier\n",
    "from sklearn.svm import LinearSVC\n",
    "from sklearn.neural_network import MLPClassifier\n",
    "from sklearn.metrics import accuracy_score"
   ]
  },
  {
   "cell_type": "markdown",
   "metadata": {},
   "source": [
    "### Importing the file"
   ]
  },
  {
   "cell_type": "code",
   "execution_count": 168,
   "metadata": {},
   "outputs": [
    {
     "output_type": "execute_result",
     "data": {
      "text/plain": "        category                                               text\n0           tech  tv future in the hands of viewers with home th...\n1       business  worldcom boss  left books alone  former worldc...\n2          sport  tigers wary of farrell  gamble  leicester say ...\n3          sport  yeading face newcastle in fa cup premiership s...\n4  entertainment  ocean s twelve raids box office ocean s twelve...",
      "text/html": "<div>\n<style scoped>\n    .dataframe tbody tr th:only-of-type {\n        vertical-align: middle;\n    }\n\n    .dataframe tbody tr th {\n        vertical-align: top;\n    }\n\n    .dataframe thead th {\n        text-align: right;\n    }\n</style>\n<table border=\"1\" class=\"dataframe\">\n  <thead>\n    <tr style=\"text-align: right;\">\n      <th></th>\n      <th>category</th>\n      <th>text</th>\n    </tr>\n  </thead>\n  <tbody>\n    <tr>\n      <th>0</th>\n      <td>tech</td>\n      <td>tv future in the hands of viewers with home th...</td>\n    </tr>\n    <tr>\n      <th>1</th>\n      <td>business</td>\n      <td>worldcom boss  left books alone  former worldc...</td>\n    </tr>\n    <tr>\n      <th>2</th>\n      <td>sport</td>\n      <td>tigers wary of farrell  gamble  leicester say ...</td>\n    </tr>\n    <tr>\n      <th>3</th>\n      <td>sport</td>\n      <td>yeading face newcastle in fa cup premiership s...</td>\n    </tr>\n    <tr>\n      <th>4</th>\n      <td>entertainment</td>\n      <td>ocean s twelve raids box office ocean s twelve...</td>\n    </tr>\n  </tbody>\n</table>\n</div>"
     },
     "metadata": {},
     "execution_count": 168
    }
   ],
   "source": [
    "data = pd.read_csv('bbc-text.csv')\n",
    "data.head()"
   ]
  },
  {
   "cell_type": "markdown",
   "metadata": {},
   "source": [
    "### Setting data keys "
   ]
  },
  {
   "cell_type": "code",
   "execution_count": 169,
   "metadata": {},
   "outputs": [
    {
     "output_type": "execute_result",
     "data": {
      "text/plain": "Index(['category', 'text'], dtype='object')"
     },
     "metadata": {},
     "execution_count": 169
    }
   ],
   "source": [
    "data.keys()"
   ]
  },
  {
   "cell_type": "markdown",
   "metadata": {},
   "source": [
    "### Finding unique news categories "
   ]
  },
  {
   "cell_type": "code",
   "execution_count": 170,
   "metadata": {},
   "outputs": [
    {
     "output_type": "execute_result",
     "data": {
      "text/plain": "array(['tech', 'business', 'sport', 'entertainment', 'politics'],\n      dtype=object)"
     },
     "metadata": {},
     "execution_count": 170
    }
   ],
   "source": [
    "data.category.unique()"
   ]
  },
  {
   "cell_type": "markdown",
   "metadata": {},
   "source": [
    "### Finding the count of each unique type of article"
   ]
  },
  {
   "cell_type": "code",
   "execution_count": 171,
   "metadata": {},
   "outputs": [
    {
     "output_type": "execute_result",
     "data": {
      "text/plain": "sport            511\nbusiness         510\npolitics         417\ntech             401\nentertainment    386\nName: category, dtype: int64"
     },
     "metadata": {},
     "execution_count": 171
    }
   ],
   "source": [
    "data['category'].value_counts()"
   ]
  },
  {
   "cell_type": "markdown",
   "metadata": {},
   "source": [
    "### Shape of the data"
   ]
  },
  {
   "cell_type": "code",
   "execution_count": 172,
   "metadata": {},
   "outputs": [
    {
     "output_type": "execute_result",
     "data": {
      "text/plain": "(2225, 2)"
     },
     "metadata": {},
     "execution_count": 172
    }
   ],
   "source": [
    "data.shape"
   ]
  },
  {
   "cell_type": "markdown",
   "metadata": {},
   "source": [
    "### Checking for Null"
   ]
  },
  {
   "cell_type": "code",
   "execution_count": 173,
   "metadata": {
    "tags": []
   },
   "outputs": [
    {
     "output_type": "stream",
     "name": "stdout",
     "text": "<class 'pandas.core.frame.DataFrame'>\nRangeIndex: 2225 entries, 0 to 2224\nData columns (total 2 columns):\n #   Column    Non-Null Count  Dtype \n---  ------    --------------  ----- \n 0   category  2225 non-null   object\n 1   text      2225 non-null   object\ndtypes: object(2)\nmemory usage: 34.9+ KB\n"
    }
   ],
   "source": [
    "data.info()"
   ]
  },
  {
   "cell_type": "markdown",
   "metadata": {},
   "source": [
    "### Display sample text article"
   ]
  },
  {
   "cell_type": "code",
   "execution_count": 174,
   "metadata": {},
   "outputs": [
    {
     "output_type": "execute_result",
     "data": {
      "text/plain": "'s korean credit card firm rescued south korea s largest credit card firm has averted liquidation following a one trillion won ($960m; £499m) bail-out.  lg card had been threatened with collapse because of its huge debts but the firm s creditors and its former parent have stepped in to rescue it. a consortium of creditors and lg group  a family owned conglomerate  have each put up $480m to stabilise the firm. lg card has seven million customers and its collapse would have sent shockwaves through the country s economy.  the firm s creditors - which own 99% of lg card - have been trying to agree a deal to secure its future for several weeks. they took control of the company in january when it avoided bankruptcy only through a $4.5bn bail-out.  they had threatened to delist the company  a move which would have triggered massive debt redemptions and forced the company into bankruptcy  unless agreement was reached on its future funding.  lg card will not need any more financial aid after this   laah chong-gyu  executive director of korea development bank - one of the firm s creditors - said.  the agreement will see some 12 trillion won of debt converted into equity.  the purpose of the capital injection is to avoid delisting and the goal will be met   david kim  an analyst at sejong securities  told reuters. south korea s consumer credit market has been slowly recovering from a crisis in 2002 when a credit bubble burst and millions of consumers fell behind on their debt repayments. lg card returned to profit in september but needed further capital to avoid being thrown off the market. south korea s stock exchange can delist any firm if its debt exceeds its assets two years running.'"
     },
     "metadata": {},
     "execution_count": 174
    }
   ],
   "source": [
    "data['text'][15]"
   ]
  },
  {
   "cell_type": "markdown",
   "metadata": {},
   "source": [
    "### Transforming the text data into numerical from by using term frequency–inverse document frequency (tfidf vectorizer)\n",
    "Tfidf vectorizer determines the importance of word in an document. Higher value placed on common word in document, and lower value for common word in corpus"
   ]
  },
  {
   "cell_type": "code",
   "execution_count": 175,
   "metadata": {},
   "outputs": [
    {
     "output_type": "execute_result",
     "data": {
      "text/plain": "{'tv': 27047,\n 'future': 11392,\n 'hands': 12454,\n 'viewers': 27928,\n 'home': 13065,\n 'theatre': 26238,\n 'systems': 25786,\n 'plasma': 19954,\n 'high': 12887,\n 'definition': 7800,\n 'tvs': 27050,\n 'digital': 8268,\n 'video': 27911,\n 'recorders': 21495,\n 'moving': 17681,\n 'living': 15952,\n 'room': 22583,\n 'way': 28308,\n 'people': 19550,\n 'watch': 28276,\n 'radically': 21123,\n 'different': 8252,\n 'years': 28971,\n 'time': 26419,\n 'according': 1648,\n 'expert': 10127,\n 'panel': 19194,\n 'gathered': 11541,\n 'annual': 2503,\n 'consumer': 6705,\n 'electronics': 9342,\n 'las': 15428,\n 'vegas': 27796,\n 'discuss': 8440,\n 'new': 18118,\n 'technologies': 26024,\n 'impact': 13580,\n 'favourite': 10445,\n 'pastimes': 19354,\n 'leading': 15527,\n 'trend': 26833,\n 'programmes': 20651,\n 'content': 6737,\n 'delivered': 7865,\n 'networks': 18100,\n 'cable': 4951,\n 'satellite': 22976,\n 'telecoms': 26059,\n 'companies': 6332,\n 'broadband': 4614,\n 'service': 23520,\n 'providers': 20797,\n 'rooms': 22584,\n 'portable': 20187,\n 'devices': 8167,\n 'talked': 25857,\n 'ces': 5462,\n 'personal': 19641,\n 'dvr': 9074,\n 'pvr': 20959,\n 'set': 23527,\n 'boxes': 4409,\n 'like': 15812,\n 'tivo': 26478,\n 'uk': 27121,\n 'sky': 24117,\n 'allow': 2211,\n 'record': 21491,\n 'store': 25126,\n 'play': 19971,\n 'pause': 19404,\n 'forward': 11100,\n 'wind': 28599,\n 'want': 28201,\n 'essentially': 9839,\n 'technology': 26026,\n 'allows': 2217,\n 'personalised': 19644,\n 'built': 4775,\n 'sets': 23533,\n 'big': 3913,\n 'business': 4883,\n 'japan': 14532,\n 'slower': 24216,\n 'europe': 9896,\n 'lack': 15300,\n 'programming': 20652,\n 'adverts': 1889,\n 'forget': 11053,\n 'abiding': 1532,\n 'network': 18097,\n 'channel': 5539,\n 'schedules': 23108,\n 'putting': 20954,\n 'la': 15283,\n 'carte': 5248,\n 'entertainment': 9669,\n 'worried': 28803,\n 'means': 16895,\n 'terms': 26149,\n 'advertising': 1888,\n 'revenues': 22231,\n 'brand': 4461,\n 'identity': 13447,\n 'viewer': 27927,\n 'loyalty': 16141,\n 'channels': 5541,\n 'leads': 15529,\n 'moment': 17493,\n 'concern': 6462,\n 'raised': 21180,\n 'particularly': 19303,\n 'growing': 12207,\n 'uptake': 27619,\n 'services': 23521,\n 'happens': 12488,\n 'today': 26490,\n 'months': 17546,\n 'adam': 1750,\n 'hume': 13292,\n 'bbc': 3581,\n 'broadcast': 4616,\n 'futurologist': 11397,\n 'told': 26506,\n 'news': 18136,\n 'website': 28357,\n 'likes': 15822,\n 'issues': 14424,\n 'lost': 16100,\n 'revenue': 22230,\n 'pressing': 20454,\n 'issue': 14420,\n 'commercial': 6284,\n 'broadcasters': 4618,\n 'important': 13625,\n 'talking': 25859,\n 'brands': 4466,\n 'said': 22845,\n 'tim': 26416,\n 'hanlon': 12469,\n 'communications': 6320,\n 'firm': 10751,\n 'starcom': 24907,\n 'mediavest': 16927,\n 'reality': 21360,\n 'connections': 6594,\n 'anybody': 2559,\n 'producer': 20610,\n 'added': 1769,\n 'challenge': 5501,\n 'hard': 12503,\n 'promote': 20686,\n 'programme': 20647,\n 'choice': 5726,\n 'stacey': 24822,\n 'jolna': 14703,\n 'senior': 23441,\n 'vice': 27888,\n 'president': 20444,\n 'guide': 12252,\n 'group': 12200,\n 'simplified': 23990,\n 'leaf': 15531,\n 'google': 11960,\n 'book': 4276,\n 'search': 23296,\n 'engine': 9602,\n 'instead': 14057,\n 'scheduler': 23107,\n 'help': 12782,\n 'kind': 15076,\n 'model': 17434,\n 'work': 28772,\n 'younger': 29017,\n 'ipod': 14316,\n 'generation': 11620,\n 'used': 27651,\n 'taking': 25843,\n 'control': 6802,\n 'gadgets': 11414,\n 'suit': 25436,\n 'recognised': 21468,\n 'older': 18622,\n 'generations': 11621,\n 'comfortable': 6251,\n 'familiar': 10343,\n 'know': 15159,\n 'getting': 11700,\n 'mr': 17704,\n 'suggested': 25425,\n 'end': 9544,\n 'kids': 15046,\n 'just': 14827,\n 'diapers': 8209,\n 'pushing': 20949,\n 'buttons': 4909,\n 'possible': 20234,\n 'available': 3142,\n 'ultimately': 27132,\n 'tell': 26084,\n 'market': 16592,\n '50': 979,\n '000': 1,\n 'showcased': 23840,\n 'enhancing': 9617,\n 'watching': 28284,\n 'experience': 10118,\n 'models': 17437,\n 'lcd': 15514,\n 'liquid': 15895,\n 'crystal': 7301,\n 'display': 8519,\n 'launched': 15463,\n 'capability': 5111,\n 'external': 10202,\n 'example': 9995,\n 'humax': 13286,\n '26': 601,\n 'inch': 13708,\n '80': 1296,\n 'hour': 13207,\n 'dvd': 9071,\n 'recorder': 21494,\n 'biggest': 3915,\n 'directtv': 8346,\n 'branded': 4462,\n '100': 69,\n 'hours': 13209,\n 'recording': 21496,\n 'instant': 14051,\n 'replay': 21957,\n 'function': 11341,\n 'rewind': 22281,\n '90': 1389,\n 'microsoft': 17160,\n 'chief': 5684,\n 'gates': 11536,\n 'announced': 2492,\n 'pre': 20332,\n 'keynote': 15005,\n 'speech': 24614,\n 'partnership': 19315,\n 'called': 5002,\n 'tivotogo': 26480,\n 'recorded': 21493,\n 'windows': 28605,\n 'pcs': 19447,\n 'mobile': 17418,\n 'reflect': 21603,\n 'increasing': 13750,\n 'freeing': 11217,\n 'multimedia': 17760,\n 'worldcom': 28797,\n 'boss': 4345,\n 'left': 15593,\n 'books': 4287,\n 'bernie': 3827,\n 'ebbers': 9168,\n 'accused': 1678,\n 'overseeing': 19016,\n '11bn': 133,\n '8bn': 1382,\n 'fraud': 11190,\n 'accounting': 1658,\n 'decisions': 7693,\n 'witness': 28684,\n 'jurors': 14824,\n 'david': 7582,\n 'myers': 17844,\n 'comments': 6282,\n 'questioning': 21032,\n 'defence': 7769,\n 'lawyers': 15500,\n 'arguing': 2731,\n 'responsible': 22102,\n 'problems': 20584,\n 'phone': 19760,\n 'company': 6335,\n 'collapsed': 6168,\n '2002': 473,\n 'prosecutors': 20744,\n 'claim': 5867,\n 'losses': 16098,\n 'hidden': 12876,\n 'protect': 20758,\n 'shares': 23649,\n 'pleaded': 19994,\n 'guilty': 12266,\n 'assisting': 2927,\n 'monday': 17501,\n 'lawyer': 15499,\n 'reid': 21708,\n 'weingarten': 28390,\n 'tried': 26867,\n 'distance': 8561,\n 'client': 5977,\n 'allegations': 2183,\n 'cross': 7245,\n 'examination': 9990,\n 'asked': 2875,\n 'knew': 15138,\n 'make': 16380,\n 'decision': 7692,\n 'aware': 3183,\n 'replied': 21962,\n 'did': 8231,\n 'entry': 9697,\n 'pressed': 20452,\n 'admitted': 1832,\n 'ordered': 18770,\n 'false': 10333,\n 'entries': 9695,\n 'request': 22000,\n 'financial': 10677,\n 'officer': 18574,\n 'scott': 23202,\n 'sullivan': 25451,\n 'trying': 26965,\n 'paint': 19136,\n 'testify': 26178,\n 'later': 15441,\n 'trial': 26846,\n 'mastermind': 16687,\n 'house': 13210,\n 'cards': 5170,\n 'team': 26001,\n 'looking': 16062,\n 'portray': 20206,\n 'affable': 1918,\n 'admission': 1827,\n 'pe': 19454,\n 'graduate': 12031,\n 'economist': 9200,\n 'abilities': 1534,\n 'transformed': 26752,\n 'relative': 21772,\n 'unknown': 27418,\n '160bn': 254,\n 'giant': 11722,\n 'investor': 14277,\n 'darling': 7550,\n 'late': 15439,\n '1990s': 447,\n 'mounted': 17658,\n 'competition': 6366,\n 'increased': 13748,\n 'boom': 4291,\n 'petered': 19689,\n 'finally': 10672,\n 'shareholders': 23646,\n '180bn': 315,\n '20': 467,\n 'workers': 28776,\n 'jobs': 14661,\n 'expected': 10108,\n 'ceo': 5443,\n 'faces': 10257,\n 'substantial': 25357,\n 'jail': 14489,\n 'sentence': 23460,\n 'firmly': 10755,\n 'declared': 7706,\n 'innocence': 13974,\n 'tigers': 26403,\n 'wary': 28257,\n 'farrell': 10401,\n 'gamble': 11460,\n 'leicester': 15625,\n 'say': 23032,\n 'rushed': 22760,\n 'making': 16390,\n 'bid': 3905,\n 'andy': 2427,\n 'great': 12098,\n 'britain': 4594,\n 'rugby': 22713,\n 'league': 15534,\n 'captain': 5140,\n 'decide': 7684,\n 'switch': 25724,\n 'codes': 6120,\n 'involved': 14295,\n 'process': 20594,\n 'away': 3185,\n 'going': 11915,\n 'stage': 24832,\n 'john': 14677,\n 'wells': 28415,\n 'radio': 21127,\n 'lot': 16102,\n 'unknowns': 27419,\n 'medical': 16929,\n 'situation': 24064,\n 'does': 8696,\n 'persistent': 19635,\n 'knee': 15135,\n 'operation': 18710,\n 'weeks': 28376,\n 'ago': 1998,\n 'saracens': 22957,\n 'believed': 3722,\n 'head': 12656,\n 'list': 15907,\n 'union': 27395,\n 'clubs': 6050,\n 'interested': 14145,\n 'signing': 23951,\n 'decides': 7688,\n '15': 219,\n 'man': 16447,\n 'game': 11464,\n 'believes': 3724,\n 'better': 3864,\n 'playing': 19981,\n 'backs': 3262,\n 'initially': 13941,\n 'sure': 25555,\n 'step': 25008,\n 'centre': 5435,\n 'think': 26275,\n 'england': 9609,\n 'prefer': 20372,\n 'progress': 20654,\n 'position': 20219,\n 'row': 22657,\n 'use': 27649,\n 'skills': 24101,\n 'forwards': 11101,\n 'jury': 14825,\n 'divide': 8625,\n 'club': 6046,\n 'balance': 3327,\n 'struck': 25260,\n 'cost': 6981,\n 'option': 18752,\n 'bringing': 4586,\n 'ready': 21345,\n 'replacement': 21953,\n 'yeading': 28964,\n 'face': 10254,\n 'newcastle': 18123,\n 'fa': 10243,\n 'cup': 7353,\n 'premiership': 20399,\n 'united': 27404,\n 'trip': 26888,\n 'ryman': 22783,\n 'premier': 20395,\n 'leaders': 15525,\n 'round': 22632,\n 'arguably': 2727,\n 'highlight': 12899,\n 'draw': 8898,\n 'potential': 20262,\n 'money': 17506,\n 'spinner': 24666,\n 'non': 18287,\n 'beat': 3616,\n 'slough': 24206,\n 'second': 23329,\n 'conference': 6514,\n 'exeter': 10062,\n 'city': 5852,\n 'knocked': 15153,\n 'doncaster': 8755,\n 'saturday': 22992,\n 'travel': 26794,\n 'old': 18621,\n 'trafford': 26709,\n 'meet': 16942,\n 'holders': 13033,\n 'manchester': 16457,\n 'january': 14529,\n 'arsenal': 2804,\n 'drawn': 8904,\n 'stoke': 25100,\n 'chelsea': 5643,\n 'host': 13174,\n 'scunthorpe': 23267,\n 'hinckley': 12923,\n 'held': 12763,\n 'brentford': 4529,\n 'goalless': 11889,\n 'sunday': 25468,\n 'luton': 16210,\n 'win': 28597,\n 'martin': 16639,\n 'allen': 2191,\n 'griffin': 12152,\n 'park': 19263,\n 'number': 18410,\n 'teams': 26004,\n 'difficult': 8258,\n 'games': 11475,\n 'championship': 5516,\n 'sides': 23912,\n 'weekend': 28373,\n 'placed': 19920,\n 'everton': 9955,\n 'visit': 28011,\n 'plymouth': 20046,\n 'liverpool': 15946,\n 'burnley': 4857,\n 'palace': 19154,\n 'sunderland': 25470,\n 'fulham': 11330,\n 'carling': 5195,\n 'semi': 23417,\n 'finalists': 10671,\n 'watford': 28295,\n 'bolton': 4234,\n 'ipswich': 14321,\n 'aston': 2948,\n 'villa': 27948,\n 'sheffield': 23696,\n 'strugglers': 25268,\n 'norwich': 18330,\n 'blackburn': 4013,\n 'west': 28436,\n 'brom': 4646,\n 'ham': 12403,\n 'cardiff': 5167,\n 'preston': 20462,\n 'north': 18314,\n 'respectively': 22088,\n 'southampton': 24498,\n 'northampton': 18315,\n 'having': 12622,\n 'beaten': 3618,\n 'earlier': 9113,\n 'season': 23306,\n 'middlesbrough': 17168,\n 'swindon': 25717,\n 'notts': 18369,\n 'county': 7044,\n 'spurs': 24770,\n 'entertain': 9664,\n 'brighton': 4577,\n 'white': 28502,\n 'hart': 12564,\n 'lane': 15386,\n 'utd': 27668,\n 'blackpool': 4019,\n 'derby': 8023,\n 'wigan': 28549,\n 'wolves': 28724,\n 'millwall': 17236,\n 'hull': 13275,\n 'colchester': 6147,\n 'tottenham': 26618,\n 'reading': 21342,\n 'stockport': 25094,\n 'swansea': 25668,\n 'birmingham': 3974,\n 'leeds': 15590,\n 'hartlepool': 12565,\n 'boston': 4348,\n 'milton': 17240,\n 'keynes': 15004,\n 'dons': 8771,\n 'peterborough': 19687,\n 'oldham': 18624,\n 'charlton': 5581,\n 'rochdale': 22503,\n 'sheff': 23694,\n 'rotherham': 22619,\n 'yeovil': 28982,\n 'bournemouth': 4388,\n 'chester': 5670,\n 'coventry': 7074,\n 'crewe': 7185,\n 'portsmouth': 20212,\n 'gillingham': 11762,\n 'qpr': 20977,\n 'nottm': 18368,\n 'forest': 11045,\n 'matches': 16702,\n 'played': 19977,\n 'ocean': 18531,\n 'raids': 21161,\n 'box': 4407,\n 'office': 18573,\n 'crime': 7194,\n 'caper': 5118,\n 'sequel': 23481,\n 'starring': 24917,\n 'george': 11664,\n 'clooney': 6024,\n 'brad': 4436,\n 'pitt': 19899,\n 'julia': 14790,\n 'roberts': 22482,\n 'gone': 11936,\n 'straight': 25150,\n 'chart': 5586,\n 'took': 26543,\n '40': 850,\n '8m': 1386,\n '21m': 530,\n 'ticket': 26381,\n 'sales': 22866,\n 'studio': 25283,\n 'estimates': 9857,\n 'follows': 10973,\n 'master': 16683,\n 'criminals': 7201,\n 'try': 26963,\n 'pull': 20870,\n 'major': 16373,\n 'heists': 12761,\n 'week': 28372,\n 'national': 17952,\n 'treasure': 26812,\n 'place': 19918,\n 'wesley': 28433,\n 'snipes': 24322,\n 'blade': 4023,\n 'trinity': 26885,\n '16': 249,\n '1m': 462,\n '4m': 971,\n 'rounding': 22636,\n 'animated': 2464,\n 'fable': 10247,\n 'polar': 20096,\n 'express': 10183,\n 'tom': 26516,\n 'hanks': 12467,\n 'festive': 10569,\n 'comedy': 6246,\n 'christmas': 5770,\n 'kranks': 15224,\n 'triumph': 26896,\n 'marks': 16602,\n 'fourth': 11125,\n 'opening': 18696,\n 'december': 7674,\n 'release': 21783,\n 'films': 10658,\n 'lord': 16082,\n 'rings': 22403,\n 'trilogy': 26878,\n 'narrowly': 17932,\n '2001': 470,\n 'predecessor': 20358,\n '38': 815,\n '19': 347,\n '184m': 325,\n '95': 1429,\n 'total': 26603,\n 'remake': 21829,\n '1960s': 410,\n 'film': 10650,\n 'frank': 11174,\n 'sinatra': 24010,\n 'rat': 21275,\n 'pack': 19102,\n 'directed': 8333,\n 'oscar': 18843,\n 'winning': 28632,\n 'director': 8340,\n 'steven': 25035,\n 'soderbergh': 24369,\n 'returns': 22200,\n 'direct': 8331,\n 'hit': 12967,\n 'reunites': 22206,\n 'matt': 16732,\n 'damon': 7499,\n 'garcia': 11498,\n 'elliott': 9388,\n 'gould': 11993,\n 'catherine': 5327,\n 'zeta': 29090,\n 'jones': 14712,\n 'joins': 14686,\n 'star': 24903,\n 'cast': 5282,\n 'fun': 11340,\n 'good': 11945,\n 'holiday': 13040,\n 'movie': 17678,\n 'dan': 7504,\n 'fellman': 10517,\n 'distribution': 8591,\n 'warner': 28239,\n 'bros': 4662,\n 'critics': 7225,\n 'complimentary': 6402,\n '110m': 109,\n '57': 1068,\n '2m': 682,\n 'project': 20664,\n 'los': 16091,\n 'angeles': 2436,\n 'times': 26425,\n 'labelling': 15289,\n 'dispiriting': 8514,\n 'vanity': 27750,\n 'milder': 17208,\n 'review': 22242,\n 'york': 29009,\n 'dubbed': 8994,\n 'unabashedly': 27151,\n 'trivial': 26901,\n 'howard': 13228,\n 'hits': 12976,\n 'mongrel': 17514,\n 'jibe': 14631,\n 'michael': 17142,\n 'peter': 19686,\n 'hain': 12361,\n 'tory': 26595,\n 'leader': 15523,\n 'acting': 1722,\n 'attack': 3000,\n 'shows': 23853,\n 'labour': 15294,\n 'rattled': 21295,\n 'opposition': 18735,\n 'upbeat': 27571,\n 'party': 19320,\n 'spring': 24744,\n 'campaigning': 5046,\n 'tactics': 25814,\n 'proved': 20790,\n 'tories': 26579,\n 'hitting': 12979,\n 'anti': 2535,\n 'terror': 26162,\n 'debate': 7641,\n 'tells': 26087,\n 'little': 15932,\n 'bit': 3991,\n 'commons': 6313,\n 'stance': 24877,\n 'government': 12001,\n 'terrorism': 26164,\n 'legislation': 15612,\n 'country': 7038,\n 'risk': 22427,\n 'behaving': 3691,\n 'sake': 22854,\n 'cling': 5996,\n 'costs': 6995,\n 'far': 10373,\n 'year': 28967,\n 'compared': 6340,\n 'fagin': 10283,\n 'shylock': 23886,\n 'flying': 10935,\n 'pig': 19833,\n 'morning': 17586,\n 'don': 8747,\n 'environment': 9704,\n 'secretary': 23337,\n 'margaret': 16559,\n 'beckett': 3642,\n 'rejected': 21753,\n 'comment': 6273,\n 'telling': 26086,\n 'pm': 20047,\n 'real': 21350,\n 'duty': 9068,\n 'focus': 10942,\n 'proposals': 20726,\n 'examples': 9996,\n 'seeing': 23365,\n 'believe': 3721,\n 'really': 21363,\n 'poor': 20155,\n 'judgement': 14768,\n 'behalf': 3688,\n 'policies': 20104,\n 'schools': 23141,\n 'taxes': 25976,\n 'immigration': 13572,\n 'striking': 25228,\n 'chord': 5745,\n 'voters': 28092,\n 'beginning': 3682,\n 'election': 9323,\n 've': 27792,\n 'political': 20115,\n 'weather': 28337,\n 'denied': 7935,\n 'politics': 20121,\n 'raising': 21182,\n 'case': 5269,\n 'dixon': 8644,\n 'cancelled': 5069,\n 'seven': 23546,\n 'grabbed': 12015,\n 'headlines': 12668,\n 'claims': 5872,\n 'mrs': 17706,\n 'human': 13278,\n 'shield': 23728,\n 'blair': 4026,\n 'plans': 19946,\n 'quotas': 21074,\n 'media': 16921,\n 'coverage': 7076,\n 'racist': 21105,\n 'common': 6310,\n 'sense': 23446,\n 'pledged': 20005,\n 'cleaner': 5940,\n 'hospitals': 13172,\n 'school': 23132,\n 'discipline': 8390,\n 'promise': 20682,\n 'rid': 22342,\n 'correctness': 6946,\n 'curriculum': 7377,\n 'chance': 5520,\n 'decent': 7676,\n 'state': 24933,\n 'education': 9246,\n 'come': 6240,\n 'ordinary': 18774,\n 'family': 10347,\n 'teenage': 26036,\n 'applying': 2627,\n 'cambridge': 5025,\n 'gordon': 11969,\n 'brown': 4672,\n 'love': 16118,\n 'stressed': 25206,\n 'commitment': 6299,\n 'cut': 7406,\n 'red': 21529,\n 'tape': 25907,\n 'increase': 13747,\n 'basic': 3519,\n 'pension': 19540,\n 'line': 15862,\n 'earnings': 9124,\n 'finished': 10707,\n 'appeal': 2596,\n 'activists': 1735,\n 'day': 7594,\n 'able': 1538,\n 'children': 5701,\n 'grandchildren': 12050,\n 'helped': 12783,\n 'famous': 10350,\n 'ordinator': 18779,\n 'alan': 2095,\n 'milburn': 17206,\n 'confirms': 6540,\n 'strategy': 25175,\n 'opportunism': 18726,\n 'vision': 28009,\n 'reference': 21587,\n 'appearance': 2601,\n 'perfectly': 19583,\n 'entitled': 9683,\n 'pose': 20215,\n 'working': 28781,\n 'families': 10346,\n 'damaged': 7487,\n 'plan': 19934,\n '35bn': 780,\n 'public': 20847,\n 'spending': 24636,\n 'prepares': 20415,\n 'poll': 20122,\n 'date': 7567,\n 'tony': 26542,\n 'likely': 15818,\n 'parliament': 19272,\n 'easter': 9145,\n 'break': 4497,\n 'editor': 9229,\n 'learned': 15558,\n 'andrew': 2423,\n 'marr': 16616,\n 'says': 23037,\n 'ask': 2873,\n 'queen': 21018,\n 'april': 2664,\n 'dissolve': 8558,\n 'resisted': 22063,\n 'calls': 5007,\n 'parties': 19305,\n 'stepped': 25018,\n 'recently': 21436,\n 'downing': 8843,\n 'street': 25196,\n 'saying': 23035,\n 'timing': 26432,\n 'matter': 16734,\n 'prime': 20514,\n 'minister': 17278,\n '10': 68,\n 'spokeswoman': 24698,\n 'announce': 2491,\n 'wants': 28205,\n 'signal': 23940,\n 'frantic': 11181,\n 'westminster': 28444,\n 'key': 15001,\n 'needs': 18023,\n 'finance': 10674,\n 'covering': 7078,\n 'budget': 4748,\n 'passed': 19336,\n 'closes': 6029,\n 'session': 23525,\n 'seek': 23366,\n 'push': 20947,\n 'organised': 18790,\n 'id': 13426,\n 'wednesday': 28366,\n 'level': 15695,\n 'inside': 14012,\n 'doesn': 8697,\n 'expect': 10103,\n 'soon': 24444,\n 'short': 23807,\n 'recess': 21441,\n 'whips': 28486,\n 'asks': 2877,\n 'officially': 18578,\n 'june': 14806,\n '2006': 477,\n 'hold': 13031,\n 'general': 11611,\n 'recent': 21435,\n 'governments': 12003,\n 'favoured': 10443,\n 'henman': 12800,\n 'hopes': 13125,\n 'ended': 9551,\n 'dubai': 8993,\n 'seed': 23361,\n 'slumped': 24225,\n 'defeat': 7756,\n 'rain': 21168,\n 'interrupted': 14188,\n 'open': 18693,\n 'quarter': 21009,\n 'final': 10665,\n 'ivan': 14446,\n 'ljubicic': 15958,\n 'croatian': 7229,\n 'eighth': 9293,\n 'booked': 4278,\n 'victory': 27909,\n 'british': 4597,\n 'looked': 16061,\n 'course': 7056,\n 'match': 16699,\n 'halted': 12395,\n 'intervened': 14195,\n 'seal': 23285,\n 'spanish': 24543,\n 'fifth': 10622,\n 'tommy': 26524,\n 'robredo': 22494,\n 'secured': 23350,\n 'nicolas': 18181,\n 'kiefer': 15047,\n 'germany': 11684,\n 'cursing': 7383,\n 'umpire': 27149,\n 'breaks': 4506,\n 'incredibly': 13754,\n 'frustrating': 11305,\n 'raining': 21175,\n 'kept': 14987,\n 'till': 26413,\n 'score': 23185,\n 'irrelevant': 14362,\n 'couldn': 7011,\n 'happy': 12493,\n 'form': 11063,\n 'desert': 8053,\n 'wilkinson': 28567,\n 'fit': 10773,\n 'edinburgh': 9221,\n 'jonny': 14716,\n 'long': 16047,\n 'awaited': 3175,\n 'return': 22197,\n 'injury': 13958,\n 'injuring': 13957,\n 'bicep': 3900,\n '17': 282,\n 'october': 18537,\n 'contact': 6712,\n 'training': 26729,\n 'falcons': 10320,\n '25': 583,\n 'fly': 10933,\n 'half': 12375,\n 'start': 24921,\n 'heineken': 12754,\n 'murrayfield': 17795,\n ...}"
     },
     "metadata": {},
     "execution_count": 175
    }
   ],
   "source": [
    "tfidf_vectorizer = TfidfVectorizer(stop_words='english')\n",
    "x_transformed = tfidf_vectorizer.fit_transform(data.text)\n",
    "tfidf_vectorizer.vocabulary_"
   ]
  },
  {
   "cell_type": "markdown",
   "metadata": {},
   "source": [
    "### Setting the transformed data into X and the target variable into Y and Invoking Train-Test split\n",
    "splitting the data 80% training and 20% test with shuffling the data"
   ]
  },
  {
   "cell_type": "code",
   "execution_count": 176,
   "metadata": {},
   "outputs": [],
   "source": [
    "X = x_transformed\n",
    "\n",
    "Y = data.category\n",
    "\n",
    "x_train, x_test, y_train, y_test = train_test_split(X, Y, test_size= 0.2, shuffle= True, random_state = 0)"
   ]
  },
  {
   "cell_type": "markdown",
   "metadata": {},
   "source": [
    "### Linear SVC"
   ]
  },
  {
   "cell_type": "code",
   "execution_count": 177,
   "metadata": {},
   "outputs": [],
   "source": [
    "def linear_svc(x_train, y_train):\n",
    "    linearsvc = LinearSVC(C=1.0, max_iter=1000, tol=1e-3)\n",
    "    linearsvc.fit(x_train, y_train)\n",
    "    return linearsvc"
   ]
  },
  {
   "cell_type": "markdown",
   "metadata": {},
   "source": [
    "### Decison Tree"
   ]
  },
  {
   "cell_type": "code",
   "execution_count": 178,
   "metadata": {},
   "outputs": [],
   "source": [
    "def decision_tree(x_train, y_train):\n",
    "    dtc = DecisionTreeClassifier(max_depth = 10)\n",
    "    dtc.fit(x_train, y_train)\n",
    "    return dtc"
   ]
  },
  {
   "cell_type": "markdown",
   "metadata": {},
   "source": [
    "### MLP Classifier"
   ]
  },
  {
   "cell_type": "code",
   "execution_count": 179,
   "metadata": {},
   "outputs": [],
   "source": [
    "def mlp_model(x_train, y_train):\n",
    "    mlpc = MLPClassifier(activation='relu', hidden_layer_sizes={12,12,12}, solver='adam', verbose=True, max_iter=1000)\n",
    "    mlpc.fit(x_train, y_train)\n",
    "    return mlpc"
   ]
  },
  {
   "cell_type": "markdown",
   "metadata": {},
   "source": [
    "### Build, Train, Test, and evaluate model \n"
   ]
  },
  {
   "cell_type": "code",
   "execution_count": 180,
   "metadata": {},
   "outputs": [],
   "source": [
    "def build_and_train_model(data, target_name, class_fn):\n",
    "    model = class_fn(x_train, y_train)\n",
    "    score = model.score(x_train, y_train)\n",
    "    print(\"Training Score : \", score)\n",
    "    y_pred = model.predict(x_test)\n",
    "\n",
    "    accuracy = accuracy_score(y_test, y_pred)\n",
    "    print(\"Testing Score: \", accuracy)\n",
    "\n",
    "    df_y = pd.DataFrame({'y_test' : y_test, 'y_pred' : y_pred})\n",
    "\n",
    "    print(df_y.sample(10))\n",
    "\n",
    "    return {'model': model,\n",
    "            'x_train' : x_train, 'x_test' : x_test,\n",
    "            'y_train' : y_train, 'y_test' : y_test, \n",
    "            'y_pred' : y_pred, 'sample' : df_y.sample(10)\n",
    "            }"
   ]
  },
  {
   "cell_type": "markdown",
   "metadata": {},
   "source": [
    "Utilizing the build and train model function to predict category of news article with accuracy score for each model on the data. 3 inputs as needed: data file, value to predict(category), and the type of model below. Results in order Training score, Testing/accuracy and the Y_test: actual values and Y_pred = predicted values. "
   ]
  },
  {
   "cell_type": "code",
   "execution_count": 181,
   "metadata": {
    "tags": []
   },
   "outputs": [
    {
     "output_type": "stream",
     "name": "stdout",
     "text": "Training Score :  1.0\nTesting Score:  0.9887640449438202\n             y_test         y_pred\n132           sport          sport\n913        business       business\n1760          sport          sport\n453           sport          sport\n2224          sport          sport\n938           sport          sport\n994           sport          sport\n1199  entertainment  entertainment\n1789  entertainment  entertainment\n1600           tech           tech\n"
    }
   ],
   "source": [
    "Linear_SVC = build_and_train_model(data, 'category', linear_svc)"
   ]
  },
  {
   "cell_type": "code",
   "execution_count": 182,
   "metadata": {
    "tags": []
   },
   "outputs": [
    {
     "output_type": "stream",
     "name": "stdout",
     "text": "Training Score :  0.8449438202247191\nTesting Score:  0.8044943820224719\n             y_test         y_pred\n666        business       business\n2132           tech       business\n1825          sport          sport\n1602  entertainment  entertainment\n1621  entertainment  entertainment\n1474       business       business\n1367       politics       politics\n1629       business       business\n488           sport          sport\n1410  entertainment  entertainment\n"
    }
   ],
   "source": [
    "Decision_tree = build_and_train_model(data, 'category', decision_tree)"
   ]
  },
  {
   "cell_type": "code",
   "execution_count": 183,
   "metadata": {
    "tags": []
   },
   "outputs": [
    {
     "output_type": "stream",
     "name": "stdout",
     "text": "Iteration 1, loss = 1.59810907\nIteration 2, loss = 1.52356628\nIteration 3, loss = 1.44135883\nIteration 4, loss = 1.35783637\nIteration 5, loss = 1.27464114\nIteration 6, loss = 1.19156165\nIteration 7, loss = 1.10956361\nIteration 8, loss = 1.02860171\nIteration 9, loss = 0.94997119\nIteration 10, loss = 0.87391226\nIteration 11, loss = 0.80109446\nIteration 12, loss = 0.73219931\nIteration 13, loss = 0.66799622\nIteration 14, loss = 0.60797355\nIteration 15, loss = 0.55305704\nIteration 16, loss = 0.50263401\nIteration 17, loss = 0.45711633\nIteration 18, loss = 0.41579863\nIteration 19, loss = 0.37858064\nIteration 20, loss = 0.34508427\nIteration 21, loss = 0.31510952\nIteration 22, loss = 0.28803693\nIteration 23, loss = 0.26390753\nIteration 24, loss = 0.24217824\nIteration 25, loss = 0.22260972\nIteration 26, loss = 0.20508255\nIteration 27, loss = 0.18922033\nIteration 28, loss = 0.17502828\nIteration 29, loss = 0.16214096\nIteration 30, loss = 0.15051377\nIteration 31, loss = 0.13999174\nIteration 32, loss = 0.13044011\nIteration 33, loss = 0.12173615\nIteration 34, loss = 0.11387626\nIteration 35, loss = 0.10665920\nIteration 36, loss = 0.10005254\nIteration 37, loss = 0.09402074\nIteration 38, loss = 0.08852196\nIteration 39, loss = 0.08341149\nIteration 40, loss = 0.07872398\nIteration 41, loss = 0.07442273\nIteration 42, loss = 0.07041294\nIteration 43, loss = 0.06675260\nIteration 44, loss = 0.06331244\nIteration 45, loss = 0.06012146\nIteration 46, loss = 0.05720788\nIteration 47, loss = 0.05443273\nIteration 48, loss = 0.05188817\nIteration 49, loss = 0.04948637\nIteration 50, loss = 0.04725426\nIteration 51, loss = 0.04517952\nIteration 52, loss = 0.04319450\nIteration 53, loss = 0.04136344\nIteration 54, loss = 0.03962892\nIteration 55, loss = 0.03800722\nIteration 56, loss = 0.03647007\nIteration 57, loss = 0.03503531\nIteration 58, loss = 0.03366355\nIteration 59, loss = 0.03239292\nIteration 60, loss = 0.03117374\nIteration 61, loss = 0.03002265\nIteration 62, loss = 0.02893570\nIteration 63, loss = 0.02790866\nIteration 64, loss = 0.02693667\nIteration 65, loss = 0.02600525\nIteration 66, loss = 0.02512856\nIteration 67, loss = 0.02428858\nIteration 68, loss = 0.02350173\nIteration 69, loss = 0.02274049\nIteration 70, loss = 0.02201892\nIteration 71, loss = 0.02133353\nIteration 72, loss = 0.02067716\nIteration 73, loss = 0.02005141\nIteration 74, loss = 0.01946211\nIteration 75, loss = 0.01889428\nIteration 76, loss = 0.01834377\nIteration 77, loss = 0.01782308\nIteration 78, loss = 0.01732449\nIteration 79, loss = 0.01684973\nIteration 80, loss = 0.01639257\nIteration 81, loss = 0.01595234\nIteration 82, loss = 0.01553012\nIteration 83, loss = 0.01513059\nIteration 84, loss = 0.01474291\nIteration 85, loss = 0.01437009\nIteration 86, loss = 0.01401236\nIteration 87, loss = 0.01366907\nIteration 88, loss = 0.01333950\nIteration 89, loss = 0.01302158\nIteration 90, loss = 0.01271820\nIteration 91, loss = 0.01242291\nIteration 92, loss = 0.01213972\nIteration 93, loss = 0.01186337\nIteration 94, loss = 0.01160463\nIteration 95, loss = 0.01134887\nIteration 96, loss = 0.01110282\nIteration 97, loss = 0.01086623\nIteration 98, loss = 0.01063796\nIteration 99, loss = 0.01041672\nIteration 100, loss = 0.01020436\nIteration 101, loss = 0.00999667\nIteration 102, loss = 0.00979807\nIteration 103, loss = 0.00960790\nIteration 104, loss = 0.00941885\nIteration 105, loss = 0.00923789\nIteration 106, loss = 0.00906447\nIteration 107, loss = 0.00889573\nIteration 108, loss = 0.00873074\nIteration 109, loss = 0.00857334\nIteration 110, loss = 0.00841848\nIteration 111, loss = 0.00826903\nIteration 112, loss = 0.00812574\nIteration 113, loss = 0.00798439\nIteration 114, loss = 0.00784774\nIteration 115, loss = 0.00771497\nIteration 116, loss = 0.00758728\nIteration 117, loss = 0.00746207\nIteration 118, loss = 0.00734111\nIteration 119, loss = 0.00722331\nIteration 120, loss = 0.00710970\nIteration 121, loss = 0.00699783\nIteration 122, loss = 0.00688956\nIteration 123, loss = 0.00678555\nIteration 124, loss = 0.00668241\nIteration 125, loss = 0.00658178\nIteration 126, loss = 0.00648572\nIteration 127, loss = 0.00639133\nIteration 128, loss = 0.00629962\nIteration 129, loss = 0.00620994\nIteration 130, loss = 0.00612220\nIteration 131, loss = 0.00603780\nIteration 132, loss = 0.00595412\nIteration 133, loss = 0.00587485\nIteration 134, loss = 0.00579517\nIteration 135, loss = 0.00571879\nIteration 136, loss = 0.00564347\nTraining loss did not improve more than tol=0.000100 for 10 consecutive epochs. Stopping.\nTraining Score :  1.0\nTesting Score:  0.9955056179775281\n        y_test    y_pred\n1116  business  business\n850      sport     sport\n1782  politics  politics\n399   politics  politics\n942      sport     sport\n425      sport     sport\n194       tech      tech\n240   business  business\n1802     sport     sport\n2162      tech      tech\n"
    }
   ],
   "source": [
    "MLP = build_and_train_model(data, 'category', mlp_model)"
   ]
  },
  {
   "cell_type": "code",
   "execution_count": null,
   "metadata": {},
   "outputs": [],
   "source": []
  }
 ]
}